{
 "cells": [
  {
   "cell_type": "markdown",
   "metadata": {
    "slideshow": {
     "slide_type": "slide"
    }
   },
   "source": [
    "# CS 124 Lecture: Skip Lists and Hash Table\n",
    "\n",
    "__Boaz Barak__\n",
    "\n",
    "April 1, 2019"
   ]
  },
  {
   "cell_type": "markdown",
   "metadata": {
    "slideshow": {
     "slide_type": "slide"
    }
   },
   "source": [
    "# Skip lists"
   ]
  },
  {
   "cell_type": "code",
   "execution_count": null,
   "metadata": {
    "slideshow": {
     "slide_type": "skip"
    }
   },
   "outputs": [],
   "source": [
    "import graphviz\n",
    "from graphviz import Graph\n",
    "from graphviz import Digraph\n",
    "# Graph visualization library - requires graphviz on your system\n",
    "# On Anaconda can install by\n",
    "# conda install -c anaconda graphviz  (or download at https://www.graphviz.org/download/ )\n",
    "# conda install -c conda-forge python-graphviz"
   ]
  },
  {
   "cell_type": "code",
   "execution_count": null,
   "metadata": {
    "slideshow": {
     "slide_type": "skip"
    }
   },
   "outputs": [],
   "source": [
    "import random"
   ]
  },
  {
   "cell_type": "code",
   "execution_count": null,
   "metadata": {
    "slideshow": {
     "slide_type": "skip"
    }
   },
   "outputs": [],
   "source": [
    "def method(cls,f):\n",
    "    setattr(cls,f.__name__,f)"
   ]
  },
  {
   "cell_type": "code",
   "execution_count": null,
   "metadata": {
    "slideshow": {
     "slide_type": "fragment"
    }
   },
   "outputs": [],
   "source": [
    "INF = 100000000 # Our proxy for \"infinity\""
   ]
  },
  {
   "cell_type": "code",
   "execution_count": null,
   "metadata": {
    "slideshow": {
     "slide_type": "skip"
    }
   },
   "outputs": [],
   "source": [
    "PRINT_COIN = True\n",
    "\n",
    "def coin():\n",
    "    \"\"\"Toss random coin\"\"\"\n",
    "    c =  random.choice([0,1])\n",
    "    if PRINT_COIN: print([\"TAIL\",\"HEAD\"][c], end= \" \")\n",
    "    return c"
   ]
  },
  {
   "cell_type": "code",
   "execution_count": null,
   "metadata": {
    "slideshow": {
     "slide_type": "slide"
    }
   },
   "outputs": [],
   "source": [
    "class Node:\n",
    "    \"\"\"A node in a skip list. \n",
    "    Contains the key and pointers to right and down neighbors.\"\"\"\n",
    "    def __init__(self,key,right=None,down=None): \n",
    "        self.key = key\n",
    "        self.right = right\n",
    "        self.down = down\n"
   ]
  },
  {
   "cell_type": "code",
   "execution_count": null,
   "metadata": {
    "slideshow": {
     "slide_type": "fragment"
    }
   },
   "outputs": [],
   "source": [
    "class SkipList:\n",
    "    \"\"\"A skip list contains the pointer to its top left node.\n",
    "    It is initialized with top-left's key = -∞ and its right neighbor's key = +∞ \"\"\"\n",
    "    def __init__(self):\n",
    "        topright = Node(+INF)\n",
    "        self.topleft = Node(-INF,topright)"
   ]
  },
  {
   "cell_type": "code",
   "execution_count": null,
   "metadata": {
    "slideshow": {
     "slide_type": "skip"
    }
   },
   "outputs": [],
   "source": [
    "counter = 0\n",
    "\n",
    "def valstr(v):\n",
    "    if v>=INF: return \"+∞\"\n",
    "    if v<=-INF: return \"-∞\"\n",
    "    return str(v)\n",
    "\n",
    "def list2graph(G,n,x=0,y=0):\n",
    "    if not n: return None\n",
    "    global counter\n",
    "    counter += 1\n",
    "    vertex = str(id(n))\n",
    "    G.node(vertex,valstr(n.key), pos = f\"{x},{y}!\")\n",
    "    right = list2graph(G,n.right,x+1,y)\n",
    "    down = list2graph(G,n.down,x,y-1)\n",
    "    if right: G.edge(vertex,right)\n",
    "    if down: G.edge(vertex,down)\n",
    "    return vertex\n",
    "\n",
    "def _repr_svg_(self):\n",
    "    G =Digraph(engine=\"neato\",graph_attr= {\"concentrate\":\"true\"} )\n",
    "    list2graph(G,self.topleft)\n",
    "    return G._repr_svg_()\n",
    "\n",
    "method(SkipList,_repr_svg_)"
   ]
  },
  {
   "cell_type": "code",
   "execution_count": null,
   "metadata": {
    "slideshow": {
     "slide_type": "slide"
    }
   },
   "outputs": [],
   "source": [
    "def pred_(n,val):\n",
    "    \"\"\"Predecessor query main function: \n",
    "    Given n, find the node to the right and down from n with key ≤ val\"\"\"\n",
    "    if n.right.key<=val: return pred_(n.right,val) # move right\n",
    "    if not n.down: return n # return n if at bottom level \n",
    "    return pred_(n.down,val) # move down"
   ]
  },
  {
   "cell_type": "code",
   "execution_count": null,
   "metadata": {
    "slideshow": {
     "slide_type": "fragment"
    }
   },
   "outputs": [],
   "source": [
    "def pred(self,val):\n",
    "    \"\"\"To compute predecessor on list, run pred_ on the topleft node.\"\"\"\n",
    "    return pred_(self.topleft,val).key"
   ]
  },
  {
   "cell_type": "code",
   "execution_count": null,
   "metadata": {
    "slideshow": {
     "slide_type": "skip"
    }
   },
   "outputs": [],
   "source": [
    "method(SkipList,pred)"
   ]
  },
  {
   "cell_type": "code",
   "execution_count": null,
   "metadata": {
    "slideshow": {
     "slide_type": "slide"
    }
   },
   "outputs": [],
   "source": [
    "def insert_(n,val):\n",
    "    \"\"\"Add a node with key val to the right and down of node n\n",
    "    Return \"STOP\" if there is no promotion\"\"\"\n",
    "    if not n: return None\n",
    "    if n.right.key <= val: return insert_(n.right,val) # move right\n",
    "    \n",
    "    v = insert_(n.down,val)\n",
    "    if v==\"STOP\": return v # no promotion - propagate this back\n",
    "    \n",
    "    # stick temp between n and n.right, temp points down to v:\n",
    "    temp = Node(val,n.right,v) \n",
    "    n.right = temp\n",
    "    if coin(): return temp # promote temp\n",
    "    return \"STOP\" # no promotion"
   ]
  },
  {
   "cell_type": "code",
   "execution_count": null,
   "metadata": {
    "slideshow": {
     "slide_type": "fragment"
    }
   },
   "outputs": [],
   "source": [
    "def insert(self,val):\n",
    "    \"\"\"Add a value to the list\"\"\"\n",
    "    insert_(self.topleft,val)\n",
    "    if self.topleft.right.key < +INF: # make sure top level always -∞,+∞ \n",
    "        topright = Node(+INF)\n",
    "        self.topleft = Node(-INF,topright,self.topleft)\n",
    "    return self"
   ]
  },
  {
   "cell_type": "code",
   "execution_count": null,
   "metadata": {
    "slideshow": {
     "slide_type": "skip"
    }
   },
   "outputs": [],
   "source": [
    "method(SkipList,insert)"
   ]
  },
  {
   "cell_type": "code",
   "execution_count": 98,
   "metadata": {
    "scrolled": true,
    "slideshow": {
     "slide_type": "slide"
    }
   },
   "outputs": [
    {
     "data": {
      "image/svg+xml": [
       "<?xml version=\"1.0\" encoding=\"UTF-8\" standalone=\"no\"?>\r\n",
       "<!DOCTYPE svg PUBLIC \"-//W3C//DTD SVG 1.1//EN\"\r\n",
       " \"http://www.w3.org/Graphics/SVG/1.1/DTD/svg11.dtd\">\r\n",
       "<!-- Generated by graphviz version 2.38.0 (20140413.2041)\r\n",
       " -->\r\n",
       "<!-- Title: %3 Pages: 1 -->\r\n",
       "<svg width=\"134pt\" height=\"44pt\"\r\n",
       " viewBox=\"0.00 0.00 134.00 44.00\" xmlns=\"http://www.w3.org/2000/svg\" xmlns:xlink=\"http://www.w3.org/1999/xlink\">\r\n",
       "<g id=\"graph0\" class=\"graph\" transform=\"scale(1 1) rotate(0) translate(67 22)\">\r\n",
       "<title>%3</title>\r\n",
       "<polygon fill=\"white\" stroke=\"none\" points=\"-67,22 -67,-22 67,-22 67,22 -67,22\"/>\r\n",
       "<!-- 2598123296696 -->\r\n",
       "<g id=\"node1\" class=\"node\"><title>2598123296696</title>\r\n",
       "<ellipse fill=\"none\" stroke=\"black\" cx=\"-36\" cy=\"-0\" rx=\"27\" ry=\"18\"/>\r\n",
       "<text text-anchor=\"middle\" x=\"-36\" y=\"3.7\" font-family=\"Times New Roman,serif\" font-size=\"14.00\">&#45;∞</text>\r\n",
       "</g>\r\n",
       "<!-- 2598123297760 -->\r\n",
       "<g id=\"node2\" class=\"node\"><title>2598123297760</title>\r\n",
       "<ellipse fill=\"none\" stroke=\"black\" cx=\"36\" cy=\"-0\" rx=\"27\" ry=\"18\"/>\r\n",
       "<text text-anchor=\"middle\" x=\"36\" y=\"3.7\" font-family=\"Times New Roman,serif\" font-size=\"14.00\">+∞</text>\r\n",
       "</g>\r\n",
       "<!-- 2598123296696&#45;&gt;2598123297760 -->\r\n",
       "<g id=\"edge1\" class=\"edge\"><title>2598123296696&#45;&gt;2598123297760</title>\r\n",
       "<path fill=\"none\" stroke=\"black\" d=\"M-8.77989,-0C-6.36067,-0 -3.88511,-0 -1.40065,-0\"/>\r\n",
       "<polygon fill=\"black\" stroke=\"black\" points=\"-1.25857,-3.5001 8.7414,-0 -1.25864,3.4999 -1.25857,-3.5001\"/>\r\n",
       "</g>\r\n",
       "</g>\r\n",
       "</svg>\r\n"
      ],
      "text/plain": [
       "<__main__.SkipList at 0x25cec3757f0>"
      ]
     },
     "execution_count": 98,
     "metadata": {},
     "output_type": "execute_result"
    }
   ],
   "source": [
    "L = SkipList()\n",
    "L"
   ]
  },
  {
   "cell_type": "code",
   "execution_count": 102,
   "metadata": {
    "slideshow": {
     "slide_type": "fragment"
    }
   },
   "outputs": [
    {
     "name": "stdout",
     "output_type": "stream",
     "text": [
      "HEAD HEAD TAIL "
     ]
    },
    {
     "data": {
      "image/svg+xml": [
       "<?xml version=\"1.0\" encoding=\"UTF-8\" standalone=\"no\"?>\r\n",
       "<!DOCTYPE svg PUBLIC \"-//W3C//DTD SVG 1.1//EN\"\r\n",
       " \"http://www.w3.org/Graphics/SVG/1.1/DTD/svg11.dtd\">\r\n",
       "<!-- Generated by graphviz version 2.38.0 (20140413.2041)\r\n",
       " -->\r\n",
       "<!-- Title: %3 Pages: 1 -->\r\n",
       "<svg width=\"422pt\" height=\"260pt\"\r\n",
       " viewBox=\"0.00 0.00 422.00 260.00\" xmlns=\"http://www.w3.org/2000/svg\" xmlns:xlink=\"http://www.w3.org/1999/xlink\">\r\n",
       "<g id=\"graph0\" class=\"graph\" transform=\"scale(1 1) rotate(0) translate(151 161.2)\">\r\n",
       "<title>%3</title>\r\n",
       "<polygon fill=\"white\" stroke=\"none\" points=\"-151,98.8 -151,-161.2 271,-161.2 271,98.8 -151,98.8\"/>\r\n",
       "<!-- 2598122957512 -->\r\n",
       "<g id=\"node1\" class=\"node\"><title>2598122957512</title>\r\n",
       "<ellipse fill=\"none\" stroke=\"black\" cx=\"-120\" cy=\"-139.2\" rx=\"27\" ry=\"18\"/>\r\n",
       "<text text-anchor=\"middle\" x=\"-120\" y=\"-135.5\" font-family=\"Times New Roman,serif\" font-size=\"14.00\">&#45;∞</text>\r\n",
       "</g>\r\n",
       "<!-- 2598122958520 -->\r\n",
       "<g id=\"node2\" class=\"node\"><title>2598122958520</title>\r\n",
       "<ellipse fill=\"none\" stroke=\"black\" cx=\"-48\" cy=\"-139.2\" rx=\"27\" ry=\"18\"/>\r\n",
       "<text text-anchor=\"middle\" x=\"-48\" y=\"-135.5\" font-family=\"Times New Roman,serif\" font-size=\"14.00\">+∞</text>\r\n",
       "</g>\r\n",
       "<!-- 2598122957512&#45;&gt;2598122958520 -->\r\n",
       "<g id=\"edge22\" class=\"edge\"><title>2598122957512&#45;&gt;2598122958520</title>\r\n",
       "<path fill=\"none\" stroke=\"black\" d=\"M-92.7799,-139.2C-90.3607,-139.2 -87.8851,-139.2 -85.4006,-139.2\"/>\r\n",
       "<polygon fill=\"black\" stroke=\"black\" points=\"-85.2586,-142.7 -75.2586,-139.2 -85.2586,-135.7 -85.2586,-142.7\"/>\r\n",
       "</g>\r\n",
       "<!-- 2598123295408 -->\r\n",
       "<g id=\"node3\" class=\"node\"><title>2598123295408</title>\r\n",
       "<ellipse fill=\"none\" stroke=\"black\" cx=\"-120\" cy=\"-67.2\" rx=\"27\" ry=\"18\"/>\r\n",
       "<text text-anchor=\"middle\" x=\"-120\" y=\"-63.5\" font-family=\"Times New Roman,serif\" font-size=\"14.00\">&#45;∞</text>\r\n",
       "</g>\r\n",
       "<!-- 2598122957512&#45;&gt;2598123295408 -->\r\n",
       "<g id=\"edge23\" class=\"edge\"><title>2598122957512&#45;&gt;2598123295408</title>\r\n",
       "<path fill=\"none\" stroke=\"black\" d=\"M-120,-121.031C-120,-113.331 -120,-104.174 -120,-95.6166\"/>\r\n",
       "<polygon fill=\"black\" stroke=\"black\" points=\"-116.5,-95.6132 -120,-85.6133 -123.5,-95.6133 -116.5,-95.6132\"/>\r\n",
       "</g>\r\n",
       "<!-- 2598122958688 -->\r\n",
       "<g id=\"node4\" class=\"node\"><title>2598122958688</title>\r\n",
       "<ellipse fill=\"none\" stroke=\"black\" cx=\"-48\" cy=\"-67.2\" rx=\"27\" ry=\"18\"/>\r\n",
       "<text text-anchor=\"middle\" x=\"-48\" y=\"-63.5\" font-family=\"Times New Roman,serif\" font-size=\"14.00\">80</text>\r\n",
       "</g>\r\n",
       "<!-- 2598123295408&#45;&gt;2598122958688 -->\r\n",
       "<g id=\"edge20\" class=\"edge\"><title>2598123295408&#45;&gt;2598122958688</title>\r\n",
       "<path fill=\"none\" stroke=\"black\" d=\"M-92.7799,-67.2C-90.3607,-67.2 -87.8851,-67.2 -85.4006,-67.2\"/>\r\n",
       "<polygon fill=\"black\" stroke=\"black\" points=\"-85.2586,-70.7001 -75.2586,-67.2 -85.2586,-63.7001 -85.2586,-70.7001\"/>\r\n",
       "</g>\r\n",
       "<!-- 2598123296808 -->\r\n",
       "<g id=\"node10\" class=\"node\"><title>2598123296808</title>\r\n",
       "<ellipse fill=\"none\" stroke=\"black\" cx=\"-120\" cy=\"4.8\" rx=\"27\" ry=\"18\"/>\r\n",
       "<text text-anchor=\"middle\" x=\"-120\" y=\"8.5\" font-family=\"Times New Roman,serif\" font-size=\"14.00\">&#45;∞</text>\r\n",
       "</g>\r\n",
       "<!-- 2598123295408&#45;&gt;2598123296808 -->\r\n",
       "<g id=\"edge21\" class=\"edge\"><title>2598123295408&#45;&gt;2598123296808</title>\r\n",
       "<path fill=\"none\" stroke=\"black\" d=\"M-120,-49.0314C-120,-41.331 -120,-32.1743 -120,-23.6166\"/>\r\n",
       "<polygon fill=\"black\" stroke=\"black\" points=\"-116.5,-23.6132 -120,-13.6133 -123.5,-23.6133 -116.5,-23.6132\"/>\r\n",
       "</g>\r\n",
       "<!-- 2598123294904 -->\r\n",
       "<g id=\"node5\" class=\"node\"><title>2598123294904</title>\r\n",
       "<ellipse fill=\"none\" stroke=\"black\" cx=\"24\" cy=\"-67.2\" rx=\"27\" ry=\"18\"/>\r\n",
       "<text text-anchor=\"middle\" x=\"24\" y=\"-63.5\" font-family=\"Times New Roman,serif\" font-size=\"14.00\">+∞</text>\r\n",
       "</g>\r\n",
       "<!-- 2598122958688&#45;&gt;2598123294904 -->\r\n",
       "<g id=\"edge4\" class=\"edge\"><title>2598122958688&#45;&gt;2598123294904</title>\r\n",
       "<path fill=\"none\" stroke=\"black\" d=\"M-20.7799,-67.2C-18.3607,-67.2 -15.8851,-67.2 -13.4006,-67.2\"/>\r\n",
       "<polygon fill=\"black\" stroke=\"black\" points=\"-13.2586,-70.7001 -3.2586,-67.2 -13.2586,-63.7001 -13.2586,-70.7001\"/>\r\n",
       "</g>\r\n",
       "<!-- 2598122956000 -->\r\n",
       "<g id=\"node6\" class=\"node\"><title>2598122956000</title>\r\n",
       "<ellipse fill=\"none\" stroke=\"black\" cx=\"24\" cy=\"4.8\" rx=\"27\" ry=\"18\"/>\r\n",
       "<text text-anchor=\"middle\" x=\"24\" y=\"8.5\" font-family=\"Times New Roman,serif\" font-size=\"14.00\">80</text>\r\n",
       "</g>\r\n",
       "<!-- 2598122958688&#45;&gt;2598122956000 -->\r\n",
       "<g id=\"edge5\" class=\"edge\"><title>2598122958688&#45;&gt;2598122956000</title>\r\n",
       "<path fill=\"none\" stroke=\"black\" d=\"M-32.7307,-51.9307C-22.803,-42.003 -9.68469,-28.8847 1.43634,-17.7637\"/>\r\n",
       "<polygon fill=\"black\" stroke=\"black\" points=\"4.15645,-19.9933 8.75266,-10.4473 -0.793317,-15.0436 4.15645,-19.9933\"/>\r\n",
       "</g>\r\n",
       "<!-- 2598123296920 -->\r\n",
       "<g id=\"node7\" class=\"node\"><title>2598123296920</title>\r\n",
       "<ellipse fill=\"none\" stroke=\"black\" cx=\"96\" cy=\"4.8\" rx=\"27\" ry=\"18\"/>\r\n",
       "<text text-anchor=\"middle\" x=\"96\" y=\"8.5\" font-family=\"Times New Roman,serif\" font-size=\"14.00\">+∞</text>\r\n",
       "</g>\r\n",
       "<!-- 2598122956000&#45;&gt;2598123296920 -->\r\n",
       "<g id=\"edge2\" class=\"edge\"><title>2598122956000&#45;&gt;2598123296920</title>\r\n",
       "<path fill=\"none\" stroke=\"black\" d=\"M51.2201,4.8C53.6393,4.8 56.1149,4.8 58.5994,4.8\"/>\r\n",
       "<polygon fill=\"black\" stroke=\"black\" points=\"58.7414,1.2999 68.7414,4.8 58.7414,8.2999 58.7414,1.2999\"/>\r\n",
       "</g>\r\n",
       "<!-- 2598122958408 -->\r\n",
       "<g id=\"node8\" class=\"node\"><title>2598122958408</title>\r\n",
       "<ellipse fill=\"none\" stroke=\"black\" cx=\"168\" cy=\"76.8\" rx=\"27\" ry=\"18\"/>\r\n",
       "<text text-anchor=\"middle\" x=\"168\" y=\"80.5\" font-family=\"Times New Roman,serif\" font-size=\"14.00\">80</text>\r\n",
       "</g>\r\n",
       "<!-- 2598122956000&#45;&gt;2598122958408 -->\r\n",
       "<g id=\"edge3\" class=\"edge\"><title>2598122956000&#45;&gt;2598122958408</title>\r\n",
       "<path fill=\"none\" stroke=\"black\" d=\"M45.8705,15.7353C70.2222,27.9111 109.762,47.681 137.228,61.4142\"/>\r\n",
       "<polygon fill=\"black\" stroke=\"black\" points=\"139.016,58.3951 146.395,65.9978 135.886,64.6561 139.016,58.3951\"/>\r\n",
       "</g>\r\n",
       "<!-- 2598123297760 -->\r\n",
       "<g id=\"node9\" class=\"node\"><title>2598123297760</title>\r\n",
       "<ellipse fill=\"none\" stroke=\"black\" cx=\"240\" cy=\"76.8\" rx=\"27\" ry=\"18\"/>\r\n",
       "<text text-anchor=\"middle\" x=\"240\" y=\"80.5\" font-family=\"Times New Roman,serif\" font-size=\"14.00\">+∞</text>\r\n",
       "</g>\r\n",
       "<!-- 2598122958408&#45;&gt;2598123297760 -->\r\n",
       "<g id=\"edge1\" class=\"edge\"><title>2598122958408&#45;&gt;2598123297760</title>\r\n",
       "<path fill=\"none\" stroke=\"black\" d=\"M195.22,76.8C197.639,76.8 200.115,76.8 202.599,76.8\"/>\r\n",
       "<polygon fill=\"black\" stroke=\"black\" points=\"202.741,73.2999 212.741,76.8 202.741,80.2999 202.741,73.2999\"/>\r\n",
       "</g>\r\n",
       "<!-- 2598123295072 -->\r\n",
       "<g id=\"node11\" class=\"node\"><title>2598123295072</title>\r\n",
       "<ellipse fill=\"none\" stroke=\"black\" cx=\"-48\" cy=\"4.8\" rx=\"27\" ry=\"18\"/>\r\n",
       "<text text-anchor=\"middle\" x=\"-48\" y=\"8.5\" font-family=\"Times New Roman,serif\" font-size=\"14.00\">25</text>\r\n",
       "</g>\r\n",
       "<!-- 2598123296808&#45;&gt;2598123295072 -->\r\n",
       "<g id=\"edge18\" class=\"edge\"><title>2598123296808&#45;&gt;2598123295072</title>\r\n",
       "<path fill=\"none\" stroke=\"black\" d=\"M-92.7799,4.8C-90.3607,4.8 -87.8851,4.8 -85.4006,4.8\"/>\r\n",
       "<polygon fill=\"black\" stroke=\"black\" points=\"-85.2586,1.2999 -75.2586,4.8 -85.2586,8.2999 -85.2586,1.2999\"/>\r\n",
       "</g>\r\n",
       "<!-- 2598123296696 -->\r\n",
       "<g id=\"node13\" class=\"node\"><title>2598123296696</title>\r\n",
       "<ellipse fill=\"none\" stroke=\"black\" cx=\"-120\" cy=\"76.8\" rx=\"27\" ry=\"18\"/>\r\n",
       "<text text-anchor=\"middle\" x=\"-120\" y=\"80.5\" font-family=\"Times New Roman,serif\" font-size=\"14.00\">&#45;∞</text>\r\n",
       "</g>\r\n",
       "<!-- 2598123296808&#45;&gt;2598123296696 -->\r\n",
       "<g id=\"edge19\" class=\"edge\"><title>2598123296808&#45;&gt;2598123296696</title>\r\n",
       "<path fill=\"none\" stroke=\"black\" d=\"M-120,22.9686C-120,30.669 -120,39.8257 -120,48.3834\"/>\r\n",
       "<polygon fill=\"black\" stroke=\"black\" points=\"-116.5,48.3868 -120,58.3867 -123.5,48.3867 -116.5,48.3868\"/>\r\n",
       "</g>\r\n",
       "<!-- 2598123295072&#45;&gt;2598122956000 -->\r\n",
       "<g id=\"edge11\" class=\"edge\"><title>2598123295072&#45;&gt;2598122956000</title>\r\n",
       "<path fill=\"none\" stroke=\"black\" d=\"M-20.7799,4.8C-18.3607,4.8 -15.8851,4.8 -13.4006,4.8\"/>\r\n",
       "<polygon fill=\"black\" stroke=\"black\" points=\"-13.2586,1.2999 -3.2586,4.8 -13.2586,8.2999 -13.2586,1.2999\"/>\r\n",
       "</g>\r\n",
       "<!-- 2598123296864 -->\r\n",
       "<g id=\"node12\" class=\"node\"><title>2598123296864</title>\r\n",
       "<ellipse fill=\"none\" stroke=\"black\" cx=\"96\" cy=\"76.8\" rx=\"27\" ry=\"18\"/>\r\n",
       "<text text-anchor=\"middle\" x=\"96\" y=\"80.5\" font-family=\"Times New Roman,serif\" font-size=\"14.00\">25</text>\r\n",
       "</g>\r\n",
       "<!-- 2598123295072&#45;&gt;2598123296864 -->\r\n",
       "<g id=\"edge12\" class=\"edge\"><title>2598123295072&#45;&gt;2598123296864</title>\r\n",
       "<path fill=\"none\" stroke=\"black\" d=\"M-26.1295,15.7353C-1.77779,27.9111 37.762,47.681 65.2285,61.4142\"/>\r\n",
       "<polygon fill=\"black\" stroke=\"black\" points=\"67.0165,58.3951 74.3955,65.9978 63.886,64.6561 67.0165,58.3951\"/>\r\n",
       "</g>\r\n",
       "<!-- 2598123296864&#45;&gt;2598122958408 -->\r\n",
       "<g id=\"edge10\" class=\"edge\"><title>2598123296864&#45;&gt;2598122958408</title>\r\n",
       "<path fill=\"none\" stroke=\"black\" d=\"M123.22,76.8C125.639,76.8 128.115,76.8 130.599,76.8\"/>\r\n",
       "<polygon fill=\"black\" stroke=\"black\" points=\"130.741,73.2999 140.741,76.8 130.741,80.2999 130.741,73.2999\"/>\r\n",
       "</g>\r\n",
       "<!-- 2598123112712 -->\r\n",
       "<g id=\"node14\" class=\"node\"><title>2598123112712</title>\r\n",
       "<ellipse fill=\"none\" stroke=\"black\" cx=\"-48\" cy=\"76.8\" rx=\"27\" ry=\"18\"/>\r\n",
       "<text text-anchor=\"middle\" x=\"-48\" y=\"80.5\" font-family=\"Times New Roman,serif\" font-size=\"14.00\">3</text>\r\n",
       "</g>\r\n",
       "<!-- 2598123296696&#45;&gt;2598123112712 -->\r\n",
       "<g id=\"edge17\" class=\"edge\"><title>2598123296696&#45;&gt;2598123112712</title>\r\n",
       "<path fill=\"none\" stroke=\"black\" d=\"M-92.7799,76.8C-90.3607,76.8 -87.8851,76.8 -85.4006,76.8\"/>\r\n",
       "<polygon fill=\"black\" stroke=\"black\" points=\"-85.2586,73.2999 -75.2586,76.8 -85.2586,80.2999 -85.2586,73.2999\"/>\r\n",
       "</g>\r\n",
       "<!-- 2598123295576 -->\r\n",
       "<g id=\"node15\" class=\"node\"><title>2598123295576</title>\r\n",
       "<ellipse fill=\"none\" stroke=\"black\" cx=\"24\" cy=\"76.8\" rx=\"27\" ry=\"18\"/>\r\n",
       "<text text-anchor=\"middle\" x=\"24\" y=\"80.5\" font-family=\"Times New Roman,serif\" font-size=\"14.00\">18</text>\r\n",
       "</g>\r\n",
       "<!-- 2598123112712&#45;&gt;2598123295576 -->\r\n",
       "<g id=\"edge16\" class=\"edge\"><title>2598123112712&#45;&gt;2598123295576</title>\r\n",
       "<path fill=\"none\" stroke=\"black\" d=\"M-20.7799,76.8C-18.3607,76.8 -15.8851,76.8 -13.4006,76.8\"/>\r\n",
       "<polygon fill=\"black\" stroke=\"black\" points=\"-13.2586,73.2999 -3.2586,76.8 -13.2586,80.2999 -13.2586,73.2999\"/>\r\n",
       "</g>\r\n",
       "<!-- 2598123295576&#45;&gt;2598123296864 -->\r\n",
       "<g id=\"edge15\" class=\"edge\"><title>2598123295576&#45;&gt;2598123296864</title>\r\n",
       "<path fill=\"none\" stroke=\"black\" d=\"M51.2201,76.8C53.6393,76.8 56.1149,76.8 58.5994,76.8\"/>\r\n",
       "<polygon fill=\"black\" stroke=\"black\" points=\"58.7414,73.2999 68.7414,76.8 58.7414,80.2999 58.7414,73.2999\"/>\r\n",
       "</g>\r\n",
       "</g>\r\n",
       "</svg>\r\n"
      ],
      "text/plain": [
       "<__main__.SkipList at 0x25cec3757f0>"
      ]
     },
     "execution_count": 102,
     "metadata": {},
     "output_type": "execute_result"
    }
   ],
   "source": [
    "L.insert(80)"
   ]
  },
  {
   "cell_type": "code",
   "execution_count": 103,
   "metadata": {
    "slideshow": {
     "slide_type": "slide"
    }
   },
   "outputs": [],
   "source": [
    "PRINT_COIN = False\n",
    "for i in range(5):\n",
    "    L.insert(random.randint(1,300))"
   ]
  },
  {
   "cell_type": "code",
   "execution_count": 104,
   "metadata": {
    "slideshow": {
     "slide_type": "fragment"
    }
   },
   "outputs": [
    {
     "data": {
      "image/svg+xml": [
       "<?xml version=\"1.0\" encoding=\"UTF-8\" standalone=\"no\"?>\r\n",
       "<!DOCTYPE svg PUBLIC \"-//W3C//DTD SVG 1.1//EN\"\r\n",
       " \"http://www.w3.org/Graphics/SVG/1.1/DTD/svg11.dtd\">\r\n",
       "<!-- Generated by graphviz version 2.38.0 (20140413.2041)\r\n",
       " -->\r\n",
       "<!-- Title: %3 Pages: 1 -->\r\n",
       "<svg width=\"782pt\" height=\"332pt\"\r\n",
       " viewBox=\"0.00 0.00 782.00 332.00\" xmlns=\"http://www.w3.org/2000/svg\" xmlns:xlink=\"http://www.w3.org/1999/xlink\">\r\n",
       "<g id=\"graph0\" class=\"graph\" transform=\"scale(1 1) rotate(0) translate(255 222)\">\r\n",
       "<title>%3</title>\r\n",
       "<polygon fill=\"white\" stroke=\"none\" points=\"-255,110 -255,-222 527,-222 527,110 -255,110\"/>\r\n",
       "<!-- 2598123208376 -->\r\n",
       "<g id=\"node1\" class=\"node\"><title>2598123208376</title>\r\n",
       "<ellipse fill=\"none\" stroke=\"black\" cx=\"-224\" cy=\"-200\" rx=\"27\" ry=\"18\"/>\r\n",
       "<text text-anchor=\"middle\" x=\"-224\" y=\"-196.3\" font-family=\"Times New Roman,serif\" font-size=\"14.00\">&#45;∞</text>\r\n",
       "</g>\r\n",
       "<!-- 2598123205296 -->\r\n",
       "<g id=\"node2\" class=\"node\"><title>2598123205296</title>\r\n",
       "<ellipse fill=\"none\" stroke=\"black\" cx=\"-152\" cy=\"-200\" rx=\"27\" ry=\"18\"/>\r\n",
       "<text text-anchor=\"middle\" x=\"-152\" y=\"-196.3\" font-family=\"Times New Roman,serif\" font-size=\"14.00\">+∞</text>\r\n",
       "</g>\r\n",
       "<!-- 2598123208376&#45;&gt;2598123205296 -->\r\n",
       "<g id=\"edge141\" class=\"edge\"><title>2598123208376&#45;&gt;2598123205296</title>\r\n",
       "<path fill=\"none\" stroke=\"black\" d=\"M-196.78,-200C-194.361,-200 -191.885,-200 -189.401,-200\"/>\r\n",
       "<polygon fill=\"black\" stroke=\"black\" points=\"-189.259,-203.5 -179.259,-200 -189.259,-196.5 -189.259,-203.5\"/>\r\n",
       "</g>\r\n",
       "<!-- 2598122957512 -->\r\n",
       "<g id=\"node3\" class=\"node\"><title>2598122957512</title>\r\n",
       "<ellipse fill=\"none\" stroke=\"black\" cx=\"-224\" cy=\"-128\" rx=\"27\" ry=\"18\"/>\r\n",
       "<text text-anchor=\"middle\" x=\"-224\" y=\"-124.3\" font-family=\"Times New Roman,serif\" font-size=\"14.00\">&#45;∞</text>\r\n",
       "</g>\r\n",
       "<!-- 2598123208376&#45;&gt;2598122957512 -->\r\n",
       "<g id=\"edge142\" class=\"edge\"><title>2598123208376&#45;&gt;2598122957512</title>\r\n",
       "<path fill=\"none\" stroke=\"black\" d=\"M-224,-181.831C-224,-174.131 -224,-164.974 -224,-156.417\"/>\r\n",
       "<polygon fill=\"black\" stroke=\"black\" points=\"-220.5,-156.413 -224,-146.413 -227.5,-156.413 -220.5,-156.413\"/>\r\n",
       "</g>\r\n",
       "<!-- 2598123208096 -->\r\n",
       "<g id=\"node4\" class=\"node\"><title>2598123208096</title>\r\n",
       "<ellipse fill=\"none\" stroke=\"black\" cx=\"-152\" cy=\"-128\" rx=\"27\" ry=\"18\"/>\r\n",
       "<text text-anchor=\"middle\" x=\"-152\" y=\"-124.3\" font-family=\"Times New Roman,serif\" font-size=\"14.00\">25</text>\r\n",
       "</g>\r\n",
       "<!-- 2598122957512&#45;&gt;2598123208096 -->\r\n",
       "<g id=\"edge139\" class=\"edge\"><title>2598122957512&#45;&gt;2598123208096</title>\r\n",
       "<path fill=\"none\" stroke=\"black\" d=\"M-196.78,-128C-194.361,-128 -191.885,-128 -189.401,-128\"/>\r\n",
       "<polygon fill=\"black\" stroke=\"black\" points=\"-189.259,-131.5 -179.259,-128 -189.259,-124.5 -189.259,-131.5\"/>\r\n",
       "</g>\r\n",
       "<!-- 2598123295408 -->\r\n",
       "<g id=\"node21\" class=\"node\"><title>2598123295408</title>\r\n",
       "<ellipse fill=\"none\" stroke=\"black\" cx=\"-224\" cy=\"-56\" rx=\"27\" ry=\"18\"/>\r\n",
       "<text text-anchor=\"middle\" x=\"-224\" y=\"-52.3\" font-family=\"Times New Roman,serif\" font-size=\"14.00\">&#45;∞</text>\r\n",
       "</g>\r\n",
       "<!-- 2598122957512&#45;&gt;2598123295408 -->\r\n",
       "<g id=\"edge140\" class=\"edge\"><title>2598122957512&#45;&gt;2598123295408</title>\r\n",
       "<path fill=\"none\" stroke=\"black\" d=\"M-224,-109.831C-224,-102.131 -224,-92.9743 -224,-84.4166\"/>\r\n",
       "<polygon fill=\"black\" stroke=\"black\" points=\"-220.5,-84.4132 -224,-74.4133 -227.5,-84.4133 -220.5,-84.4132\"/>\r\n",
       "</g>\r\n",
       "<!-- 2598122958520 -->\r\n",
       "<g id=\"node5\" class=\"node\"><title>2598122958520</title>\r\n",
       "<ellipse fill=\"none\" stroke=\"black\" cx=\"-80\" cy=\"-128\" rx=\"27\" ry=\"18\"/>\r\n",
       "<text text-anchor=\"middle\" x=\"-80\" y=\"-124.3\" font-family=\"Times New Roman,serif\" font-size=\"14.00\">+∞</text>\r\n",
       "</g>\r\n",
       "<!-- 2598123208096&#45;&gt;2598122958520 -->\r\n",
       "<g id=\"edge47\" class=\"edge\"><title>2598123208096&#45;&gt;2598122958520</title>\r\n",
       "<path fill=\"none\" stroke=\"black\" d=\"M-124.78,-128C-122.361,-128 -119.885,-128 -117.401,-128\"/>\r\n",
       "<polygon fill=\"black\" stroke=\"black\" points=\"-117.259,-131.5 -107.259,-128 -117.259,-124.5 -117.259,-131.5\"/>\r\n",
       "</g>\r\n",
       "<!-- 2598123204680 -->\r\n",
       "<g id=\"node6\" class=\"node\"><title>2598123204680</title>\r\n",
       "<ellipse fill=\"none\" stroke=\"black\" cx=\"-152\" cy=\"-56\" rx=\"27\" ry=\"18\"/>\r\n",
       "<text text-anchor=\"middle\" x=\"-152\" y=\"-52.3\" font-family=\"Times New Roman,serif\" font-size=\"14.00\">25</text>\r\n",
       "</g>\r\n",
       "<!-- 2598123208096&#45;&gt;2598123204680 -->\r\n",
       "<g id=\"edge48\" class=\"edge\"><title>2598123208096&#45;&gt;2598123204680</title>\r\n",
       "<path fill=\"none\" stroke=\"black\" d=\"M-152,-109.831C-152,-102.131 -152,-92.9743 -152,-84.4166\"/>\r\n",
       "<polygon fill=\"black\" stroke=\"black\" points=\"-148.5,-84.4132 -152,-74.4133 -155.5,-84.4133 -148.5,-84.4132\"/>\r\n",
       "</g>\r\n",
       "<!-- 2598123207032 -->\r\n",
       "<g id=\"node7\" class=\"node\"><title>2598123207032</title>\r\n",
       "<ellipse fill=\"none\" stroke=\"black\" cx=\"-80\" cy=\"-56\" rx=\"27\" ry=\"18\"/>\r\n",
       "<text text-anchor=\"middle\" x=\"-80\" y=\"-52.3\" font-family=\"Times New Roman,serif\" font-size=\"14.00\">36</text>\r\n",
       "</g>\r\n",
       "<!-- 2598123204680&#45;&gt;2598123207032 -->\r\n",
       "<g id=\"edge45\" class=\"edge\"><title>2598123204680&#45;&gt;2598123207032</title>\r\n",
       "<path fill=\"none\" stroke=\"black\" d=\"M-124.78,-56C-122.361,-56 -119.885,-56 -117.401,-56\"/>\r\n",
       "<polygon fill=\"black\" stroke=\"black\" points=\"-117.259,-59.5001 -107.259,-56 -117.259,-52.5001 -117.259,-59.5001\"/>\r\n",
       "</g>\r\n",
       "<!-- 2598123205072 -->\r\n",
       "<g id=\"node19\" class=\"node\"><title>2598123205072</title>\r\n",
       "<ellipse fill=\"none\" stroke=\"black\" cx=\"-80\" cy=\"16\" rx=\"27\" ry=\"18\"/>\r\n",
       "<text text-anchor=\"middle\" x=\"-80\" y=\"19.7\" font-family=\"Times New Roman,serif\" font-size=\"14.00\">25</text>\r\n",
       "</g>\r\n",
       "<!-- 2598123204680&#45;&gt;2598123205072 -->\r\n",
       "<g id=\"edge46\" class=\"edge\"><title>2598123204680&#45;&gt;2598123205072</title>\r\n",
       "<path fill=\"none\" stroke=\"black\" d=\"M-136.731,-40.7307C-126.803,-30.803 -113.685,-17.6847 -102.564,-6.56366\"/>\r\n",
       "<polygon fill=\"black\" stroke=\"black\" points=\"-99.8436,-8.79332 -95.2473,0.752662 -104.793,-3.84355 -99.8436,-8.79332\"/>\r\n",
       "</g>\r\n",
       "<!-- 2598122958688 -->\r\n",
       "<g id=\"node8\" class=\"node\"><title>2598122958688</title>\r\n",
       "<ellipse fill=\"none\" stroke=\"black\" cx=\"-8\" cy=\"-56\" rx=\"27\" ry=\"18\"/>\r\n",
       "<text text-anchor=\"middle\" x=\"-8\" y=\"-52.3\" font-family=\"Times New Roman,serif\" font-size=\"14.00\">80</text>\r\n",
       "</g>\r\n",
       "<!-- 2598123207032&#45;&gt;2598122958688 -->\r\n",
       "<g id=\"edge22\" class=\"edge\"><title>2598123207032&#45;&gt;2598122958688</title>\r\n",
       "<path fill=\"none\" stroke=\"black\" d=\"M-52.7799,-56C-50.3607,-56 -47.8851,-56 -45.4007,-56\"/>\r\n",
       "<polygon fill=\"black\" stroke=\"black\" points=\"-45.2586,-59.5001 -35.2586,-56 -45.2586,-52.5001 -45.2586,-59.5001\"/>\r\n",
       "</g>\r\n",
       "<!-- 2598123206976 -->\r\n",
       "<g id=\"node17\" class=\"node\"><title>2598123206976</title>\r\n",
       "<ellipse fill=\"none\" stroke=\"black\" cx=\"-8\" cy=\"16\" rx=\"27\" ry=\"18\"/>\r\n",
       "<text text-anchor=\"middle\" x=\"-8\" y=\"19.7\" font-family=\"Times New Roman,serif\" font-size=\"14.00\">36</text>\r\n",
       "</g>\r\n",
       "<!-- 2598123207032&#45;&gt;2598123206976 -->\r\n",
       "<g id=\"edge23\" class=\"edge\"><title>2598123207032&#45;&gt;2598123206976</title>\r\n",
       "<path fill=\"none\" stroke=\"black\" d=\"M-64.7307,-40.7307C-54.803,-30.803 -41.6847,-17.6847 -30.5637,-6.56366\"/>\r\n",
       "<polygon fill=\"black\" stroke=\"black\" points=\"-27.8436,-8.79332 -23.2473,0.752662 -32.7933,-3.84355 -27.8436,-8.79332\"/>\r\n",
       "</g>\r\n",
       "<!-- 2598123294904 -->\r\n",
       "<g id=\"node9\" class=\"node\"><title>2598123294904</title>\r\n",
       "<ellipse fill=\"none\" stroke=\"black\" cx=\"64\" cy=\"-56\" rx=\"27\" ry=\"18\"/>\r\n",
       "<text text-anchor=\"middle\" x=\"64\" y=\"-52.3\" font-family=\"Times New Roman,serif\" font-size=\"14.00\">+∞</text>\r\n",
       "</g>\r\n",
       "<!-- 2598122958688&#45;&gt;2598123294904 -->\r\n",
       "<g id=\"edge7\" class=\"edge\"><title>2598122958688&#45;&gt;2598123294904</title>\r\n",
       "<path fill=\"none\" stroke=\"black\" d=\"M19.2201,-56C21.6393,-56 24.1149,-56 26.5994,-56\"/>\r\n",
       "<polygon fill=\"black\" stroke=\"black\" points=\"26.7414,-59.5001 36.7414,-56 26.7414,-52.5001 26.7414,-59.5001\"/>\r\n",
       "</g>\r\n",
       "<!-- 2598122956000 -->\r\n",
       "<g id=\"node10\" class=\"node\"><title>2598122956000</title>\r\n",
       "<ellipse fill=\"none\" stroke=\"black\" cx=\"64\" cy=\"16\" rx=\"27\" ry=\"18\"/>\r\n",
       "<text text-anchor=\"middle\" x=\"64\" y=\"19.7\" font-family=\"Times New Roman,serif\" font-size=\"14.00\">80</text>\r\n",
       "</g>\r\n",
       "<!-- 2598122958688&#45;&gt;2598122956000 -->\r\n",
       "<g id=\"edge8\" class=\"edge\"><title>2598122958688&#45;&gt;2598122956000</title>\r\n",
       "<path fill=\"none\" stroke=\"black\" d=\"M7.26935,-40.7307C17.197,-30.803 30.3153,-17.6847 41.4363,-6.56366\"/>\r\n",
       "<polygon fill=\"black\" stroke=\"black\" points=\"44.1565,-8.79332 48.7527,0.752662 39.2067,-3.84355 44.1565,-8.79332\"/>\r\n",
       "</g>\r\n",
       "<!-- 2598123296920 -->\r\n",
       "<g id=\"node11\" class=\"node\"><title>2598123296920</title>\r\n",
       "<ellipse fill=\"none\" stroke=\"black\" cx=\"136\" cy=\"16\" rx=\"27\" ry=\"18\"/>\r\n",
       "<text text-anchor=\"middle\" x=\"136\" y=\"19.7\" font-family=\"Times New Roman,serif\" font-size=\"14.00\">+∞</text>\r\n",
       "</g>\r\n",
       "<!-- 2598122956000&#45;&gt;2598123296920 -->\r\n",
       "<g id=\"edge5\" class=\"edge\"><title>2598122956000&#45;&gt;2598123296920</title>\r\n",
       "<path fill=\"none\" stroke=\"black\" d=\"M91.2201,16C93.6393,16 96.1149,16 98.5993,16\"/>\r\n",
       "<polygon fill=\"black\" stroke=\"black\" points=\"98.7414,12.4999 108.741,16 98.7414,19.4999 98.7414,12.4999\"/>\r\n",
       "</g>\r\n",
       "<!-- 2598122958408 -->\r\n",
       "<g id=\"node12\" class=\"node\"><title>2598122958408</title>\r\n",
       "<ellipse fill=\"none\" stroke=\"black\" cx=\"208\" cy=\"88\" rx=\"27\" ry=\"18\"/>\r\n",
       "<text text-anchor=\"middle\" x=\"208\" y=\"91.7\" font-family=\"Times New Roman,serif\" font-size=\"14.00\">80</text>\r\n",
       "</g>\r\n",
       "<!-- 2598122956000&#45;&gt;2598122958408 -->\r\n",
       "<g id=\"edge6\" class=\"edge\"><title>2598122956000&#45;&gt;2598122958408</title>\r\n",
       "<path fill=\"none\" stroke=\"black\" d=\"M85.8705,26.9353C110.222,39.1111 149.762,58.881 177.228,72.6142\"/>\r\n",
       "<polygon fill=\"black\" stroke=\"black\" points=\"179.016,69.5951 186.395,77.1978 175.886,75.8561 179.016,69.5951\"/>\r\n",
       "</g>\r\n",
       "<!-- 2598123206920 -->\r\n",
       "<g id=\"node13\" class=\"node\"><title>2598123206920</title>\r\n",
       "<ellipse fill=\"none\" stroke=\"black\" cx=\"280\" cy=\"88\" rx=\"27\" ry=\"18\"/>\r\n",
       "<text text-anchor=\"middle\" x=\"280\" y=\"91.7\" font-family=\"Times New Roman,serif\" font-size=\"14.00\">136</text>\r\n",
       "</g>\r\n",
       "<!-- 2598122958408&#45;&gt;2598123206920 -->\r\n",
       "<g id=\"edge4\" class=\"edge\"><title>2598122958408&#45;&gt;2598123206920</title>\r\n",
       "<path fill=\"none\" stroke=\"black\" d=\"M235.22,88C237.639,88 240.115,88 242.599,88\"/>\r\n",
       "<polygon fill=\"black\" stroke=\"black\" points=\"242.741,84.4999 252.741,88 242.741,91.4999 242.741,84.4999\"/>\r\n",
       "</g>\r\n",
       "<!-- 2598123208656 -->\r\n",
       "<g id=\"node14\" class=\"node\"><title>2598123208656</title>\r\n",
       "<ellipse fill=\"none\" stroke=\"black\" cx=\"352\" cy=\"88\" rx=\"27\" ry=\"18\"/>\r\n",
       "<text text-anchor=\"middle\" x=\"352\" y=\"91.7\" font-family=\"Times New Roman,serif\" font-size=\"14.00\">227</text>\r\n",
       "</g>\r\n",
       "<!-- 2598123206920&#45;&gt;2598123208656 -->\r\n",
       "<g id=\"edge3\" class=\"edge\"><title>2598123206920&#45;&gt;2598123208656</title>\r\n",
       "<path fill=\"none\" stroke=\"black\" d=\"M307.22,88C309.639,88 312.115,88 314.599,88\"/>\r\n",
       "<polygon fill=\"black\" stroke=\"black\" points=\"314.741,84.4999 324.741,88 314.741,91.4999 314.741,84.4999\"/>\r\n",
       "</g>\r\n",
       "<!-- 2598123137288 -->\r\n",
       "<g id=\"node15\" class=\"node\"><title>2598123137288</title>\r\n",
       "<ellipse fill=\"none\" stroke=\"black\" cx=\"424\" cy=\"88\" rx=\"27\" ry=\"18\"/>\r\n",
       "<text text-anchor=\"middle\" x=\"424\" y=\"91.7\" font-family=\"Times New Roman,serif\" font-size=\"14.00\">259</text>\r\n",
       "</g>\r\n",
       "<!-- 2598123208656&#45;&gt;2598123137288 -->\r\n",
       "<g id=\"edge2\" class=\"edge\"><title>2598123208656&#45;&gt;2598123137288</title>\r\n",
       "<path fill=\"none\" stroke=\"black\" d=\"M379.22,88C381.639,88 384.115,88 386.599,88\"/>\r\n",
       "<polygon fill=\"black\" stroke=\"black\" points=\"386.741,84.4999 396.741,88 386.741,91.4999 386.741,84.4999\"/>\r\n",
       "</g>\r\n",
       "<!-- 2598123297760 -->\r\n",
       "<g id=\"node16\" class=\"node\"><title>2598123297760</title>\r\n",
       "<ellipse fill=\"none\" stroke=\"black\" cx=\"496\" cy=\"88\" rx=\"27\" ry=\"18\"/>\r\n",
       "<text text-anchor=\"middle\" x=\"496\" y=\"91.7\" font-family=\"Times New Roman,serif\" font-size=\"14.00\">+∞</text>\r\n",
       "</g>\r\n",
       "<!-- 2598123137288&#45;&gt;2598123297760 -->\r\n",
       "<g id=\"edge1\" class=\"edge\"><title>2598123137288&#45;&gt;2598123297760</title>\r\n",
       "<path fill=\"none\" stroke=\"black\" d=\"M451.22,88C453.639,88 456.115,88 458.599,88\"/>\r\n",
       "<polygon fill=\"black\" stroke=\"black\" points=\"458.741,84.4999 468.741,88 458.741,91.4999 458.741,84.4999\"/>\r\n",
       "</g>\r\n",
       "<!-- 2598123206976&#45;&gt;2598122956000 -->\r\n",
       "<g id=\"edge20\" class=\"edge\"><title>2598123206976&#45;&gt;2598122956000</title>\r\n",
       "<path fill=\"none\" stroke=\"black\" d=\"M19.2201,16C21.6393,16 24.1149,16 26.5994,16\"/>\r\n",
       "<polygon fill=\"black\" stroke=\"black\" points=\"26.7414,12.4999 36.7414,16 26.7414,19.4999 26.7414,12.4999\"/>\r\n",
       "</g>\r\n",
       "<!-- 2598123206864 -->\r\n",
       "<g id=\"node18\" class=\"node\"><title>2598123206864</title>\r\n",
       "<ellipse fill=\"none\" stroke=\"black\" cx=\"136\" cy=\"88\" rx=\"27\" ry=\"18\"/>\r\n",
       "<text text-anchor=\"middle\" x=\"136\" y=\"91.7\" font-family=\"Times New Roman,serif\" font-size=\"14.00\">36</text>\r\n",
       "</g>\r\n",
       "<!-- 2598123206976&#45;&gt;2598123206864 -->\r\n",
       "<g id=\"edge21\" class=\"edge\"><title>2598123206976&#45;&gt;2598123206864</title>\r\n",
       "<path fill=\"none\" stroke=\"black\" d=\"M13.8705,26.9353C38.2222,39.1111 77.762,58.881 105.228,72.6142\"/>\r\n",
       "<polygon fill=\"black\" stroke=\"black\" points=\"107.016,69.5951 114.395,77.1978 103.886,75.8561 107.016,69.5951\"/>\r\n",
       "</g>\r\n",
       "<!-- 2598123206864&#45;&gt;2598122958408 -->\r\n",
       "<g id=\"edge19\" class=\"edge\"><title>2598123206864&#45;&gt;2598122958408</title>\r\n",
       "<path fill=\"none\" stroke=\"black\" d=\"M163.22,88C165.639,88 168.115,88 170.599,88\"/>\r\n",
       "<polygon fill=\"black\" stroke=\"black\" points=\"170.741,84.4999 180.741,88 170.741,91.4999 170.741,84.4999\"/>\r\n",
       "</g>\r\n",
       "<!-- 2598123205072&#45;&gt;2598123206976 -->\r\n",
       "<g id=\"edge43\" class=\"edge\"><title>2598123205072&#45;&gt;2598123206976</title>\r\n",
       "<path fill=\"none\" stroke=\"black\" d=\"M-52.7799,16C-50.3607,16 -47.8851,16 -45.4007,16\"/>\r\n",
       "<polygon fill=\"black\" stroke=\"black\" points=\"-45.2586,12.4999 -35.2586,16 -45.2586,19.4999 -45.2586,12.4999\"/>\r\n",
       "</g>\r\n",
       "<!-- 2598123207648 -->\r\n",
       "<g id=\"node20\" class=\"node\"><title>2598123207648</title>\r\n",
       "<ellipse fill=\"none\" stroke=\"black\" cx=\"64\" cy=\"88\" rx=\"27\" ry=\"18\"/>\r\n",
       "<text text-anchor=\"middle\" x=\"64\" y=\"91.7\" font-family=\"Times New Roman,serif\" font-size=\"14.00\">25</text>\r\n",
       "</g>\r\n",
       "<!-- 2598123205072&#45;&gt;2598123207648 -->\r\n",
       "<g id=\"edge44\" class=\"edge\"><title>2598123205072&#45;&gt;2598123207648</title>\r\n",
       "<path fill=\"none\" stroke=\"black\" d=\"M-58.1295,26.9353C-33.7778,39.1111 5.76203,58.881 33.2285,72.6142\"/>\r\n",
       "<polygon fill=\"black\" stroke=\"black\" points=\"35.0165,69.5951 42.3955,77.1978 31.886,75.8561 35.0165,69.5951\"/>\r\n",
       "</g>\r\n",
       "<!-- 2598123207648&#45;&gt;2598123206864 -->\r\n",
       "<g id=\"edge42\" class=\"edge\"><title>2598123207648&#45;&gt;2598123206864</title>\r\n",
       "<path fill=\"none\" stroke=\"black\" d=\"M91.2201,88C93.6393,88 96.1149,88 98.5993,88\"/>\r\n",
       "<polygon fill=\"black\" stroke=\"black\" points=\"98.7414,84.4999 108.741,88 98.7414,91.4999 98.7414,84.4999\"/>\r\n",
       "</g>\r\n",
       "<!-- 2598123295408&#45;&gt;2598123204680 -->\r\n",
       "<g id=\"edge137\" class=\"edge\"><title>2598123295408&#45;&gt;2598123204680</title>\r\n",
       "<path fill=\"none\" stroke=\"black\" d=\"M-196.78,-56C-194.361,-56 -191.885,-56 -189.401,-56\"/>\r\n",
       "<polygon fill=\"black\" stroke=\"black\" points=\"-189.259,-59.5001 -179.259,-56 -189.259,-52.5001 -189.259,-59.5001\"/>\r\n",
       "</g>\r\n",
       "<!-- 2598123296808 -->\r\n",
       "<g id=\"node22\" class=\"node\"><title>2598123296808</title>\r\n",
       "<ellipse fill=\"none\" stroke=\"black\" cx=\"-224\" cy=\"16\" rx=\"27\" ry=\"18\"/>\r\n",
       "<text text-anchor=\"middle\" x=\"-224\" y=\"19.7\" font-family=\"Times New Roman,serif\" font-size=\"14.00\">&#45;∞</text>\r\n",
       "</g>\r\n",
       "<!-- 2598123295408&#45;&gt;2598123296808 -->\r\n",
       "<g id=\"edge138\" class=\"edge\"><title>2598123295408&#45;&gt;2598123296808</title>\r\n",
       "<path fill=\"none\" stroke=\"black\" d=\"M-224,-37.8314C-224,-30.131 -224,-20.9743 -224,-12.4166\"/>\r\n",
       "<polygon fill=\"black\" stroke=\"black\" points=\"-220.5,-12.4132 -224,-2.41327 -227.5,-12.4133 -220.5,-12.4132\"/>\r\n",
       "</g>\r\n",
       "<!-- 2598123295072 -->\r\n",
       "<g id=\"node23\" class=\"node\"><title>2598123295072</title>\r\n",
       "<ellipse fill=\"none\" stroke=\"black\" cx=\"-152\" cy=\"16\" rx=\"27\" ry=\"18\"/>\r\n",
       "<text text-anchor=\"middle\" x=\"-152\" y=\"19.7\" font-family=\"Times New Roman,serif\" font-size=\"14.00\">25</text>\r\n",
       "</g>\r\n",
       "<!-- 2598123296808&#45;&gt;2598123295072 -->\r\n",
       "<g id=\"edge135\" class=\"edge\"><title>2598123296808&#45;&gt;2598123295072</title>\r\n",
       "<path fill=\"none\" stroke=\"black\" d=\"M-196.78,16C-194.361,16 -191.885,16 -189.401,16\"/>\r\n",
       "<polygon fill=\"black\" stroke=\"black\" points=\"-189.259,12.4999 -179.259,16 -189.259,19.4999 -189.259,12.4999\"/>\r\n",
       "</g>\r\n",
       "<!-- 2598123296696 -->\r\n",
       "<g id=\"node25\" class=\"node\"><title>2598123296696</title>\r\n",
       "<ellipse fill=\"none\" stroke=\"black\" cx=\"-224\" cy=\"88\" rx=\"27\" ry=\"18\"/>\r\n",
       "<text text-anchor=\"middle\" x=\"-224\" y=\"91.7\" font-family=\"Times New Roman,serif\" font-size=\"14.00\">&#45;∞</text>\r\n",
       "</g>\r\n",
       "<!-- 2598123296808&#45;&gt;2598123296696 -->\r\n",
       "<g id=\"edge136\" class=\"edge\"><title>2598123296808&#45;&gt;2598123296696</title>\r\n",
       "<path fill=\"none\" stroke=\"black\" d=\"M-224,34.1686C-224,41.869 -224,51.0257 -224,59.5834\"/>\r\n",
       "<polygon fill=\"black\" stroke=\"black\" points=\"-220.5,59.5868 -224,69.5867 -227.5,59.5867 -220.5,59.5868\"/>\r\n",
       "</g>\r\n",
       "<!-- 2598123295072&#45;&gt;2598123205072 -->\r\n",
       "<g id=\"edge123\" class=\"edge\"><title>2598123295072&#45;&gt;2598123205072</title>\r\n",
       "<path fill=\"none\" stroke=\"black\" d=\"M-124.78,16C-122.361,16 -119.885,16 -117.401,16\"/>\r\n",
       "<polygon fill=\"black\" stroke=\"black\" points=\"-117.259,12.4999 -107.259,16 -117.259,19.4999 -117.259,12.4999\"/>\r\n",
       "</g>\r\n",
       "<!-- 2598123296864 -->\r\n",
       "<g id=\"node24\" class=\"node\"><title>2598123296864</title>\r\n",
       "<ellipse fill=\"none\" stroke=\"black\" cx=\"-8\" cy=\"88\" rx=\"27\" ry=\"18\"/>\r\n",
       "<text text-anchor=\"middle\" x=\"-8\" y=\"91.7\" font-family=\"Times New Roman,serif\" font-size=\"14.00\">25</text>\r\n",
       "</g>\r\n",
       "<!-- 2598123295072&#45;&gt;2598123296864 -->\r\n",
       "<g id=\"edge124\" class=\"edge\"><title>2598123295072&#45;&gt;2598123296864</title>\r\n",
       "<path fill=\"none\" stroke=\"black\" d=\"M-130.13,26.9353C-105.778,39.1111 -66.238,58.881 -38.7715,72.6142\"/>\r\n",
       "<polygon fill=\"black\" stroke=\"black\" points=\"-36.9835,69.5951 -29.6045,77.1978 -40.114,75.8561 -36.9835,69.5951\"/>\r\n",
       "</g>\r\n",
       "<!-- 2598123296864&#45;&gt;2598123207648 -->\r\n",
       "<g id=\"edge122\" class=\"edge\"><title>2598123296864&#45;&gt;2598123207648</title>\r\n",
       "<path fill=\"none\" stroke=\"black\" d=\"M19.2201,88C21.6393,88 24.1149,88 26.5994,88\"/>\r\n",
       "<polygon fill=\"black\" stroke=\"black\" points=\"26.7414,84.4999 36.7414,88 26.7414,91.4999 26.7414,84.4999\"/>\r\n",
       "</g>\r\n",
       "<!-- 2598123112712 -->\r\n",
       "<g id=\"node26\" class=\"node\"><title>2598123112712</title>\r\n",
       "<ellipse fill=\"none\" stroke=\"black\" cx=\"-152\" cy=\"88\" rx=\"27\" ry=\"18\"/>\r\n",
       "<text text-anchor=\"middle\" x=\"-152\" y=\"91.7\" font-family=\"Times New Roman,serif\" font-size=\"14.00\">3</text>\r\n",
       "</g>\r\n",
       "<!-- 2598123296696&#45;&gt;2598123112712 -->\r\n",
       "<g id=\"edge134\" class=\"edge\"><title>2598123296696&#45;&gt;2598123112712</title>\r\n",
       "<path fill=\"none\" stroke=\"black\" d=\"M-196.78,88C-194.361,88 -191.885,88 -189.401,88\"/>\r\n",
       "<polygon fill=\"black\" stroke=\"black\" points=\"-189.259,84.4999 -179.259,88 -189.259,91.4999 -189.259,84.4999\"/>\r\n",
       "</g>\r\n",
       "<!-- 2598123295576 -->\r\n",
       "<g id=\"node27\" class=\"node\"><title>2598123295576</title>\r\n",
       "<ellipse fill=\"none\" stroke=\"black\" cx=\"-80\" cy=\"88\" rx=\"27\" ry=\"18\"/>\r\n",
       "<text text-anchor=\"middle\" x=\"-80\" y=\"91.7\" font-family=\"Times New Roman,serif\" font-size=\"14.00\">18</text>\r\n",
       "</g>\r\n",
       "<!-- 2598123112712&#45;&gt;2598123295576 -->\r\n",
       "<g id=\"edge133\" class=\"edge\"><title>2598123112712&#45;&gt;2598123295576</title>\r\n",
       "<path fill=\"none\" stroke=\"black\" d=\"M-124.78,88C-122.361,88 -119.885,88 -117.401,88\"/>\r\n",
       "<polygon fill=\"black\" stroke=\"black\" points=\"-117.259,84.4999 -107.259,88 -117.259,91.4999 -117.259,84.4999\"/>\r\n",
       "</g>\r\n",
       "<!-- 2598123295576&#45;&gt;2598123296864 -->\r\n",
       "<g id=\"edge132\" class=\"edge\"><title>2598123295576&#45;&gt;2598123296864</title>\r\n",
       "<path fill=\"none\" stroke=\"black\" d=\"M-52.7799,88C-50.3607,88 -47.8851,88 -45.4007,88\"/>\r\n",
       "<polygon fill=\"black\" stroke=\"black\" points=\"-45.2586,84.4999 -35.2586,88 -45.2586,91.4999 -45.2586,84.4999\"/>\r\n",
       "</g>\r\n",
       "</g>\r\n",
       "</svg>\r\n"
      ],
      "text/plain": [
       "<__main__.SkipList at 0x25cec3757f0>"
      ]
     },
     "execution_count": 104,
     "metadata": {},
     "output_type": "execute_result"
    }
   ],
   "source": [
    "L"
   ]
  },
  {
   "cell_type": "code",
   "execution_count": 105,
   "metadata": {
    "slideshow": {
     "slide_type": "fragment"
    }
   },
   "outputs": [
    {
     "data": {
      "text/plain": [
       "18"
      ]
     },
     "execution_count": 105,
     "metadata": {},
     "output_type": "execute_result"
    }
   ],
   "source": [
    "L.pred(20)"
   ]
  },
  {
   "cell_type": "code",
   "execution_count": null,
   "metadata": {
    "slideshow": {
     "slide_type": "skip"
    }
   },
   "outputs": [],
   "source": [
    "PRINT_COIN = True"
   ]
  },
  {
   "cell_type": "markdown",
   "metadata": {
    "slideshow": {
     "slide_type": "slide"
    }
   },
   "source": [
    "# Hash tables"
   ]
  },
  {
   "cell_type": "code",
   "execution_count": null,
   "metadata": {
    "slideshow": {
     "slide_type": "fragment"
    }
   },
   "outputs": [],
   "source": [
    "filename = 'cs124.csv'\n",
    "# filename = 'CSV_Database_of_Last_Names.csv'\n",
    "\n",
    "import csv\n",
    "students = []\n",
    "with open(filename,encoding='utf8') as csvfile:\n",
    "    dialect = csv.Sniffer().sniff(csvfile.read(1024))\n",
    "    csvfile.seek(0)\n",
    "    reader = csv.reader(csvfile,dialect)\n",
    "    for row in reader:\n",
    "        students += [\"\".join([s.strip() for s in row])]"
   ]
  },
  {
   "cell_type": "code",
   "execution_count": null,
   "metadata": {
    "slideshow": {
     "slide_type": "skip"
    }
   },
   "outputs": [],
   "source": [
    "students = students[1:]"
   ]
  },
  {
   "cell_type": "code",
   "execution_count": 106,
   "metadata": {
    "slideshow": {
     "slide_type": "fragment"
    }
   },
   "outputs": [
    {
     "data": {
      "text/plain": [
       "283"
      ]
     },
     "execution_count": 106,
     "metadata": {},
     "output_type": "execute_result"
    }
   ],
   "source": [
    "len(students)"
   ]
  },
  {
   "cell_type": "code",
   "execution_count": null,
   "metadata": {
    "slideshow": {
     "slide_type": "slide"
    }
   },
   "outputs": [],
   "source": [
    "N = 300"
   ]
  },
  {
   "cell_type": "code",
   "execution_count": null,
   "metadata": {
    "slideshow": {
     "slide_type": "fragment"
    }
   },
   "outputs": [],
   "source": [
    "def letter2number(let): \n",
    "    # Given letter let, returns number from 1 to 26 based on alphabetical order\n",
    "    return ord(let.lower())-ord('a')+1\n",
    "\n",
    "def silly_hash(name):\n",
    "    # Hash  name into a number from 0 to N-1\n",
    "    # N is a global constant\n",
    "    # Simply output first initial (as number from 1 to 26) times the length modulo N \n",
    "    return letter2number(name[0])*len(name) % N"
   ]
  },
  {
   "cell_type": "code",
   "execution_count": 107,
   "metadata": {
    "slideshow": {
     "slide_type": "fragment"
    }
   },
   "outputs": [
    {
     "data": {
      "text/plain": [
       "20"
      ]
     },
     "execution_count": 107,
     "metadata": {},
     "output_type": "execute_result"
    }
   ],
   "source": [
    "silly_hash(\"Boaz Barak\")"
   ]
  },
  {
   "cell_type": "code",
   "execution_count": 108,
   "metadata": {
    "slideshow": {
     "slide_type": "fragment"
    }
   },
   "outputs": [
    {
     "data": {
      "text/plain": [
       "130"
      ]
     },
     "execution_count": 108,
     "metadata": {},
     "output_type": "execute_result"
    }
   ],
   "source": [
    "silly_hash(\"Jelani Nelson\")"
   ]
  },
  {
   "cell_type": "code",
   "execution_count": 109,
   "metadata": {
    "slideshow": {
     "slide_type": "slide"
    }
   },
   "outputs": [],
   "source": [
    "buckets =  [0]*N\n",
    "for name in students:\n",
    "    buckets[silly_hash(name)] += 1"
   ]
  },
  {
   "cell_type": "code",
   "execution_count": null,
   "metadata": {
    "slideshow": {
     "slide_type": "skip"
    }
   },
   "outputs": [],
   "source": [
    "%matplotlib inline"
   ]
  },
  {
   "cell_type": "code",
   "execution_count": null,
   "metadata": {
    "slideshow": {
     "slide_type": "skip"
    }
   },
   "outputs": [],
   "source": [
    "import matplotlib.pyplot as plt"
   ]
  },
  {
   "cell_type": "code",
   "execution_count": 110,
   "metadata": {
    "slideshow": {
     "slide_type": "fragment"
    }
   },
   "outputs": [
    {
     "data": {
      "image/png": "[encoded data removed]",
      "text/plain": [
       "<Figure size 432x288 with 1 Axes>"
      ]
     },
     "metadata": {
      "needs_background": "light"
     },
     "output_type": "display_data"
    }
   ],
   "source": [
    "# Silly hash bucket distribution\n",
    "plt.plot(buckets); plt.xlabel('Buckets'); plt.show()"
   ]
  },
  {
   "cell_type": "code",
   "execution_count": 128,
   "metadata": {
    "slideshow": {
     "slide_type": "slide"
    }
   },
   "outputs": [],
   "source": [
    "NUMBERS = [random.randint(0,N-1) for i in range(30)]"
   ]
  },
  {
   "cell_type": "code",
   "execution_count": 129,
   "metadata": {
    "slideshow": {
     "slide_type": "slide"
    }
   },
   "outputs": [
    {
     "name": "stdout",
     "output_type": "stream",
     "text": [
      "[147, 175, 183, 119, 29, 34, 144, 242, 266, 137, 189, 169, 17, 285, 157, 135, 112, 74, 222, 34, 267, 222, 240, 264, 53, 240, 277, 259, 77, 77]\n"
     ]
    }
   ],
   "source": [
    "print(NUMBERS)"
   ]
  },
  {
   "cell_type": "code",
   "execution_count": 136,
   "metadata": {
    "slideshow": {
     "slide_type": "fragment"
    }
   },
   "outputs": [],
   "source": [
    "def better_hash(name):\n",
    "    # DISCLAIMER: Despite name, DONT USE IT IN YOUR CODE - \n",
    "    # always use BUILT IN or CRYPTOGRAPHIC hash functions\n",
    "    #\n",
    "    # Hashes name into a number from 0 to N-1\n",
    "    # N is a global constant\n",
    "    # Treat name as a sequence (x0,x1,x2,...) of numbers from 1 to 26\n",
    "    # Return sum of xi*NUMBERS[i] mod N\n",
    "    # NUMBERS is a global constant array of numbers that we chose at random once\n",
    "    # and then fixed once and for all\n",
    "    name = name.replace(' ',\"\") # hack to ensure only letters\n",
    "    return sum([letter2number(name[i])*NUMBERS[i] for i in range(len(name))]) % N\n",
    "    "
   ]
  },
  {
   "cell_type": "code",
   "execution_count": 132,
   "metadata": {
    "slideshow": {
     "slide_type": "fragment"
    }
   },
   "outputs": [
    {
     "data": {
      "text/plain": [
       "48"
      ]
     },
     "execution_count": 132,
     "metadata": {},
     "output_type": "execute_result"
    }
   ],
   "source": [
    "better_hash(\"Boaz Barak\")"
   ]
  },
  {
   "cell_type": "code",
   "execution_count": 133,
   "metadata": {
    "slideshow": {
     "slide_type": "fragment"
    }
   },
   "outputs": [
    {
     "data": {
      "text/plain": [
       "94"
      ]
     },
     "execution_count": 133,
     "metadata": {},
     "output_type": "execute_result"
    }
   ],
   "source": [
    "better_hash(\"Jelani Nelson\")"
   ]
  },
  {
   "cell_type": "code",
   "execution_count": 134,
   "metadata": {
    "slideshow": {
     "slide_type": "fragment"
    }
   },
   "outputs": [
    {
     "data": {
      "text/plain": [
       "94"
      ]
     },
     "execution_count": 134,
     "metadata": {},
     "output_type": "execute_result"
    }
   ],
   "source": [
    "better_hash(\"Jelani Nelson\")"
   ]
  },
  {
   "cell_type": "code",
   "execution_count": null,
   "metadata": {
    "slideshow": {
     "slide_type": "skip"
    }
   },
   "outputs": [],
   "source": [
    "sum([i*i for i in buckets])/sum(buckets)"
   ]
  },
  {
   "cell_type": "code",
   "execution_count": 135,
   "metadata": {
    "slideshow": {
     "slide_type": "slide"
    }
   },
   "outputs": [],
   "source": [
    "buckets =  [0]*N\n",
    "for name in students:\n",
    "    buckets[better_hash(name) % N] += 1"
   ]
  },
  {
   "cell_type": "code",
   "execution_count": 137,
   "metadata": {
    "slideshow": {
     "slide_type": "fragment"
    }
   },
   "outputs": [
    {
     "data": {
      "image/png": "[encoded data removed]",
      "text/plain": [
       "<Figure size 432x288 with 1 Axes>"
      ]
     },
     "metadata": {
      "needs_background": "light"
     },
     "output_type": "display_data"
    }
   ],
   "source": [
    "# Better hash bucket distribution\n",
    "plt.plot(buckets); plt.xlabel('Buckets'); plt.show()"
   ]
  },
  {
   "cell_type": "code",
   "execution_count": null,
   "metadata": {
    "slideshow": {
     "slide_type": "skip"
    }
   },
   "outputs": [],
   "source": [
    "sum([i*i for i in buckets])/sum(buckets)"
   ]
  },
  {
   "cell_type": "markdown",
   "metadata": {
    "slideshow": {
     "slide_type": "slide"
    }
   },
   "source": [
    "# Some issues"
   ]
  },
  {
   "cell_type": "markdown",
   "metadata": {
    "slideshow": {
     "slide_type": "slide"
    }
   },
   "source": [
    "## Semantically equal ≠ Hash equal"
   ]
  },
  {
   "cell_type": "code",
   "execution_count": 138,
   "metadata": {
    "slideshow": {
     "slide_type": "fragment"
    }
   },
   "outputs": [
    {
     "data": {
      "text/plain": [
       "48"
      ]
     },
     "execution_count": 138,
     "metadata": {},
     "output_type": "execute_result"
    }
   ],
   "source": [
    "better_hash(\"Boaz Barak\")"
   ]
  },
  {
   "cell_type": "code",
   "execution_count": 139,
   "metadata": {
    "slideshow": {
     "slide_type": "fragment"
    }
   },
   "outputs": [
    {
     "data": {
      "text/plain": [
       "107"
      ]
     },
     "execution_count": 139,
     "metadata": {},
     "output_type": "execute_result"
    }
   ],
   "source": [
    "better_hash(\"Boaz M. Barak\")"
   ]
  },
  {
   "cell_type": "markdown",
   "metadata": {
    "slideshow": {
     "slide_type": "fragment"
    }
   },
   "source": [
    "Need to ensure that $hash(x)=hash(x') \\Leftrightarrow$ $x$ and $x'$ are semantically identical"
   ]
  },
  {
   "cell_type": "markdown",
   "metadata": {
    "slideshow": {
     "slide_type": "slide"
    }
   },
   "source": [
    "## Adversarial data "
   ]
  },
  {
   "cell_type": "markdown",
   "metadata": {
    "slideshow": {
     "slide_type": "fragment"
    }
   },
   "source": [
    "![](hashdos.png)"
   ]
  },
  {
   "cell_type": "markdown",
   "metadata": {
    "slideshow": {
     "slide_type": "slide"
    }
   },
   "source": [
    "If $h:\\{0,1\\}^* \\rightarrow [n]$ is chosen __independently__ of $x_1,\\ldots,x_n$ then expected list size $=O(1)$:\n",
    "\n",
    "$\\Rightarrow$ _total running time_ $=O(n)$."
   ]
  },
  {
   "cell_type": "markdown",
   "metadata": {
    "slideshow": {
     "slide_type": "fragment"
    }
   },
   "source": [
    "If  $x_1,\\ldots,x_n$ chosen __based on__ $h$ then can ensure $h(x_1)=\\ldots = h(x_n)$:\n",
    "\n",
    "$\\Rightarrow$ _total running time_ $=O(n^2)$."
   ]
  },
  {
   "cell_type": "markdown",
   "metadata": {
    "slideshow": {
     "slide_type": "fragment"
    }
   },
   "source": [
    "Used in __denial of service attack__ against PHP, .net, Python, Java, Ruby, Apache,..."
   ]
  },
  {
   "cell_type": "markdown",
   "metadata": {
    "slideshow": {
     "slide_type": "fragment"
    }
   },
   "source": [
    "![](mspatch.png)"
   ]
  }
 ],
 "metadata": {
  "celltoolbar": "Slideshow",
  "kernelspec": {
   "display_name": "Python 3",
   "language": "python",
   "name": "python3"
  },
  "language_info": {
   "codemirror_mode": {
    "name": "ipython",
    "version": 3
   },
   "file_extension": ".py",
   "mimetype": "text/x-python",
   "name": "python",
   "nbconvert_exporter": "python",
   "pygments_lexer": "ipython3",
   "version": "3.7.2"
  }
 },
 "nbformat": 4,
 "nbformat_minor": 2
}
