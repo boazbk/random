{
 "cells": [
  {
   "cell_type": "markdown",
   "metadata": {
    "slideshow": {
     "slide_type": "slide"
    }
   },
   "source": [
    "# CS 124 Lecture: Skip Lists and Hash Table\n",
    "\n",
    "__Boaz Barak__\n",
    "\n",
    "April 1, 2019"
   ]
  },
  {
   "cell_type": "markdown",
   "metadata": {
    "slideshow": {
     "slide_type": "slide"
    }
   },
   "source": [
    "# Skip lists"
   ]
  },
  {
   "cell_type": "code",
   "execution_count": 1,
   "metadata": {
    "slideshow": {
     "slide_type": "skip"
    }
   },
   "outputs": [],
   "source": [
    "import graphviz\n",
    "from graphviz import Graph\n",
    "from graphviz import Digraph\n",
    "# Graph visualization library - requires graphviz on your system\n",
    "# On Anaconda can install by\n",
    "# conda install -c anaconda graphviz  (or download at https://www.graphviz.org/download/ )\n",
    "# conda install -c conda-forge python-graphviz"
   ]
  },
  {
   "cell_type": "code",
   "execution_count": 2,
   "metadata": {
    "slideshow": {
     "slide_type": "skip"
    }
   },
   "outputs": [],
   "source": [
    "import random"
   ]
  },
  {
   "cell_type": "code",
   "execution_count": 3,
   "metadata": {
    "slideshow": {
     "slide_type": "skip"
    }
   },
   "outputs": [],
   "source": [
    "def method(cls,f):\n",
    "    setattr(cls,f.__name__,f)"
   ]
  },
  {
   "cell_type": "code",
   "execution_count": 4,
   "metadata": {
    "slideshow": {
     "slide_type": "fragment"
    }
   },
   "outputs": [],
   "source": [
    "INF = 100000000 # Our proxy for \"infinity\""
   ]
  },
  {
   "cell_type": "code",
   "execution_count": 5,
   "metadata": {
    "slideshow": {
     "slide_type": "fragment"
    }
   },
   "outputs": [],
   "source": [
    "PRINT_COIN = True\n",
    "\n",
    "def coin():\n",
    "    \"\"\"Toss random coin\"\"\"\n",
    "    c =  random.choice([0,1])\n",
    "    if PRINT_COIN: print([\"TAIL\",\"HEAD\"][c], end= \" \")\n",
    "    return c"
   ]
  },
  {
   "cell_type": "code",
   "execution_count": 6,
   "metadata": {
    "slideshow": {
     "slide_type": "slide"
    }
   },
   "outputs": [],
   "source": [
    "class Node:\n",
    "    \"\"\"A node in a skip list. \n",
    "    Contains the key and pointers to right and down neighbors.\"\"\"\n",
    "    def __init__(self,key,right=None,down=None): \n",
    "        self.key = key\n",
    "        self.right = right\n",
    "        self.down = down\n"
   ]
  },
  {
   "cell_type": "code",
   "execution_count": 7,
   "metadata": {
    "slideshow": {
     "slide_type": "fragment"
    }
   },
   "outputs": [],
   "source": [
    "class SkipList:\n",
    "    \"\"\"A skip list contains the pointer to its top left node.\n",
    "    It is initialized with top-left's key = -∞ and its right neighbor's key = +∞ \"\"\"\n",
    "    def __init__(self):\n",
    "        topright = Node(+INF)\n",
    "        self.topleft = Node(-INF,topright)"
   ]
  },
  {
   "cell_type": "code",
   "execution_count": 8,
   "metadata": {
    "slideshow": {
     "slide_type": "skip"
    }
   },
   "outputs": [],
   "source": [
    "counter = 0\n",
    "\n",
    "def valstr(v):\n",
    "    if v>=INF: return \"+∞\"\n",
    "    if v<=-INF: return \"-∞\"\n",
    "    return str(v)\n",
    "\n",
    "def list2graph(G,n,x=0,y=0):\n",
    "    if not n: return None\n",
    "    global counter\n",
    "    counter += 1\n",
    "    vertex = str(id(n))\n",
    "    G.node(vertex,valstr(n.key), pos = f\"{x},{y}!\")\n",
    "    right = list2graph(G,n.right,x+1,y)\n",
    "    down = list2graph(G,n.down,x,y-1)\n",
    "    if right: G.edge(vertex,right)\n",
    "    if down: G.edge(vertex,down)\n",
    "    return vertex\n",
    "\n",
    "def _repr_svg_(self):\n",
    "    G =Digraph(engine=\"neato\",graph_attr= {\"concentrate\":\"true\"} )\n",
    "    list2graph(G,self.topleft)\n",
    "    return G._repr_svg_()\n",
    "\n",
    "method(SkipList,_repr_svg_)"
   ]
  },
  {
   "cell_type": "code",
   "execution_count": 9,
   "metadata": {
    "slideshow": {
     "slide_type": "slide"
    }
   },
   "outputs": [],
   "source": [
    "def pred_(n,val):\n",
    "    \"\"\"Predecessor query main function: \n",
    "    Given n, find the node to the right and down from n with key ≤ val\"\"\"\n",
    "    if n.right.key<=val: return pred_(n.right,val)\n",
    "    if not n.down: return n\n",
    "    return pred_(n.down,val)"
   ]
  },
  {
   "cell_type": "code",
   "execution_count": 10,
   "metadata": {
    "slideshow": {
     "slide_type": "fragment"
    }
   },
   "outputs": [],
   "source": [
    "def pred(self,val):\n",
    "    \"\"\"To compute predecessor on list, run pred_ on the topleft node.\"\"\"\n",
    "    return pred_(self.topleft,val).key"
   ]
  },
  {
   "cell_type": "code",
   "execution_count": 11,
   "metadata": {
    "slideshow": {
     "slide_type": "skip"
    }
   },
   "outputs": [],
   "source": [
    "method(SkipList,pred)"
   ]
  },
  {
   "cell_type": "code",
   "execution_count": 17,
   "metadata": {
    "slideshow": {
     "slide_type": "slide"
    }
   },
   "outputs": [],
   "source": [
    "def insert_(n,val):\n",
    "    \"\"\"\n",
    "    Add a node with key val to the right and down of node n\n",
    "    Return \"STOP\" if there is no promotion \n",
    "    \"\"\"\n",
    "    if not n: return None\n",
    "    if n.right.key <= val: return insert_(n.right,val)\n",
    "    v = insert_(n.down,val)\n",
    "    if v==\"STOP\": return v\n",
    "    temp = Node(val,n.right,v) # stick temp between n and n.right, temp points down to v\n",
    "    n.right = temp\n",
    "    if coin(): return temp\n",
    "    return \"STOP\""
   ]
  },
  {
   "cell_type": "code",
   "execution_count": 18,
   "metadata": {
    "slideshow": {
     "slide_type": "fragment"
    }
   },
   "outputs": [],
   "source": [
    "def insert(self,val):\n",
    "    \"\"\"Add a value to the list\"\"\"\n",
    "    insert_(self.topleft,val)\n",
    "    if self.topleft.right.key < +INF:\n",
    "        topright = Node(+INF)\n",
    "        self.topleft = Node(-INF,topright,self.topleft)\n",
    "    return self\n",
    "    "
   ]
  },
  {
   "cell_type": "code",
   "execution_count": 19,
   "metadata": {
    "slideshow": {
     "slide_type": "fragment"
    }
   },
   "outputs": [],
   "source": [
    "method(SkipList,insert)"
   ]
  },
  {
   "cell_type": "code",
   "execution_count": 25,
   "metadata": {
    "slideshow": {
     "slide_type": "slide"
    }
   },
   "outputs": [
    {
     "data": {
      "image/svg+xml": [
       "<?xml version=\"1.0\" encoding=\"UTF-8\" standalone=\"no\"?>\r\n",
       "<!DOCTYPE svg PUBLIC \"-//W3C//DTD SVG 1.1//EN\"\r\n",
       " \"http://www.w3.org/Graphics/SVG/1.1/DTD/svg11.dtd\">\r\n",
       "<!-- Generated by graphviz version 2.38.0 (20140413.2041)\r\n",
       " -->\r\n",
       "<!-- Title: %3 Pages: 1 -->\r\n",
       "<svg width=\"134pt\" height=\"44pt\"\r\n",
       " viewBox=\"0.00 0.00 134.00 44.00\" xmlns=\"http://www.w3.org/2000/svg\" xmlns:xlink=\"http://www.w3.org/1999/xlink\">\r\n",
       "<g id=\"graph0\" class=\"graph\" transform=\"scale(1 1) rotate(0) translate(67 22)\">\r\n",
       "<title>%3</title>\r\n",
       "<polygon fill=\"white\" stroke=\"none\" points=\"-67,22 -67,-22 67,-22 67,22 -67,22\"/>\r\n",
       "<!-- 2598086992504 -->\r\n",
       "<g id=\"node1\" class=\"node\"><title>2598086992504</title>\r\n",
       "<ellipse fill=\"none\" stroke=\"black\" cx=\"-36\" cy=\"-0\" rx=\"27\" ry=\"18\"/>\r\n",
       "<text text-anchor=\"middle\" x=\"-36\" y=\"3.7\" font-family=\"Times New Roman,serif\" font-size=\"14.00\">&#45;∞</text>\r\n",
       "</g>\r\n",
       "<!-- 2598086992448 -->\r\n",
       "<g id=\"node2\" class=\"node\"><title>2598086992448</title>\r\n",
       "<ellipse fill=\"none\" stroke=\"black\" cx=\"36\" cy=\"-0\" rx=\"27\" ry=\"18\"/>\r\n",
       "<text text-anchor=\"middle\" x=\"36\" y=\"3.7\" font-family=\"Times New Roman,serif\" font-size=\"14.00\">+∞</text>\r\n",
       "</g>\r\n",
       "<!-- 2598086992504&#45;&gt;2598086992448 -->\r\n",
       "<g id=\"edge1\" class=\"edge\"><title>2598086992504&#45;&gt;2598086992448</title>\r\n",
       "<path fill=\"none\" stroke=\"black\" d=\"M-8.77989,-0C-6.36067,-0 -3.88511,-0 -1.40065,-0\"/>\r\n",
       "<polygon fill=\"black\" stroke=\"black\" points=\"-1.25857,-3.5001 8.7414,-0 -1.25864,3.4999 -1.25857,-3.5001\"/>\r\n",
       "</g>\r\n",
       "</g>\r\n",
       "</svg>\r\n"
      ],
      "text/plain": [
       "<__main__.SkipList at 0x25cea0d6208>"
      ]
     },
     "execution_count": 25,
     "metadata": {},
     "output_type": "execute_result"
    }
   ],
   "source": [
    "L = SkipList()\n",
    "L"
   ]
  },
  {
   "cell_type": "code",
   "execution_count": 26,
   "metadata": {
    "slideshow": {
     "slide_type": "fragment"
    }
   },
   "outputs": [
    {
     "data": {
      "image/svg+xml": [
       "<?xml version=\"1.0\" encoding=\"UTF-8\" standalone=\"no\"?>\r\n",
       "<!DOCTYPE svg PUBLIC \"-//W3C//DTD SVG 1.1//EN\"\r\n",
       " \"http://www.w3.org/Graphics/SVG/1.1/DTD/svg11.dtd\">\r\n",
       "<!-- Generated by graphviz version 2.38.0 (20140413.2041)\r\n",
       " -->\r\n",
       "<!-- Title: %3 Pages: 1 -->\r\n",
       "<svg width=\"422pt\" height=\"260pt\"\r\n",
       " viewBox=\"0.00 0.00 422.00 260.00\" xmlns=\"http://www.w3.org/2000/svg\" xmlns:xlink=\"http://www.w3.org/1999/xlink\">\r\n",
       "<g id=\"graph0\" class=\"graph\" transform=\"scale(1 1) rotate(0) translate(151 161.2)\">\r\n",
       "<title>%3</title>\r\n",
       "<polygon fill=\"white\" stroke=\"none\" points=\"-151,98.8 -151,-161.2 271,-161.2 271,98.8 -151,98.8\"/>\r\n",
       "<!-- 2598086994296 -->\r\n",
       "<g id=\"node1\" class=\"node\"><title>2598086994296</title>\r\n",
       "<ellipse fill=\"none\" stroke=\"black\" cx=\"-120\" cy=\"-139.2\" rx=\"27\" ry=\"18\"/>\r\n",
       "<text text-anchor=\"middle\" x=\"-120\" y=\"-135.5\" font-family=\"Times New Roman,serif\" font-size=\"14.00\">&#45;∞</text>\r\n",
       "</g>\r\n",
       "<!-- 2598086994240 -->\r\n",
       "<g id=\"node2\" class=\"node\"><title>2598086994240</title>\r\n",
       "<ellipse fill=\"none\" stroke=\"black\" cx=\"-48\" cy=\"-139.2\" rx=\"27\" ry=\"18\"/>\r\n",
       "<text text-anchor=\"middle\" x=\"-48\" y=\"-135.5\" font-family=\"Times New Roman,serif\" font-size=\"14.00\">+∞</text>\r\n",
       "</g>\r\n",
       "<!-- 2598086994296&#45;&gt;2598086994240 -->\r\n",
       "<g id=\"edge26\" class=\"edge\"><title>2598086994296&#45;&gt;2598086994240</title>\r\n",
       "<path fill=\"none\" stroke=\"black\" d=\"M-92.7799,-139.2C-90.3607,-139.2 -87.8851,-139.2 -85.4006,-139.2\"/>\r\n",
       "<polygon fill=\"black\" stroke=\"black\" points=\"-85.2586,-142.7 -75.2586,-139.2 -85.2586,-135.7 -85.2586,-142.7\"/>\r\n",
       "</g>\r\n",
       "<!-- 2598086994016 -->\r\n",
       "<g id=\"node3\" class=\"node\"><title>2598086994016</title>\r\n",
       "<ellipse fill=\"none\" stroke=\"black\" cx=\"-120\" cy=\"-67.2\" rx=\"27\" ry=\"18\"/>\r\n",
       "<text text-anchor=\"middle\" x=\"-120\" y=\"-63.5\" font-family=\"Times New Roman,serif\" font-size=\"14.00\">&#45;∞</text>\r\n",
       "</g>\r\n",
       "<!-- 2598086994296&#45;&gt;2598086994016 -->\r\n",
       "<g id=\"edge27\" class=\"edge\"><title>2598086994296&#45;&gt;2598086994016</title>\r\n",
       "<path fill=\"none\" stroke=\"black\" d=\"M-120,-121.031C-120,-113.331 -120,-104.174 -120,-95.6166\"/>\r\n",
       "<polygon fill=\"black\" stroke=\"black\" points=\"-116.5,-95.6132 -120,-85.6133 -123.5,-95.6133 -116.5,-95.6132\"/>\r\n",
       "</g>\r\n",
       "<!-- 2598086994184 -->\r\n",
       "<g id=\"node4\" class=\"node\"><title>2598086994184</title>\r\n",
       "<ellipse fill=\"none\" stroke=\"black\" cx=\"-48\" cy=\"-67.2\" rx=\"27\" ry=\"18\"/>\r\n",
       "<text text-anchor=\"middle\" x=\"-48\" y=\"-63.5\" font-family=\"Times New Roman,serif\" font-size=\"14.00\">8</text>\r\n",
       "</g>\r\n",
       "<!-- 2598086994016&#45;&gt;2598086994184 -->\r\n",
       "<g id=\"edge24\" class=\"edge\"><title>2598086994016&#45;&gt;2598086994184</title>\r\n",
       "<path fill=\"none\" stroke=\"black\" d=\"M-92.7799,-67.2C-90.3607,-67.2 -87.8851,-67.2 -85.4006,-67.2\"/>\r\n",
       "<polygon fill=\"black\" stroke=\"black\" points=\"-85.2586,-70.7001 -75.2586,-67.2 -85.2586,-63.7001 -85.2586,-70.7001\"/>\r\n",
       "</g>\r\n",
       "<!-- 2598086993736 -->\r\n",
       "<g id=\"node12\" class=\"node\"><title>2598086993736</title>\r\n",
       "<ellipse fill=\"none\" stroke=\"black\" cx=\"-120\" cy=\"4.8\" rx=\"27\" ry=\"18\"/>\r\n",
       "<text text-anchor=\"middle\" x=\"-120\" y=\"8.5\" font-family=\"Times New Roman,serif\" font-size=\"14.00\">&#45;∞</text>\r\n",
       "</g>\r\n",
       "<!-- 2598086994016&#45;&gt;2598086993736 -->\r\n",
       "<g id=\"edge25\" class=\"edge\"><title>2598086994016&#45;&gt;2598086993736</title>\r\n",
       "<path fill=\"none\" stroke=\"black\" d=\"M-120,-49.0314C-120,-41.331 -120,-32.1743 -120,-23.6166\"/>\r\n",
       "<polygon fill=\"black\" stroke=\"black\" points=\"-116.5,-23.6132 -120,-13.6133 -123.5,-23.6133 -116.5,-23.6132\"/>\r\n",
       "</g>\r\n",
       "<!-- 2598086993960 -->\r\n",
       "<g id=\"node5\" class=\"node\"><title>2598086993960</title>\r\n",
       "<ellipse fill=\"none\" stroke=\"black\" cx=\"24\" cy=\"-67.2\" rx=\"27\" ry=\"18\"/>\r\n",
       "<text text-anchor=\"middle\" x=\"24\" y=\"-63.5\" font-family=\"Times New Roman,serif\" font-size=\"14.00\">+∞</text>\r\n",
       "</g>\r\n",
       "<!-- 2598086994184&#45;&gt;2598086993960 -->\r\n",
       "<g id=\"edge8\" class=\"edge\"><title>2598086994184&#45;&gt;2598086993960</title>\r\n",
       "<path fill=\"none\" stroke=\"black\" d=\"M-20.7799,-67.2C-18.3607,-67.2 -15.8851,-67.2 -13.4006,-67.2\"/>\r\n",
       "<polygon fill=\"black\" stroke=\"black\" points=\"-13.2586,-70.7001 -3.2586,-67.2 -13.2586,-63.7001 -13.2586,-70.7001\"/>\r\n",
       "</g>\r\n",
       "<!-- 2598086994128 -->\r\n",
       "<g id=\"node6\" class=\"node\"><title>2598086994128</title>\r\n",
       "<ellipse fill=\"none\" stroke=\"black\" cx=\"-48\" cy=\"4.8\" rx=\"27\" ry=\"18\"/>\r\n",
       "<text text-anchor=\"middle\" x=\"-48\" y=\"8.5\" font-family=\"Times New Roman,serif\" font-size=\"14.00\">8</text>\r\n",
       "</g>\r\n",
       "<!-- 2598086994184&#45;&gt;2598086994128 -->\r\n",
       "<g id=\"edge9\" class=\"edge\"><title>2598086994184&#45;&gt;2598086994128</title>\r\n",
       "<path fill=\"none\" stroke=\"black\" d=\"M-48,-49.0314C-48,-41.331 -48,-32.1743 -48,-23.6166\"/>\r\n",
       "<polygon fill=\"black\" stroke=\"black\" points=\"-44.4999,-23.6132 -48,-13.6133 -51.4999,-23.6133 -44.4999,-23.6132\"/>\r\n",
       "</g>\r\n",
       "<!-- 2598086993904 -->\r\n",
       "<g id=\"node7\" class=\"node\"><title>2598086993904</title>\r\n",
       "<ellipse fill=\"none\" stroke=\"black\" cx=\"24\" cy=\"4.8\" rx=\"27\" ry=\"18\"/>\r\n",
       "<text text-anchor=\"middle\" x=\"24\" y=\"8.5\" font-family=\"Times New Roman,serif\" font-size=\"14.00\">29</text>\r\n",
       "</g>\r\n",
       "<!-- 2598086994128&#45;&gt;2598086993904 -->\r\n",
       "<g id=\"edge6\" class=\"edge\"><title>2598086994128&#45;&gt;2598086993904</title>\r\n",
       "<path fill=\"none\" stroke=\"black\" d=\"M-20.7799,4.8C-18.3607,4.8 -15.8851,4.8 -13.4006,4.8\"/>\r\n",
       "<polygon fill=\"black\" stroke=\"black\" points=\"-13.2586,1.2999 -3.2586,4.8 -13.2586,8.2999 -13.2586,1.2999\"/>\r\n",
       "</g>\r\n",
       "<!-- 2598086994072 -->\r\n",
       "<g id=\"node11\" class=\"node\"><title>2598086994072</title>\r\n",
       "<ellipse fill=\"none\" stroke=\"black\" cx=\"96\" cy=\"76.8\" rx=\"27\" ry=\"18\"/>\r\n",
       "<text text-anchor=\"middle\" x=\"96\" y=\"80.5\" font-family=\"Times New Roman,serif\" font-size=\"14.00\">8</text>\r\n",
       "</g>\r\n",
       "<!-- 2598086994128&#45;&gt;2598086994072 -->\r\n",
       "<g id=\"edge7\" class=\"edge\"><title>2598086994128&#45;&gt;2598086994072</title>\r\n",
       "<path fill=\"none\" stroke=\"black\" d=\"M-26.1295,15.7353C-1.77779,27.9111 37.762,47.681 65.2285,61.4142\"/>\r\n",
       "<polygon fill=\"black\" stroke=\"black\" points=\"67.0165,58.3951 74.3955,65.9978 63.886,64.6561 67.0165,58.3951\"/>\r\n",
       "</g>\r\n",
       "<!-- 2598086993680 -->\r\n",
       "<g id=\"node8\" class=\"node\"><title>2598086993680</title>\r\n",
       "<ellipse fill=\"none\" stroke=\"black\" cx=\"96\" cy=\"4.8\" rx=\"27\" ry=\"18\"/>\r\n",
       "<text text-anchor=\"middle\" x=\"96\" y=\"8.5\" font-family=\"Times New Roman,serif\" font-size=\"14.00\">+∞</text>\r\n",
       "</g>\r\n",
       "<!-- 2598086993904&#45;&gt;2598086993680 -->\r\n",
       "<g id=\"edge2\" class=\"edge\"><title>2598086993904&#45;&gt;2598086993680</title>\r\n",
       "<path fill=\"none\" stroke=\"black\" d=\"M51.2201,4.8C53.6393,4.8 56.1149,4.8 58.5994,4.8\"/>\r\n",
       "<polygon fill=\"black\" stroke=\"black\" points=\"58.7414,1.2999 68.7414,4.8 58.7414,8.2999 58.7414,1.2999\"/>\r\n",
       "</g>\r\n",
       "<!-- 2598086993848 -->\r\n",
       "<g id=\"node9\" class=\"node\"><title>2598086993848</title>\r\n",
       "<ellipse fill=\"none\" stroke=\"black\" cx=\"168\" cy=\"76.8\" rx=\"27\" ry=\"18\"/>\r\n",
       "<text text-anchor=\"middle\" x=\"168\" y=\"80.5\" font-family=\"Times New Roman,serif\" font-size=\"14.00\">29</text>\r\n",
       "</g>\r\n",
       "<!-- 2598086993904&#45;&gt;2598086993848 -->\r\n",
       "<g id=\"edge3\" class=\"edge\"><title>2598086993904&#45;&gt;2598086993848</title>\r\n",
       "<path fill=\"none\" stroke=\"black\" d=\"M45.8705,15.7353C70.2222,27.9111 109.762,47.681 137.228,61.4142\"/>\r\n",
       "<polygon fill=\"black\" stroke=\"black\" points=\"139.016,58.3951 146.395,65.9978 135.886,64.6561 139.016,58.3951\"/>\r\n",
       "</g>\r\n",
       "<!-- 2598086992448 -->\r\n",
       "<g id=\"node10\" class=\"node\"><title>2598086992448</title>\r\n",
       "<ellipse fill=\"none\" stroke=\"black\" cx=\"240\" cy=\"76.8\" rx=\"27\" ry=\"18\"/>\r\n",
       "<text text-anchor=\"middle\" x=\"240\" y=\"80.5\" font-family=\"Times New Roman,serif\" font-size=\"14.00\">+∞</text>\r\n",
       "</g>\r\n",
       "<!-- 2598086993848&#45;&gt;2598086992448 -->\r\n",
       "<g id=\"edge1\" class=\"edge\"><title>2598086993848&#45;&gt;2598086992448</title>\r\n",
       "<path fill=\"none\" stroke=\"black\" d=\"M195.22,76.8C197.639,76.8 200.115,76.8 202.599,76.8\"/>\r\n",
       "<polygon fill=\"black\" stroke=\"black\" points=\"202.741,73.2999 212.741,76.8 202.741,80.2999 202.741,73.2999\"/>\r\n",
       "</g>\r\n",
       "<!-- 2598086994072&#45;&gt;2598086993848 -->\r\n",
       "<g id=\"edge5\" class=\"edge\"><title>2598086994072&#45;&gt;2598086993848</title>\r\n",
       "<path fill=\"none\" stroke=\"black\" d=\"M123.22,76.8C125.639,76.8 128.115,76.8 130.599,76.8\"/>\r\n",
       "<polygon fill=\"black\" stroke=\"black\" points=\"130.741,73.2999 140.741,76.8 130.741,80.2999 130.741,73.2999\"/>\r\n",
       "</g>\r\n",
       "<!-- 2598086993736&#45;&gt;2598086994128 -->\r\n",
       "<g id=\"edge22\" class=\"edge\"><title>2598086993736&#45;&gt;2598086994128</title>\r\n",
       "<path fill=\"none\" stroke=\"black\" d=\"M-92.7799,4.8C-90.3607,4.8 -87.8851,4.8 -85.4006,4.8\"/>\r\n",
       "<polygon fill=\"black\" stroke=\"black\" points=\"-85.2586,1.2999 -75.2586,4.8 -85.2586,8.2999 -85.2586,1.2999\"/>\r\n",
       "</g>\r\n",
       "<!-- 2598086992504 -->\r\n",
       "<g id=\"node13\" class=\"node\"><title>2598086992504</title>\r\n",
       "<ellipse fill=\"none\" stroke=\"black\" cx=\"-120\" cy=\"76.8\" rx=\"27\" ry=\"18\"/>\r\n",
       "<text text-anchor=\"middle\" x=\"-120\" y=\"80.5\" font-family=\"Times New Roman,serif\" font-size=\"14.00\">&#45;∞</text>\r\n",
       "</g>\r\n",
       "<!-- 2598086993736&#45;&gt;2598086992504 -->\r\n",
       "<g id=\"edge23\" class=\"edge\"><title>2598086993736&#45;&gt;2598086992504</title>\r\n",
       "<path fill=\"none\" stroke=\"black\" d=\"M-120,22.9686C-120,30.669 -120,39.8257 -120,48.3834\"/>\r\n",
       "<polygon fill=\"black\" stroke=\"black\" points=\"-116.5,48.3868 -120,58.3867 -123.5,48.3867 -116.5,48.3868\"/>\r\n",
       "</g>\r\n",
       "<!-- 2598086993624 -->\r\n",
       "<g id=\"node14\" class=\"node\"><title>2598086993624</title>\r\n",
       "<ellipse fill=\"none\" stroke=\"black\" cx=\"-48\" cy=\"76.8\" rx=\"27\" ry=\"18\"/>\r\n",
       "<text text-anchor=\"middle\" x=\"-48\" y=\"80.5\" font-family=\"Times New Roman,serif\" font-size=\"14.00\">&#45;10</text>\r\n",
       "</g>\r\n",
       "<!-- 2598086992504&#45;&gt;2598086993624 -->\r\n",
       "<g id=\"edge21\" class=\"edge\"><title>2598086992504&#45;&gt;2598086993624</title>\r\n",
       "<path fill=\"none\" stroke=\"black\" d=\"M-92.7799,76.8C-90.3607,76.8 -87.8851,76.8 -85.4006,76.8\"/>\r\n",
       "<polygon fill=\"black\" stroke=\"black\" points=\"-85.2586,73.2999 -75.2586,76.8 -85.2586,80.2999 -85.2586,73.2999\"/>\r\n",
       "</g>\r\n",
       "<!-- 2598086993792 -->\r\n",
       "<g id=\"node15\" class=\"node\"><title>2598086993792</title>\r\n",
       "<ellipse fill=\"none\" stroke=\"black\" cx=\"24\" cy=\"76.8\" rx=\"27\" ry=\"18\"/>\r\n",
       "<text text-anchor=\"middle\" x=\"24\" y=\"80.5\" font-family=\"Times New Roman,serif\" font-size=\"14.00\">5</text>\r\n",
       "</g>\r\n",
       "<!-- 2598086993624&#45;&gt;2598086993792 -->\r\n",
       "<g id=\"edge20\" class=\"edge\"><title>2598086993624&#45;&gt;2598086993792</title>\r\n",
       "<path fill=\"none\" stroke=\"black\" d=\"M-20.7799,76.8C-18.3607,76.8 -15.8851,76.8 -13.4006,76.8\"/>\r\n",
       "<polygon fill=\"black\" stroke=\"black\" points=\"-13.2586,73.2999 -3.2586,76.8 -13.2586,80.2999 -13.2586,73.2999\"/>\r\n",
       "</g>\r\n",
       "<!-- 2598086993792&#45;&gt;2598086994072 -->\r\n",
       "<g id=\"edge19\" class=\"edge\"><title>2598086993792&#45;&gt;2598086994072</title>\r\n",
       "<path fill=\"none\" stroke=\"black\" d=\"M51.2201,76.8C53.6393,76.8 56.1149,76.8 58.5994,76.8\"/>\r\n",
       "<polygon fill=\"black\" stroke=\"black\" points=\"58.7414,73.2999 68.7414,76.8 58.7414,80.2999 58.7414,73.2999\"/>\r\n",
       "</g>\r\n",
       "</g>\r\n",
       "</svg>\r\n"
      ],
      "text/plain": [
       "<__main__.SkipList at 0x25cea0d6208>"
      ]
     },
     "execution_count": 26,
     "metadata": {},
     "output_type": "execute_result"
    }
   ],
   "source": [
    "L.insert(-10).insert(5).insert(29).insert(8)"
   ]
  },
  {
   "cell_type": "code",
   "execution_count": 27,
   "metadata": {
    "slideshow": {
     "slide_type": "slide"
    }
   },
   "outputs": [],
   "source": [
    "PRINT_COIN = False\n",
    "for i in range(5):\n",
    "    L.insert(random.randint(1,300))"
   ]
  },
  {
   "cell_type": "code",
   "execution_count": 28,
   "metadata": {
    "slideshow": {
     "slide_type": "fragment"
    }
   },
   "outputs": [
    {
     "data": {
      "image/svg+xml": [
       "<?xml version=\"1.0\" encoding=\"UTF-8\" standalone=\"no\"?>\r\n",
       "<!DOCTYPE svg PUBLIC \"-//W3C//DTD SVG 1.1//EN\"\r\n",
       " \"http://www.w3.org/Graphics/SVG/1.1/DTD/svg11.dtd\">\r\n",
       "<!-- Generated by graphviz version 2.38.0 (20140413.2041)\r\n",
       " -->\r\n",
       "<!-- Title: %3 Pages: 1 -->\r\n",
       "<svg width=\"782pt\" height=\"260pt\"\r\n",
       " viewBox=\"0.00 0.00 782.00 260.00\" xmlns=\"http://www.w3.org/2000/svg\" xmlns:xlink=\"http://www.w3.org/1999/xlink\">\r\n",
       "<g id=\"graph0\" class=\"graph\" transform=\"scale(1 1) rotate(0) translate(280 175)\">\r\n",
       "<title>%3</title>\r\n",
       "<polygon fill=\"white\" stroke=\"none\" points=\"-280,85 -280,-175 502,-175 502,85 -280,85\"/>\r\n",
       "<!-- 2598086994296 -->\r\n",
       "<g id=\"node1\" class=\"node\"><title>2598086994296</title>\r\n",
       "<ellipse fill=\"none\" stroke=\"black\" cx=\"-249\" cy=\"-153\" rx=\"27\" ry=\"18\"/>\r\n",
       "<text text-anchor=\"middle\" x=\"-249\" y=\"-149.3\" font-family=\"Times New Roman,serif\" font-size=\"14.00\">&#45;∞</text>\r\n",
       "</g>\r\n",
       "<!-- 2598086994240 -->\r\n",
       "<g id=\"node2\" class=\"node\"><title>2598086994240</title>\r\n",
       "<ellipse fill=\"none\" stroke=\"black\" cx=\"-177\" cy=\"-153\" rx=\"27\" ry=\"18\"/>\r\n",
       "<text text-anchor=\"middle\" x=\"-177\" y=\"-149.3\" font-family=\"Times New Roman,serif\" font-size=\"14.00\">+∞</text>\r\n",
       "</g>\r\n",
       "<!-- 2598086994296&#45;&gt;2598086994240 -->\r\n",
       "<g id=\"edge88\" class=\"edge\"><title>2598086994296&#45;&gt;2598086994240</title>\r\n",
       "<path fill=\"none\" stroke=\"black\" d=\"M-221.78,-153C-219.361,-153 -216.885,-153 -214.401,-153\"/>\r\n",
       "<polygon fill=\"black\" stroke=\"black\" points=\"-214.259,-156.5 -204.259,-153 -214.259,-149.5 -214.259,-156.5\"/>\r\n",
       "</g>\r\n",
       "<!-- 2598086994016 -->\r\n",
       "<g id=\"node3\" class=\"node\"><title>2598086994016</title>\r\n",
       "<ellipse fill=\"none\" stroke=\"black\" cx=\"-249\" cy=\"-81\" rx=\"27\" ry=\"18\"/>\r\n",
       "<text text-anchor=\"middle\" x=\"-249\" y=\"-77.3\" font-family=\"Times New Roman,serif\" font-size=\"14.00\">&#45;∞</text>\r\n",
       "</g>\r\n",
       "<!-- 2598086994296&#45;&gt;2598086994016 -->\r\n",
       "<g id=\"edge89\" class=\"edge\"><title>2598086994296&#45;&gt;2598086994016</title>\r\n",
       "<path fill=\"none\" stroke=\"black\" d=\"M-249,-134.831C-249,-127.131 -249,-117.974 -249,-109.417\"/>\r\n",
       "<polygon fill=\"black\" stroke=\"black\" points=\"-245.5,-109.413 -249,-99.4133 -252.5,-109.413 -245.5,-109.413\"/>\r\n",
       "</g>\r\n",
       "<!-- 2598086994184 -->\r\n",
       "<g id=\"node4\" class=\"node\"><title>2598086994184</title>\r\n",
       "<ellipse fill=\"none\" stroke=\"black\" cx=\"-177\" cy=\"-81\" rx=\"27\" ry=\"18\"/>\r\n",
       "<text text-anchor=\"middle\" x=\"-177\" y=\"-77.3\" font-family=\"Times New Roman,serif\" font-size=\"14.00\">8</text>\r\n",
       "</g>\r\n",
       "<!-- 2598086994016&#45;&gt;2598086994184 -->\r\n",
       "<g id=\"edge86\" class=\"edge\"><title>2598086994016&#45;&gt;2598086994184</title>\r\n",
       "<path fill=\"none\" stroke=\"black\" d=\"M-221.78,-81C-219.361,-81 -216.885,-81 -214.401,-81\"/>\r\n",
       "<polygon fill=\"black\" stroke=\"black\" points=\"-214.259,-84.5001 -204.259,-81 -214.259,-77.5001 -214.259,-84.5001\"/>\r\n",
       "</g>\r\n",
       "<!-- 2598086993736 -->\r\n",
       "<g id=\"node21\" class=\"node\"><title>2598086993736</title>\r\n",
       "<ellipse fill=\"none\" stroke=\"black\" cx=\"-249\" cy=\"-9\" rx=\"27\" ry=\"18\"/>\r\n",
       "<text text-anchor=\"middle\" x=\"-249\" y=\"-5.3\" font-family=\"Times New Roman,serif\" font-size=\"14.00\">&#45;∞</text>\r\n",
       "</g>\r\n",
       "<!-- 2598086994016&#45;&gt;2598086993736 -->\r\n",
       "<g id=\"edge87\" class=\"edge\"><title>2598086994016&#45;&gt;2598086993736</title>\r\n",
       "<path fill=\"none\" stroke=\"black\" d=\"M-249,-62.8314C-249,-55.131 -249,-45.9743 -249,-37.4166\"/>\r\n",
       "<polygon fill=\"black\" stroke=\"black\" points=\"-245.5,-37.4132 -249,-27.4133 -252.5,-37.4133 -245.5,-37.4132\"/>\r\n",
       "</g>\r\n",
       "<!-- 2598086995304 -->\r\n",
       "<g id=\"node5\" class=\"node\"><title>2598086995304</title>\r\n",
       "<ellipse fill=\"none\" stroke=\"black\" cx=\"-105\" cy=\"-81\" rx=\"27\" ry=\"18\"/>\r\n",
       "<text text-anchor=\"middle\" x=\"-105\" y=\"-77.3\" font-family=\"Times New Roman,serif\" font-size=\"14.00\">289</text>\r\n",
       "</g>\r\n",
       "<!-- 2598086994184&#45;&gt;2598086995304 -->\r\n",
       "<g id=\"edge39\" class=\"edge\"><title>2598086994184&#45;&gt;2598086995304</title>\r\n",
       "<path fill=\"none\" stroke=\"black\" d=\"M-149.78,-81C-147.361,-81 -144.885,-81 -142.401,-81\"/>\r\n",
       "<polygon fill=\"black\" stroke=\"black\" points=\"-142.259,-84.5001 -132.259,-81 -142.259,-77.5001 -142.259,-84.5001\"/>\r\n",
       "</g>\r\n",
       "<!-- 2598086994128 -->\r\n",
       "<g id=\"node11\" class=\"node\"><title>2598086994128</title>\r\n",
       "<ellipse fill=\"none\" stroke=\"black\" cx=\"-177\" cy=\"-9\" rx=\"27\" ry=\"18\"/>\r\n",
       "<text text-anchor=\"middle\" x=\"-177\" y=\"-5.3\" font-family=\"Times New Roman,serif\" font-size=\"14.00\">8</text>\r\n",
       "</g>\r\n",
       "<!-- 2598086994184&#45;&gt;2598086994128 -->\r\n",
       "<g id=\"edge40\" class=\"edge\"><title>2598086994184&#45;&gt;2598086994128</title>\r\n",
       "<path fill=\"none\" stroke=\"black\" d=\"M-177,-62.8314C-177,-55.131 -177,-45.9743 -177,-37.4166\"/>\r\n",
       "<polygon fill=\"black\" stroke=\"black\" points=\"-173.5,-37.4132 -177,-27.4133 -180.5,-37.4133 -173.5,-37.4132\"/>\r\n",
       "</g>\r\n",
       "<!-- 2598086993960 -->\r\n",
       "<g id=\"node6\" class=\"node\"><title>2598086993960</title>\r\n",
       "<ellipse fill=\"none\" stroke=\"black\" cx=\"-33\" cy=\"-81\" rx=\"27\" ry=\"18\"/>\r\n",
       "<text text-anchor=\"middle\" x=\"-33\" y=\"-77.3\" font-family=\"Times New Roman,serif\" font-size=\"14.00\">+∞</text>\r\n",
       "</g>\r\n",
       "<!-- 2598086995304&#45;&gt;2598086993960 -->\r\n",
       "<g id=\"edge4\" class=\"edge\"><title>2598086995304&#45;&gt;2598086993960</title>\r\n",
       "<path fill=\"none\" stroke=\"black\" d=\"M-77.7799,-81C-75.3607,-81 -72.8851,-81 -70.4007,-81\"/>\r\n",
       "<polygon fill=\"black\" stroke=\"black\" points=\"-70.2586,-84.5001 -60.2586,-81 -70.2586,-77.5001 -70.2586,-84.5001\"/>\r\n",
       "</g>\r\n",
       "<!-- 2598086995248 -->\r\n",
       "<g id=\"node7\" class=\"node\"><title>2598086995248</title>\r\n",
       "<ellipse fill=\"none\" stroke=\"black\" cx=\"111\" cy=\"-9\" rx=\"27\" ry=\"18\"/>\r\n",
       "<text text-anchor=\"middle\" x=\"111\" y=\"-5.3\" font-family=\"Times New Roman,serif\" font-size=\"14.00\">289</text>\r\n",
       "</g>\r\n",
       "<!-- 2598086995304&#45;&gt;2598086995248 -->\r\n",
       "<g id=\"edge5\" class=\"edge\"><title>2598086995304&#45;&gt;2598086995248</title>\r\n",
       "<path fill=\"none\" stroke=\"black\" d=\"M-80.6419,-72.8806C-42.053,-60.0177 33.2439,-34.9187 77.0896,-20.3035\"/>\r\n",
       "<polygon fill=\"black\" stroke=\"black\" points=\"78.3509,-23.5724 86.7309,-17.0897 76.1373,-16.9316 78.3509,-23.5724\"/>\r\n",
       "</g>\r\n",
       "<!-- 2598086993680 -->\r\n",
       "<g id=\"node8\" class=\"node\"><title>2598086993680</title>\r\n",
       "<ellipse fill=\"none\" stroke=\"black\" cx=\"183\" cy=\"-9\" rx=\"27\" ry=\"18\"/>\r\n",
       "<text text-anchor=\"middle\" x=\"183\" y=\"-5.3\" font-family=\"Times New Roman,serif\" font-size=\"14.00\">+∞</text>\r\n",
       "</g>\r\n",
       "<!-- 2598086995248&#45;&gt;2598086993680 -->\r\n",
       "<g id=\"edge2\" class=\"edge\"><title>2598086995248&#45;&gt;2598086993680</title>\r\n",
       "<path fill=\"none\" stroke=\"black\" d=\"M138.22,-9C140.639,-9 143.115,-9 145.599,-9\"/>\r\n",
       "<polygon fill=\"black\" stroke=\"black\" points=\"145.741,-12.5001 155.741,-9 145.741,-5.5001 145.741,-12.5001\"/>\r\n",
       "</g>\r\n",
       "<!-- 2598086995192 -->\r\n",
       "<g id=\"node9\" class=\"node\"><title>2598086995192</title>\r\n",
       "<ellipse fill=\"none\" stroke=\"black\" cx=\"399\" cy=\"63\" rx=\"27\" ry=\"18\"/>\r\n",
       "<text text-anchor=\"middle\" x=\"399\" y=\"66.7\" font-family=\"Times New Roman,serif\" font-size=\"14.00\">289</text>\r\n",
       "</g>\r\n",
       "<!-- 2598086995248&#45;&gt;2598086995192 -->\r\n",
       "<g id=\"edge3\" class=\"edge\"><title>2598086995248&#45;&gt;2598086995192</title>\r\n",
       "<path fill=\"none\" stroke=\"black\" d=\"M136.306,-2.67358C187.712,10.1779 304.468,39.3671 363.467,54.1167\"/>\r\n",
       "<polygon fill=\"black\" stroke=\"black\" points=\"364.59,50.7897 373.442,56.6106 362.892,57.5807 364.59,50.7897\"/>\r\n",
       "</g>\r\n",
       "<!-- 2598086992448 -->\r\n",
       "<g id=\"node10\" class=\"node\"><title>2598086992448</title>\r\n",
       "<ellipse fill=\"none\" stroke=\"black\" cx=\"471\" cy=\"63\" rx=\"27\" ry=\"18\"/>\r\n",
       "<text text-anchor=\"middle\" x=\"471\" y=\"66.7\" font-family=\"Times New Roman,serif\" font-size=\"14.00\">+∞</text>\r\n",
       "</g>\r\n",
       "<!-- 2598086995192&#45;&gt;2598086992448 -->\r\n",
       "<g id=\"edge1\" class=\"edge\"><title>2598086995192&#45;&gt;2598086992448</title>\r\n",
       "<path fill=\"none\" stroke=\"black\" d=\"M426.22,63C428.639,63 431.115,63 433.599,63\"/>\r\n",
       "<polygon fill=\"black\" stroke=\"black\" points=\"433.741,59.4999 443.741,63 433.741,66.4999 433.741,59.4999\"/>\r\n",
       "</g>\r\n",
       "<!-- 2598086993904 -->\r\n",
       "<g id=\"node12\" class=\"node\"><title>2598086993904</title>\r\n",
       "<ellipse fill=\"none\" stroke=\"black\" cx=\"-105\" cy=\"-9\" rx=\"27\" ry=\"18\"/>\r\n",
       "<text text-anchor=\"middle\" x=\"-105\" y=\"-5.3\" font-family=\"Times New Roman,serif\" font-size=\"14.00\">29</text>\r\n",
       "</g>\r\n",
       "<!-- 2598086994128&#45;&gt;2598086993904 -->\r\n",
       "<g id=\"edge37\" class=\"edge\"><title>2598086994128&#45;&gt;2598086993904</title>\r\n",
       "<path fill=\"none\" stroke=\"black\" d=\"M-149.78,-9C-147.361,-9 -144.885,-9 -142.401,-9\"/>\r\n",
       "<polygon fill=\"black\" stroke=\"black\" points=\"-142.259,-12.5001 -132.259,-9 -142.259,-5.5001 -142.259,-12.5001\"/>\r\n",
       "</g>\r\n",
       "<!-- 2598086994072 -->\r\n",
       "<g id=\"node20\" class=\"node\"><title>2598086994072</title>\r\n",
       "<ellipse fill=\"none\" stroke=\"black\" cx=\"-33\" cy=\"63\" rx=\"27\" ry=\"18\"/>\r\n",
       "<text text-anchor=\"middle\" x=\"-33\" y=\"66.7\" font-family=\"Times New Roman,serif\" font-size=\"14.00\">8</text>\r\n",
       "</g>\r\n",
       "<!-- 2598086994128&#45;&gt;2598086994072 -->\r\n",
       "<g id=\"edge38\" class=\"edge\"><title>2598086994128&#45;&gt;2598086994072</title>\r\n",
       "<path fill=\"none\" stroke=\"black\" d=\"M-155.129,1.93525C-130.778,14.1111 -91.238,33.881 -63.7715,47.6142\"/>\r\n",
       "<polygon fill=\"black\" stroke=\"black\" points=\"-61.9835,44.5951 -54.6045,52.1978 -65.114,50.8561 -61.9835,44.5951\"/>\r\n",
       "</g>\r\n",
       "<!-- 2598086995416 -->\r\n",
       "<g id=\"node13\" class=\"node\"><title>2598086995416</title>\r\n",
       "<ellipse fill=\"none\" stroke=\"black\" cx=\"-33\" cy=\"-9\" rx=\"27\" ry=\"18\"/>\r\n",
       "<text text-anchor=\"middle\" x=\"-33\" y=\"-5.3\" font-family=\"Times New Roman,serif\" font-size=\"14.00\">164</text>\r\n",
       "</g>\r\n",
       "<!-- 2598086993904&#45;&gt;2598086995416 -->\r\n",
       "<g id=\"edge28\" class=\"edge\"><title>2598086993904&#45;&gt;2598086995416</title>\r\n",
       "<path fill=\"none\" stroke=\"black\" d=\"M-77.7799,-9C-75.3607,-9 -72.8851,-9 -70.4007,-9\"/>\r\n",
       "<polygon fill=\"black\" stroke=\"black\" points=\"-70.2586,-12.5001 -60.2586,-9 -70.2586,-5.5001 -70.2586,-12.5001\"/>\r\n",
       "</g>\r\n",
       "<!-- 2598086993848 -->\r\n",
       "<g id=\"node19\" class=\"node\"><title>2598086993848</title>\r\n",
       "<ellipse fill=\"none\" stroke=\"black\" cx=\"39\" cy=\"63\" rx=\"27\" ry=\"18\"/>\r\n",
       "<text text-anchor=\"middle\" x=\"39\" y=\"66.7\" font-family=\"Times New Roman,serif\" font-size=\"14.00\">29</text>\r\n",
       "</g>\r\n",
       "<!-- 2598086993904&#45;&gt;2598086993848 -->\r\n",
       "<g id=\"edge29\" class=\"edge\"><title>2598086993904&#45;&gt;2598086993848</title>\r\n",
       "<path fill=\"none\" stroke=\"black\" d=\"M-83.1295,1.93525C-58.7778,14.1111 -19.238,33.881 8.22848,47.6142\"/>\r\n",
       "<polygon fill=\"black\" stroke=\"black\" points=\"10.0165,44.5951 17.3955,52.1978 6.88595,50.8561 10.0165,44.5951\"/>\r\n",
       "</g>\r\n",
       "<!-- 2598086995024 -->\r\n",
       "<g id=\"node14\" class=\"node\"><title>2598086995024</title>\r\n",
       "<ellipse fill=\"none\" stroke=\"black\" cx=\"39\" cy=\"-9\" rx=\"27\" ry=\"18\"/>\r\n",
       "<text text-anchor=\"middle\" x=\"39\" y=\"-5.3\" font-family=\"Times New Roman,serif\" font-size=\"14.00\">194</text>\r\n",
       "</g>\r\n",
       "<!-- 2598086995416&#45;&gt;2598086995024 -->\r\n",
       "<g id=\"edge20\" class=\"edge\"><title>2598086995416&#45;&gt;2598086995024</title>\r\n",
       "<path fill=\"none\" stroke=\"black\" d=\"M-5.77989,-9C-3.36067,-9 -0.885112,-9 1.59935,-9\"/>\r\n",
       "<polygon fill=\"black\" stroke=\"black\" points=\"1.74143,-12.5001 11.7414,-9 1.74136,-5.5001 1.74143,-12.5001\"/>\r\n",
       "</g>\r\n",
       "<!-- 2598086995360 -->\r\n",
       "<g id=\"node18\" class=\"node\"><title>2598086995360</title>\r\n",
       "<ellipse fill=\"none\" stroke=\"black\" cx=\"111\" cy=\"63\" rx=\"27\" ry=\"18\"/>\r\n",
       "<text text-anchor=\"middle\" x=\"111\" y=\"66.7\" font-family=\"Times New Roman,serif\" font-size=\"14.00\">164</text>\r\n",
       "</g>\r\n",
       "<!-- 2598086995416&#45;&gt;2598086995360 -->\r\n",
       "<g id=\"edge21\" class=\"edge\"><title>2598086995416&#45;&gt;2598086995360</title>\r\n",
       "<path fill=\"none\" stroke=\"black\" d=\"M-11.1295,1.93525C13.2222,14.1111 52.762,33.881 80.2285,47.6142\"/>\r\n",
       "<polygon fill=\"black\" stroke=\"black\" points=\"82.0165,44.5951 89.3955,52.1978 78.886,50.8561 82.0165,44.5951\"/>\r\n",
       "</g>\r\n",
       "<!-- 2598086995024&#45;&gt;2598086995248 -->\r\n",
       "<g id=\"edge13\" class=\"edge\"><title>2598086995024&#45;&gt;2598086995248</title>\r\n",
       "<path fill=\"none\" stroke=\"black\" d=\"M66.2201,-9C68.6393,-9 71.1149,-9 73.5994,-9\"/>\r\n",
       "<polygon fill=\"black\" stroke=\"black\" points=\"73.7414,-12.5001 83.7414,-9 73.7414,-5.5001 73.7414,-12.5001\"/>\r\n",
       "</g>\r\n",
       "<!-- 2598086994912 -->\r\n",
       "<g id=\"node15\" class=\"node\"><title>2598086994912</title>\r\n",
       "<ellipse fill=\"none\" stroke=\"black\" cx=\"183\" cy=\"63\" rx=\"27\" ry=\"18\"/>\r\n",
       "<text text-anchor=\"middle\" x=\"183\" y=\"66.7\" font-family=\"Times New Roman,serif\" font-size=\"14.00\">194</text>\r\n",
       "</g>\r\n",
       "<!-- 2598086995024&#45;&gt;2598086994912 -->\r\n",
       "<g id=\"edge14\" class=\"edge\"><title>2598086995024&#45;&gt;2598086994912</title>\r\n",
       "<path fill=\"none\" stroke=\"black\" d=\"M60.8705,1.93525C85.2222,14.1111 124.762,33.881 152.228,47.6142\"/>\r\n",
       "<polygon fill=\"black\" stroke=\"black\" points=\"154.016,44.5951 161.396,52.1978 150.886,50.8561 154.016,44.5951\"/>\r\n",
       "</g>\r\n",
       "<!-- 2598086995080 -->\r\n",
       "<g id=\"node16\" class=\"node\"><title>2598086995080</title>\r\n",
       "<ellipse fill=\"none\" stroke=\"black\" cx=\"255\" cy=\"63\" rx=\"27\" ry=\"18\"/>\r\n",
       "<text text-anchor=\"middle\" x=\"255\" y=\"66.7\" font-family=\"Times New Roman,serif\" font-size=\"14.00\">204</text>\r\n",
       "</g>\r\n",
       "<!-- 2598086994912&#45;&gt;2598086995080 -->\r\n",
       "<g id=\"edge12\" class=\"edge\"><title>2598086994912&#45;&gt;2598086995080</title>\r\n",
       "<path fill=\"none\" stroke=\"black\" d=\"M210.22,63C212.639,63 215.115,63 217.599,63\"/>\r\n",
       "<polygon fill=\"black\" stroke=\"black\" points=\"217.741,59.4999 227.741,63 217.741,66.4999 217.741,59.4999\"/>\r\n",
       "</g>\r\n",
       "<!-- 2598086995136 -->\r\n",
       "<g id=\"node17\" class=\"node\"><title>2598086995136</title>\r\n",
       "<ellipse fill=\"none\" stroke=\"black\" cx=\"327\" cy=\"63\" rx=\"27\" ry=\"18\"/>\r\n",
       "<text text-anchor=\"middle\" x=\"327\" y=\"66.7\" font-family=\"Times New Roman,serif\" font-size=\"14.00\">279</text>\r\n",
       "</g>\r\n",
       "<!-- 2598086995080&#45;&gt;2598086995136 -->\r\n",
       "<g id=\"edge11\" class=\"edge\"><title>2598086995080&#45;&gt;2598086995136</title>\r\n",
       "<path fill=\"none\" stroke=\"black\" d=\"M282.22,63C284.639,63 287.115,63 289.599,63\"/>\r\n",
       "<polygon fill=\"black\" stroke=\"black\" points=\"289.741,59.4999 299.741,63 289.741,66.4999 289.741,59.4999\"/>\r\n",
       "</g>\r\n",
       "<!-- 2598086995136&#45;&gt;2598086995192 -->\r\n",
       "<g id=\"edge10\" class=\"edge\"><title>2598086995136&#45;&gt;2598086995192</title>\r\n",
       "<path fill=\"none\" stroke=\"black\" d=\"M354.22,63C356.639,63 359.115,63 361.599,63\"/>\r\n",
       "<polygon fill=\"black\" stroke=\"black\" points=\"361.741,59.4999 371.741,63 361.741,66.4999 361.741,59.4999\"/>\r\n",
       "</g>\r\n",
       "<!-- 2598086995360&#45;&gt;2598086994912 -->\r\n",
       "<g id=\"edge19\" class=\"edge\"><title>2598086995360&#45;&gt;2598086994912</title>\r\n",
       "<path fill=\"none\" stroke=\"black\" d=\"M138.22,63C140.639,63 143.115,63 145.599,63\"/>\r\n",
       "<polygon fill=\"black\" stroke=\"black\" points=\"145.741,59.4999 155.741,63 145.741,66.4999 145.741,59.4999\"/>\r\n",
       "</g>\r\n",
       "<!-- 2598086993848&#45;&gt;2598086995360 -->\r\n",
       "<g id=\"edge27\" class=\"edge\"><title>2598086993848&#45;&gt;2598086995360</title>\r\n",
       "<path fill=\"none\" stroke=\"black\" d=\"M66.2201,63C68.6393,63 71.1149,63 73.5994,63\"/>\r\n",
       "<polygon fill=\"black\" stroke=\"black\" points=\"73.7414,59.4999 83.7414,63 73.7414,66.4999 73.7414,59.4999\"/>\r\n",
       "</g>\r\n",
       "<!-- 2598086994072&#45;&gt;2598086993848 -->\r\n",
       "<g id=\"edge36\" class=\"edge\"><title>2598086994072&#45;&gt;2598086993848</title>\r\n",
       "<path fill=\"none\" stroke=\"black\" d=\"M-5.77989,63C-3.36067,63 -0.885112,63 1.59935,63\"/>\r\n",
       "<polygon fill=\"black\" stroke=\"black\" points=\"1.74143,59.4999 11.7414,63 1.74136,66.4999 1.74143,59.4999\"/>\r\n",
       "</g>\r\n",
       "<!-- 2598086993736&#45;&gt;2598086994128 -->\r\n",
       "<g id=\"edge84\" class=\"edge\"><title>2598086993736&#45;&gt;2598086994128</title>\r\n",
       "<path fill=\"none\" stroke=\"black\" d=\"M-221.78,-9C-219.361,-9 -216.885,-9 -214.401,-9\"/>\r\n",
       "<polygon fill=\"black\" stroke=\"black\" points=\"-214.259,-12.5001 -204.259,-9 -214.259,-5.5001 -214.259,-12.5001\"/>\r\n",
       "</g>\r\n",
       "<!-- 2598086992504 -->\r\n",
       "<g id=\"node22\" class=\"node\"><title>2598086992504</title>\r\n",
       "<ellipse fill=\"none\" stroke=\"black\" cx=\"-249\" cy=\"63\" rx=\"27\" ry=\"18\"/>\r\n",
       "<text text-anchor=\"middle\" x=\"-249\" y=\"66.7\" font-family=\"Times New Roman,serif\" font-size=\"14.00\">&#45;∞</text>\r\n",
       "</g>\r\n",
       "<!-- 2598086993736&#45;&gt;2598086992504 -->\r\n",
       "<g id=\"edge85\" class=\"edge\"><title>2598086993736&#45;&gt;2598086992504</title>\r\n",
       "<path fill=\"none\" stroke=\"black\" d=\"M-249,9.16864C-249,16.869 -249,26.0257 -249,34.5834\"/>\r\n",
       "<polygon fill=\"black\" stroke=\"black\" points=\"-245.5,34.5868 -249,44.5867 -252.5,34.5867 -245.5,34.5868\"/>\r\n",
       "</g>\r\n",
       "<!-- 2598086993624 -->\r\n",
       "<g id=\"node23\" class=\"node\"><title>2598086993624</title>\r\n",
       "<ellipse fill=\"none\" stroke=\"black\" cx=\"-177\" cy=\"63\" rx=\"27\" ry=\"18\"/>\r\n",
       "<text text-anchor=\"middle\" x=\"-177\" y=\"66.7\" font-family=\"Times New Roman,serif\" font-size=\"14.00\">&#45;10</text>\r\n",
       "</g>\r\n",
       "<!-- 2598086992504&#45;&gt;2598086993624 -->\r\n",
       "<g id=\"edge83\" class=\"edge\"><title>2598086992504&#45;&gt;2598086993624</title>\r\n",
       "<path fill=\"none\" stroke=\"black\" d=\"M-221.78,63C-219.361,63 -216.885,63 -214.401,63\"/>\r\n",
       "<polygon fill=\"black\" stroke=\"black\" points=\"-214.259,59.4999 -204.259,63 -214.259,66.4999 -214.259,59.4999\"/>\r\n",
       "</g>\r\n",
       "<!-- 2598086993792 -->\r\n",
       "<g id=\"node24\" class=\"node\"><title>2598086993792</title>\r\n",
       "<ellipse fill=\"none\" stroke=\"black\" cx=\"-105\" cy=\"63\" rx=\"27\" ry=\"18\"/>\r\n",
       "<text text-anchor=\"middle\" x=\"-105\" y=\"66.7\" font-family=\"Times New Roman,serif\" font-size=\"14.00\">5</text>\r\n",
       "</g>\r\n",
       "<!-- 2598086993624&#45;&gt;2598086993792 -->\r\n",
       "<g id=\"edge82\" class=\"edge\"><title>2598086993624&#45;&gt;2598086993792</title>\r\n",
       "<path fill=\"none\" stroke=\"black\" d=\"M-149.78,63C-147.361,63 -144.885,63 -142.401,63\"/>\r\n",
       "<polygon fill=\"black\" stroke=\"black\" points=\"-142.259,59.4999 -132.259,63 -142.259,66.4999 -142.259,59.4999\"/>\r\n",
       "</g>\r\n",
       "<!-- 2598086993792&#45;&gt;2598086994072 -->\r\n",
       "<g id=\"edge81\" class=\"edge\"><title>2598086993792&#45;&gt;2598086994072</title>\r\n",
       "<path fill=\"none\" stroke=\"black\" d=\"M-77.7799,63C-75.3607,63 -72.8851,63 -70.4007,63\"/>\r\n",
       "<polygon fill=\"black\" stroke=\"black\" points=\"-70.2586,59.4999 -60.2586,63 -70.2586,66.4999 -70.2586,59.4999\"/>\r\n",
       "</g>\r\n",
       "</g>\r\n",
       "</svg>\r\n"
      ],
      "text/plain": [
       "<__main__.SkipList at 0x25cea0d6208>"
      ]
     },
     "execution_count": 28,
     "metadata": {},
     "output_type": "execute_result"
    }
   ],
   "source": [
    "L"
   ]
  },
  {
   "cell_type": "code",
   "execution_count": 29,
   "metadata": {
    "slideshow": {
     "slide_type": "fragment"
    }
   },
   "outputs": [
    {
     "data": {
      "text/plain": [
       "8"
      ]
     },
     "execution_count": 29,
     "metadata": {},
     "output_type": "execute_result"
    }
   ],
   "source": [
    "L.pred(20)"
   ]
  },
  {
   "cell_type": "markdown",
   "metadata": {
    "slideshow": {
     "slide_type": "slide"
    }
   },
   "source": [
    "# Hash tables"
   ]
  },
  {
   "cell_type": "code",
   "execution_count": 30,
   "metadata": {
    "slideshow": {
     "slide_type": "fragment"
    }
   },
   "outputs": [],
   "source": [
    "filename = 'cs124.csv'\n",
    "# filename = 'CSV_Database_of_Last_Names.csv'\n",
    "\n",
    "import csv\n",
    "students = []\n",
    "with open(filename,encoding='utf8') as csvfile:\n",
    "    dialect = csv.Sniffer().sniff(csvfile.read(1024))\n",
    "    csvfile.seek(0)\n",
    "    reader = csv.reader(csvfile,dialect)\n",
    "    for row in reader:\n",
    "        students += [\"\".join([s.strip() for s in row])]"
   ]
  },
  {
   "cell_type": "code",
   "execution_count": 31,
   "metadata": {
    "slideshow": {
     "slide_type": "skip"
    }
   },
   "outputs": [],
   "source": [
    "students = students[1:]"
   ]
  },
  {
   "cell_type": "code",
   "execution_count": 32,
   "metadata": {
    "slideshow": {
     "slide_type": "fragment"
    }
   },
   "outputs": [
    {
     "data": {
      "text/plain": [
       "283"
      ]
     },
     "execution_count": 32,
     "metadata": {},
     "output_type": "execute_result"
    }
   ],
   "source": [
    "len(students)"
   ]
  },
  {
   "cell_type": "code",
   "execution_count": 33,
   "metadata": {
    "slideshow": {
     "slide_type": "slide"
    }
   },
   "outputs": [],
   "source": [
    "N = 300"
   ]
  },
  {
   "cell_type": "code",
   "execution_count": 34,
   "metadata": {
    "slideshow": {
     "slide_type": "fragment"
    }
   },
   "outputs": [],
   "source": [
    "def letter2number(let): \n",
    "    # Given letter let, returns number from 1 to 26 based on alphabetical order\n",
    "    return ord(let.lower())-ord('a')+1\n",
    "\n",
    "def silly_hash(name):\n",
    "    # Hash  name into a number from 0 to N-1\n",
    "    # N is a global constant\n",
    "    # Simply output first initial (as number from 1 to 26) times the length modulo N \n",
    "    return letter2number(name[0])*len(name) % N"
   ]
  },
  {
   "cell_type": "code",
   "execution_count": 35,
   "metadata": {
    "slideshow": {
     "slide_type": "fragment"
    }
   },
   "outputs": [
    {
     "data": {
      "text/plain": [
       "20"
      ]
     },
     "execution_count": 35,
     "metadata": {},
     "output_type": "execute_result"
    }
   ],
   "source": [
    "silly_hash(\"Boaz Barak\")"
   ]
  },
  {
   "cell_type": "code",
   "execution_count": 36,
   "metadata": {
    "slideshow": {
     "slide_type": "fragment"
    }
   },
   "outputs": [
    {
     "data": {
      "text/plain": [
       "130"
      ]
     },
     "execution_count": 36,
     "metadata": {},
     "output_type": "execute_result"
    }
   ],
   "source": [
    "silly_hash(\"Jelani Nelson\")"
   ]
  },
  {
   "cell_type": "code",
   "execution_count": 37,
   "metadata": {
    "slideshow": {
     "slide_type": "slide"
    }
   },
   "outputs": [
    {
     "name": "stdout",
     "output_type": "stream",
     "text": [
      "[80, 256, 0, 79, 138, 157, 243, 81, 248, 285, 258, 67, 185, 169, 4, 33, 266, 79, 119, 188, 22, 254, 16, 218, 48, 240, 99, 54, 1, 168]\n"
     ]
    }
   ],
   "source": [
    "import random\n",
    "NUMBERS = [random.randint(0,N-1) for i in range(30)]\n",
    "print(NUMBERS)"
   ]
  },
  {
   "cell_type": "code",
   "execution_count": 38,
   "metadata": {
    "slideshow": {
     "slide_type": "fragment"
    }
   },
   "outputs": [],
   "source": [
    "def better_hash(name):\n",
    "    # DISCLAIMER: Despite name, DONT USE IT IN YOUR CODE - \n",
    "    # always use BUILT IN or CRYPTOGRAPHIC hash functions\n",
    "    #\n",
    "    # Hashes name into a number from 0 to N-1\n",
    "    # N is a global constant\n",
    "    # Treat name as a sequence (x0,x1,x2,...) of numbers from 1 to 26\n",
    "    # Return sum of xi*NUMBERS[i] mod N\n",
    "    # NUMBERS is a global constant array of numbers that we chose at random once\n",
    "    # and then fixed once and for all\n",
    "    name = name.replace(' ',\"\") # hack to ensure only letters\n",
    "    return sum([letter2number(name[i])*NUMBERS[i] for i in range(len(name))]) % N\n",
    "    "
   ]
  },
  {
   "cell_type": "code",
   "execution_count": 39,
   "metadata": {
    "slideshow": {
     "slide_type": "fragment"
    }
   },
   "outputs": [
    {
     "data": {
      "text/plain": [
       "170"
      ]
     },
     "execution_count": 39,
     "metadata": {},
     "output_type": "execute_result"
    }
   ],
   "source": [
    "better_hash(\"Boaz Barak\")"
   ]
  },
  {
   "cell_type": "code",
   "execution_count": 40,
   "metadata": {
    "slideshow": {
     "slide_type": "fragment"
    }
   },
   "outputs": [
    {
     "data": {
      "text/plain": [
       "10"
      ]
     },
     "execution_count": 40,
     "metadata": {},
     "output_type": "execute_result"
    }
   ],
   "source": [
    "better_hash(\"Jelani Nelson\")"
   ]
  },
  {
   "cell_type": "code",
   "execution_count": 41,
   "metadata": {
    "slideshow": {
     "slide_type": "fragment"
    }
   },
   "outputs": [
    {
     "data": {
      "text/plain": [
       "10"
      ]
     },
     "execution_count": 41,
     "metadata": {},
     "output_type": "execute_result"
    }
   ],
   "source": [
    "better_hash(\"Jelani Nelson\")"
   ]
  },
  {
   "cell_type": "code",
   "execution_count": 42,
   "metadata": {
    "slideshow": {
     "slide_type": "slide"
    }
   },
   "outputs": [],
   "source": [
    "buckets =  [0]*N\n",
    "for name in students:\n",
    "    buckets[silly_hash(name)] += 1"
   ]
  },
  {
   "cell_type": "code",
   "execution_count": 43,
   "metadata": {
    "slideshow": {
     "slide_type": "skip"
    }
   },
   "outputs": [],
   "source": [
    "%matplotlib inline"
   ]
  },
  {
   "cell_type": "code",
   "execution_count": 44,
   "metadata": {
    "slideshow": {
     "slide_type": "skip"
    }
   },
   "outputs": [],
   "source": [
    "import matplotlib.pyplot as plt"
   ]
  },
  {
   "cell_type": "code",
   "execution_count": 45,
   "metadata": {
    "slideshow": {
     "slide_type": "fragment"
    }
   },
   "outputs": [
    {
     "data": {
      "image/png": "[encoded data removed]",
      "text/plain": [
       "<Figure size 432x288 with 1 Axes>"
      ]
     },
     "metadata": {
      "needs_background": "light"
     },
     "output_type": "display_data"
    }
   ],
   "source": [
    "plt.plot(buckets)\n",
    "plt.xlabel('Buckets')\n",
    "plt.show()"
   ]
  },
  {
   "cell_type": "code",
   "execution_count": 46,
   "metadata": {
    "slideshow": {
     "slide_type": "skip"
    }
   },
   "outputs": [
    {
     "data": {
      "text/plain": [
       "4.293286219081272"
      ]
     },
     "execution_count": 46,
     "metadata": {},
     "output_type": "execute_result"
    }
   ],
   "source": [
    "sum([i*i for i in buckets])/sum(buckets)"
   ]
  },
  {
   "cell_type": "code",
   "execution_count": 47,
   "metadata": {
    "slideshow": {
     "slide_type": "slide"
    }
   },
   "outputs": [],
   "source": [
    "buckets =  [0]*N\n",
    "for name in students:\n",
    "    buckets[better_hash(name) % N] += 1"
   ]
  },
  {
   "cell_type": "code",
   "execution_count": 48,
   "metadata": {
    "slideshow": {
     "slide_type": "fragment"
    }
   },
   "outputs": [
    {
     "data": {
      "image/png": "[encoded data removed]",
      "text/plain": [
       "<Figure size 432x288 with 1 Axes>"
      ]
     },
     "metadata": {
      "needs_background": "light"
     },
     "output_type": "display_data"
    }
   ],
   "source": [
    "plt.plot(buckets)\n",
    "plt.xlabel('Buckets')\n",
    "plt.show()"
   ]
  },
  {
   "cell_type": "code",
   "execution_count": 49,
   "metadata": {
    "slideshow": {
     "slide_type": "skip"
    }
   },
   "outputs": [
    {
     "data": {
      "text/plain": [
       "1.9399293286219081"
      ]
     },
     "execution_count": 49,
     "metadata": {},
     "output_type": "execute_result"
    }
   ],
   "source": [
    "sum([i*i for i in buckets])/sum(buckets)"
   ]
  },
  {
   "cell_type": "markdown",
   "metadata": {
    "slideshow": {
     "slide_type": "slide"
    }
   },
   "source": [
    "# Some issues"
   ]
  },
  {
   "cell_type": "markdown",
   "metadata": {
    "slideshow": {
     "slide_type": "slide"
    }
   },
   "source": [
    "## Semantically equal ≠ Hash equal"
   ]
  },
  {
   "cell_type": "code",
   "execution_count": 50,
   "metadata": {
    "slideshow": {
     "slide_type": "slide"
    }
   },
   "outputs": [
    {
     "data": {
      "text/plain": [
       "170"
      ]
     },
     "execution_count": 50,
     "metadata": {},
     "output_type": "execute_result"
    }
   ],
   "source": [
    "better_hash(\"Boaz Barak\")"
   ]
  },
  {
   "cell_type": "code",
   "execution_count": 51,
   "metadata": {
    "slideshow": {
     "slide_type": "fragment"
    }
   },
   "outputs": [
    {
     "data": {
      "text/plain": [
       "52"
      ]
     },
     "execution_count": 51,
     "metadata": {},
     "output_type": "execute_result"
    }
   ],
   "source": [
    "better_hash(\"Boaz M. Barak\")"
   ]
  },
  {
   "cell_type": "markdown",
   "metadata": {
    "slideshow": {
     "slide_type": "fragment"
    }
   },
   "source": [
    "Need to ensure that $hash(x)=hash(x') \\Leftrightarrow$ $x$ and $x'$ are semantically identical"
   ]
  },
  {
   "cell_type": "markdown",
   "metadata": {
    "slideshow": {
     "slide_type": "slide"
    }
   },
   "source": [
    "## Adversarial data "
   ]
  },
  {
   "cell_type": "markdown",
   "metadata": {
    "slideshow": {
     "slide_type": "fragment"
    }
   },
   "source": [
    "![](hashdos.png)"
   ]
  },
  {
   "cell_type": "markdown",
   "metadata": {
    "slideshow": {
     "slide_type": "slide"
    }
   },
   "source": [
    "If $h:\\{0,1\\}^* \\rightarrow [n]$ is chosen __independently__ of $x_1,\\ldots,x_n$ then expected list size $=O(1)$:\n",
    "\n",
    "$\\Rightarrow$ _total running time_ $=O(n)$."
   ]
  },
  {
   "cell_type": "markdown",
   "metadata": {
    "slideshow": {
     "slide_type": "fragment"
    }
   },
   "source": [
    "If  $x_1,\\ldots,x_n$ chosen __based on__ $h$ then can ensure $h(x_1)=\\ldots = h(x_n)$:\n",
    "\n",
    "$\\Rightarrow$ _total running time_ $=O(n^2)$."
   ]
  },
  {
   "cell_type": "markdown",
   "metadata": {
    "slideshow": {
     "slide_type": "fragment"
    }
   },
   "source": [
    "Used in __denial of service attack__ against PHP, .net, Python, Java, Ruby, Apache,..."
   ]
  },
  {
   "cell_type": "markdown",
   "metadata": {
    "slideshow": {
     "slide_type": "fragment"
    }
   },
   "source": [
    "![](mspatch.png)"
   ]
  }
 ],
 "metadata": {
  "celltoolbar": "Slideshow",
  "kernelspec": {
   "display_name": "Python 3",
   "language": "python",
   "name": "python3"
  },
  "language_info": {
   "codemirror_mode": {
    "name": "ipython",
    "version": 3
   },
   "file_extension": ".py",
   "mimetype": "text/x-python",
   "name": "python",
   "nbconvert_exporter": "python",
   "pygments_lexer": "ipython3",
   "version": "3.7.2"
  }
 },
 "nbformat": 4,
 "nbformat_minor": 2
}
