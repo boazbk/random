{
 "cells": [
  {
   "cell_type": "markdown",
   "metadata": {
    "slideshow": {
     "slide_type": "slide"
    }
   },
   "source": [
    "# CS 124 Lecture: Skip Lists and Hash Table\n",
    "\n",
    "__Boaz Barak__\n",
    "\n",
    "April 1, 2019"
   ]
  },
  {
   "cell_type": "markdown",
   "metadata": {
    "slideshow": {
     "slide_type": "slide"
    }
   },
   "source": [
    "# Skip lists"
   ]
  },
  {
   "cell_type": "code",
   "execution_count": 167,
   "metadata": {
    "slideshow": {
     "slide_type": "skip"
    }
   },
   "outputs": [],
   "source": [
    "import graphviz\n",
    "from graphviz import Graph\n",
    "from graphviz import Digraph\n",
    "# Graph visualization library - requires graphviz on your system\n",
    "# On Anaconda can install by\n",
    "# conda install -c anaconda graphviz  (or download at https://www.graphviz.org/download/ )\n",
    "# conda install -c conda-forge python-graphviz"
   ]
  },
  {
   "cell_type": "code",
   "execution_count": 168,
   "metadata": {
    "slideshow": {
     "slide_type": "skip"
    }
   },
   "outputs": [],
   "source": [
    "import random"
   ]
  },
  {
   "cell_type": "code",
   "execution_count": 169,
   "metadata": {
    "slideshow": {
     "slide_type": "skip"
    }
   },
   "outputs": [],
   "source": [
    "def method(cls,f):\n",
    "    setattr(cls,f.__name__,f)"
   ]
  },
  {
   "cell_type": "code",
   "execution_count": 170,
   "metadata": {
    "slideshow": {
     "slide_type": "fragment"
    }
   },
   "outputs": [],
   "source": [
    "INF = 100000000 # Our proxy for \"infinity\""
   ]
  },
  {
   "cell_type": "code",
   "execution_count": 171,
   "metadata": {
    "slideshow": {
     "slide_type": "skip"
    }
   },
   "outputs": [],
   "source": [
    "PRINT_COIN = True\n",
    "\n",
    "def coin():\n",
    "    \"\"\"Toss random coin\"\"\"\n",
    "    c =  random.choice([0,1])\n",
    "    if PRINT_COIN: print([\"TAIL\",\"HEAD\"][c], end= \" \")\n",
    "    return c"
   ]
  },
  {
   "cell_type": "code",
   "execution_count": 172,
   "metadata": {
    "slideshow": {
     "slide_type": "slide"
    }
   },
   "outputs": [],
   "source": [
    "class Node:\n",
    "    \"\"\"A node in a skip list. \n",
    "    Contains the key and pointers to right and down neighbors.\"\"\"\n",
    "    def __init__(self,key,right=None,down=None): \n",
    "        self.key = key\n",
    "        self.right = right\n",
    "        self.down = down\n"
   ]
  },
  {
   "cell_type": "code",
   "execution_count": 173,
   "metadata": {
    "slideshow": {
     "slide_type": "fragment"
    }
   },
   "outputs": [],
   "source": [
    "class SkipList:\n",
    "    \"\"\"A skip list contains the pointer to its top left node.\n",
    "    It is initialized with top-left's key = -∞ and its right neighbor's key = +∞ \"\"\"\n",
    "    def __init__(self):\n",
    "        topright = Node(+INF)\n",
    "        self.topleft = Node(-INF,topright)"
   ]
  },
  {
   "cell_type": "code",
   "execution_count": 174,
   "metadata": {
    "slideshow": {
     "slide_type": "skip"
    }
   },
   "outputs": [],
   "source": [
    "counter = 0\n",
    "\n",
    "def valstr(v):\n",
    "    if v>=INF: return \"+∞\"\n",
    "    if v<=-INF: return \"-∞\"\n",
    "    return str(v)\n",
    "\n",
    "def list2graph(G,n,x=0,y=0):\n",
    "    if not n: return None\n",
    "    global counter\n",
    "    counter += 1\n",
    "    vertex = str(id(n))\n",
    "    G.node(vertex,valstr(n.key), pos = f\"{x},{y}!\")\n",
    "    right = list2graph(G,n.right,x+1,y)\n",
    "    down = list2graph(G,n.down,x,y-1)\n",
    "    if right: G.edge(vertex,right)\n",
    "    if down: G.edge(vertex,down)\n",
    "    return vertex\n",
    "\n",
    "def _repr_svg_(self):\n",
    "    G =Digraph(engine=\"neato\",graph_attr= {\"concentrate\":\"true\"} )\n",
    "    list2graph(G,self.topleft)\n",
    "    return G._repr_svg_()\n",
    "\n",
    "method(SkipList,_repr_svg_)"
   ]
  },
  {
   "cell_type": "code",
   "execution_count": 175,
   "metadata": {
    "slideshow": {
     "slide_type": "slide"
    }
   },
   "outputs": [],
   "source": [
    "def pred_(n,val):\n",
    "    \"\"\"Predecessor query main function: \n",
    "    Given n, find the node to the right and down from n with key ≤ val\"\"\"\n",
    "    if n.right.key<=val: return pred_(n.right,val) # move right\n",
    "    if not n.down: return n # return n if at bottom level \n",
    "    return pred_(n.down,val) # move down"
   ]
  },
  {
   "cell_type": "code",
   "execution_count": 176,
   "metadata": {
    "slideshow": {
     "slide_type": "fragment"
    }
   },
   "outputs": [],
   "source": [
    "def pred(self,val):\n",
    "    \"\"\"To compute predecessor on list, run pred_ on the topleft node.\"\"\"\n",
    "    return pred_(self.topleft,val).key"
   ]
  },
  {
   "cell_type": "code",
   "execution_count": 177,
   "metadata": {
    "slideshow": {
     "slide_type": "skip"
    }
   },
   "outputs": [],
   "source": [
    "method(SkipList,pred)"
   ]
  },
  {
   "cell_type": "code",
   "execution_count": 178,
   "metadata": {
    "slideshow": {
     "slide_type": "slide"
    }
   },
   "outputs": [],
   "source": [
    "def insert_(n,val):\n",
    "    \"\"\"Add a node with key val to the right and down of node n\n",
    "    Return \"STOP\" if there is no promotion\"\"\"\n",
    "    if not n: return None\n",
    "    if n.right.key <= val: return insert_(n.right,val) # move right\n",
    "    \n",
    "    v = insert_(n.down,val)\n",
    "    if v==\"STOP\": return v # no promotion - propagate this back\n",
    "    \n",
    "    # stick temp between n and n.right, temp points down to v:\n",
    "    temp = Node(val,n.right,v) \n",
    "    n.right = temp\n",
    "    if coin(): return temp # promote temp\n",
    "    return \"STOP\" # no promotion"
   ]
  },
  {
   "cell_type": "code",
   "execution_count": 179,
   "metadata": {
    "slideshow": {
     "slide_type": "fragment"
    }
   },
   "outputs": [],
   "source": [
    "def insert(self,val):\n",
    "    \"\"\"Add a value to the list\"\"\"\n",
    "    insert_(self.topleft,val)\n",
    "    if self.topleft.right.key < +INF: # make sure top level always -∞,+∞ \n",
    "        topright = Node(+INF)\n",
    "        self.topleft = Node(-INF,topright,self.topleft)\n",
    "    return self"
   ]
  },
  {
   "cell_type": "code",
   "execution_count": 180,
   "metadata": {
    "slideshow": {
     "slide_type": "skip"
    }
   },
   "outputs": [],
   "source": [
    "method(SkipList,insert)"
   ]
  },
  {
   "cell_type": "code",
   "execution_count": 181,
   "metadata": {
    "scrolled": true,
    "slideshow": {
     "slide_type": "slide"
    }
   },
   "outputs": [
    {
     "data": {
      "image/svg+xml": [
       "<?xml version=\"1.0\" encoding=\"UTF-8\" standalone=\"no\"?>\r\n",
       "<!DOCTYPE svg PUBLIC \"-//W3C//DTD SVG 1.1//EN\"\r\n",
       " \"http://www.w3.org/Graphics/SVG/1.1/DTD/svg11.dtd\">\r\n",
       "<!-- Generated by graphviz version 2.38.0 (20140413.2041)\r\n",
       " -->\r\n",
       "<!-- Title: %3 Pages: 1 -->\r\n",
       "<svg width=\"134pt\" height=\"44pt\"\r\n",
       " viewBox=\"0.00 0.00 134.00 44.00\" xmlns=\"http://www.w3.org/2000/svg\" xmlns:xlink=\"http://www.w3.org/1999/xlink\">\r\n",
       "<g id=\"graph0\" class=\"graph\" transform=\"scale(1 1) rotate(0) translate(67 22)\">\r\n",
       "<title>%3</title>\r\n",
       "<polygon fill=\"white\" stroke=\"none\" points=\"-67,22 -67,-22 67,-22 67,22 -67,22\"/>\r\n",
       "<!-- 2598125512352 -->\r\n",
       "<g id=\"node1\" class=\"node\"><title>2598125512352</title>\r\n",
       "<ellipse fill=\"none\" stroke=\"black\" cx=\"-36\" cy=\"-0\" rx=\"27\" ry=\"18\"/>\r\n",
       "<text text-anchor=\"middle\" x=\"-36\" y=\"3.7\" font-family=\"Times New Roman,serif\" font-size=\"14.00\">&#45;∞</text>\r\n",
       "</g>\r\n",
       "<!-- 2598125514424 -->\r\n",
       "<g id=\"node2\" class=\"node\"><title>2598125514424</title>\r\n",
       "<ellipse fill=\"none\" stroke=\"black\" cx=\"36\" cy=\"-0\" rx=\"27\" ry=\"18\"/>\r\n",
       "<text text-anchor=\"middle\" x=\"36\" y=\"3.7\" font-family=\"Times New Roman,serif\" font-size=\"14.00\">+∞</text>\r\n",
       "</g>\r\n",
       "<!-- 2598125512352&#45;&gt;2598125514424 -->\r\n",
       "<g id=\"edge1\" class=\"edge\"><title>2598125512352&#45;&gt;2598125514424</title>\r\n",
       "<path fill=\"none\" stroke=\"black\" d=\"M-8.77989,-0C-6.36067,-0 -3.88511,-0 -1.40065,-0\"/>\r\n",
       "<polygon fill=\"black\" stroke=\"black\" points=\"-1.25857,-3.5001 8.7414,-0 -1.25864,3.4999 -1.25857,-3.5001\"/>\r\n",
       "</g>\r\n",
       "</g>\r\n",
       "</svg>\r\n"
      ],
      "text/plain": [
       "<__main__.SkipList at 0x25cec5929e8>"
      ]
     },
     "execution_count": 181,
     "metadata": {},
     "output_type": "execute_result"
    }
   ],
   "source": [
    "L = SkipList()\n",
    "L"
   ]
  },
  {
   "cell_type": "code",
   "execution_count": 182,
   "metadata": {
    "slideshow": {
     "slide_type": "fragment"
    }
   },
   "outputs": [
    {
     "name": "stdout",
     "output_type": "stream",
     "text": [
      "HEAD "
     ]
    },
    {
     "data": {
      "image/svg+xml": [
       "<?xml version=\"1.0\" encoding=\"UTF-8\" standalone=\"no\"?>\r\n",
       "<!DOCTYPE svg PUBLIC \"-//W3C//DTD SVG 1.1//EN\"\r\n",
       " \"http://www.w3.org/Graphics/SVG/1.1/DTD/svg11.dtd\">\r\n",
       "<!-- Generated by graphviz version 2.38.0 (20140413.2041)\r\n",
       " -->\r\n",
       "<!-- Title: %3 Pages: 1 -->\r\n",
       "<svg width=\"206pt\" height=\"116pt\"\r\n",
       " viewBox=\"0.00 0.00 206.00 116.00\" xmlns=\"http://www.w3.org/2000/svg\" xmlns:xlink=\"http://www.w3.org/1999/xlink\">\r\n",
       "<g id=\"graph0\" class=\"graph\" transform=\"scale(1 1) rotate(0) translate(88.6 65.2)\">\r\n",
       "<title>%3</title>\r\n",
       "<polygon fill=\"white\" stroke=\"none\" points=\"-88.6,50.8 -88.6,-65.2 117.4,-65.2 117.4,50.8 -88.6,50.8\"/>\r\n",
       "<!-- 2598125514480 -->\r\n",
       "<g id=\"node1\" class=\"node\"><title>2598125514480</title>\r\n",
       "<ellipse fill=\"none\" stroke=\"black\" cx=\"-57.6\" cy=\"-43.2\" rx=\"27\" ry=\"18\"/>\r\n",
       "<text text-anchor=\"middle\" x=\"-57.6\" y=\"-39.5\" font-family=\"Times New Roman,serif\" font-size=\"14.00\">&#45;∞</text>\r\n",
       "</g>\r\n",
       "<!-- 2598125514592 -->\r\n",
       "<g id=\"node2\" class=\"node\"><title>2598125514592</title>\r\n",
       "<ellipse fill=\"none\" stroke=\"black\" cx=\"14.4\" cy=\"-43.2\" rx=\"27\" ry=\"18\"/>\r\n",
       "<text text-anchor=\"middle\" x=\"14.4\" y=\"-39.5\" font-family=\"Times New Roman,serif\" font-size=\"14.00\">+∞</text>\r\n",
       "</g>\r\n",
       "<!-- 2598125514480&#45;&gt;2598125514592 -->\r\n",
       "<g id=\"edge3\" class=\"edge\"><title>2598125514480&#45;&gt;2598125514592</title>\r\n",
       "<path fill=\"none\" stroke=\"black\" d=\"M-30.3799,-43.2C-27.9607,-43.2 -25.4851,-43.2 -23.0006,-43.2\"/>\r\n",
       "<polygon fill=\"black\" stroke=\"black\" points=\"-22.8586,-46.7001 -12.8586,-43.2 -22.8586,-39.7001 -22.8586,-46.7001\"/>\r\n",
       "</g>\r\n",
       "<!-- 2598125512352 -->\r\n",
       "<g id=\"node3\" class=\"node\"><title>2598125512352</title>\r\n",
       "<ellipse fill=\"none\" stroke=\"black\" cx=\"-57.6\" cy=\"28.8\" rx=\"27\" ry=\"18\"/>\r\n",
       "<text text-anchor=\"middle\" x=\"-57.6\" y=\"32.5\" font-family=\"Times New Roman,serif\" font-size=\"14.00\">&#45;∞</text>\r\n",
       "</g>\r\n",
       "<!-- 2598125514480&#45;&gt;2598125512352 -->\r\n",
       "<g id=\"edge4\" class=\"edge\"><title>2598125514480&#45;&gt;2598125512352</title>\r\n",
       "<path fill=\"none\" stroke=\"black\" d=\"M-57.6,-25.0314C-57.6,-17.331 -57.6,-8.17435 -57.6,0.383366\"/>\r\n",
       "<polygon fill=\"black\" stroke=\"black\" points=\"-54.0999,0.386768 -57.6,10.3867 -61.0999,0.386698 -54.0999,0.386768\"/>\r\n",
       "</g>\r\n",
       "<!-- 2598125513248 -->\r\n",
       "<g id=\"node4\" class=\"node\"><title>2598125513248</title>\r\n",
       "<ellipse fill=\"none\" stroke=\"black\" cx=\"14.4\" cy=\"28.8\" rx=\"27\" ry=\"18\"/>\r\n",
       "<text text-anchor=\"middle\" x=\"14.4\" y=\"32.5\" font-family=\"Times New Roman,serif\" font-size=\"14.00\">11</text>\r\n",
       "</g>\r\n",
       "<!-- 2598125512352&#45;&gt;2598125513248 -->\r\n",
       "<g id=\"edge2\" class=\"edge\"><title>2598125512352&#45;&gt;2598125513248</title>\r\n",
       "<path fill=\"none\" stroke=\"black\" d=\"M-30.3799,28.8C-27.9607,28.8 -25.4851,28.8 -23.0006,28.8\"/>\r\n",
       "<polygon fill=\"black\" stroke=\"black\" points=\"-22.8586,25.2999 -12.8586,28.8 -22.8586,32.2999 -22.8586,25.2999\"/>\r\n",
       "</g>\r\n",
       "<!-- 2598125514424 -->\r\n",
       "<g id=\"node5\" class=\"node\"><title>2598125514424</title>\r\n",
       "<ellipse fill=\"none\" stroke=\"black\" cx=\"86.4\" cy=\"28.8\" rx=\"27\" ry=\"18\"/>\r\n",
       "<text text-anchor=\"middle\" x=\"86.4\" y=\"32.5\" font-family=\"Times New Roman,serif\" font-size=\"14.00\">+∞</text>\r\n",
       "</g>\r\n",
       "<!-- 2598125513248&#45;&gt;2598125514424 -->\r\n",
       "<g id=\"edge1\" class=\"edge\"><title>2598125513248&#45;&gt;2598125514424</title>\r\n",
       "<path fill=\"none\" stroke=\"black\" d=\"M41.6201,28.8C44.0393,28.8 46.5149,28.8 48.9994,28.8\"/>\r\n",
       "<polygon fill=\"black\" stroke=\"black\" points=\"49.1414,25.2999 59.1414,28.8 49.1414,32.2999 49.1414,25.2999\"/>\r\n",
       "</g>\r\n",
       "</g>\r\n",
       "</svg>\r\n"
      ],
      "text/plain": [
       "<__main__.SkipList at 0x25cec5929e8>"
      ]
     },
     "execution_count": 182,
     "metadata": {},
     "output_type": "execute_result"
    }
   ],
   "source": [
    "L.insert(11)\n",
    "L"
   ]
  },
  {
   "cell_type": "code",
   "execution_count": 183,
   "metadata": {
    "slideshow": {
     "slide_type": "slide"
    }
   },
   "outputs": [],
   "source": [
    "PRINT_COIN = False\n",
    "for i in range(5):\n",
    "    L.insert(random.randint(1,300))"
   ]
  },
  {
   "cell_type": "code",
   "execution_count": 184,
   "metadata": {
    "scrolled": true,
    "slideshow": {
     "slide_type": "fragment"
    }
   },
   "outputs": [
    {
     "data": {
      "image/svg+xml": [
       "<?xml version=\"1.0\" encoding=\"UTF-8\" standalone=\"no\"?>\r\n",
       "<!DOCTYPE svg PUBLIC \"-//W3C//DTD SVG 1.1//EN\"\r\n",
       " \"http://www.w3.org/Graphics/SVG/1.1/DTD/svg11.dtd\">\r\n",
       "<!-- Generated by graphviz version 2.38.0 (20140413.2041)\r\n",
       " -->\r\n",
       "<!-- Title: %3 Pages: 1 -->\r\n",
       "<svg width=\"638pt\" height=\"260pt\"\r\n",
       " viewBox=\"0.00 0.00 638.00 260.00\" xmlns=\"http://www.w3.org/2000/svg\" xmlns:xlink=\"http://www.w3.org/1999/xlink\">\r\n",
       "<g id=\"graph0\" class=\"graph\" transform=\"scale(1 1) rotate(0) translate(215 174)\">\r\n",
       "<title>%3</title>\r\n",
       "<polygon fill=\"white\" stroke=\"none\" points=\"-215,86 -215,-174 423,-174 423,86 -215,86\"/>\r\n",
       "<!-- 2598125707896 -->\r\n",
       "<g id=\"node1\" class=\"node\"><title>2598125707896</title>\r\n",
       "<ellipse fill=\"none\" stroke=\"black\" cx=\"-184\" cy=\"-152\" rx=\"27\" ry=\"18\"/>\r\n",
       "<text text-anchor=\"middle\" x=\"-184\" y=\"-148.3\" font-family=\"Times New Roman,serif\" font-size=\"14.00\">&#45;∞</text>\r\n",
       "</g>\r\n",
       "<!-- 2598125707336 -->\r\n",
       "<g id=\"node2\" class=\"node\"><title>2598125707336</title>\r\n",
       "<ellipse fill=\"none\" stroke=\"black\" cx=\"-112\" cy=\"-152\" rx=\"27\" ry=\"18\"/>\r\n",
       "<text text-anchor=\"middle\" x=\"-112\" y=\"-148.3\" font-family=\"Times New Roman,serif\" font-size=\"14.00\">+∞</text>\r\n",
       "</g>\r\n",
       "<!-- 2598125707896&#45;&gt;2598125707336 -->\r\n",
       "<g id=\"edge27\" class=\"edge\"><title>2598125707896&#45;&gt;2598125707336</title>\r\n",
       "<path fill=\"none\" stroke=\"black\" d=\"M-156.78,-152C-154.361,-152 -151.885,-152 -149.401,-152\"/>\r\n",
       "<polygon fill=\"black\" stroke=\"black\" points=\"-149.259,-155.5 -139.259,-152 -149.259,-148.5 -149.259,-155.5\"/>\r\n",
       "</g>\r\n",
       "<!-- 2598125710472 -->\r\n",
       "<g id=\"node3\" class=\"node\"><title>2598125710472</title>\r\n",
       "<ellipse fill=\"none\" stroke=\"black\" cx=\"-184\" cy=\"-80\" rx=\"27\" ry=\"18\"/>\r\n",
       "<text text-anchor=\"middle\" x=\"-184\" y=\"-76.3\" font-family=\"Times New Roman,serif\" font-size=\"14.00\">&#45;∞</text>\r\n",
       "</g>\r\n",
       "<!-- 2598125707896&#45;&gt;2598125710472 -->\r\n",
       "<g id=\"edge28\" class=\"edge\"><title>2598125707896&#45;&gt;2598125710472</title>\r\n",
       "<path fill=\"none\" stroke=\"black\" d=\"M-184,-133.831C-184,-126.131 -184,-116.974 -184,-108.417\"/>\r\n",
       "<polygon fill=\"black\" stroke=\"black\" points=\"-180.5,-108.413 -184,-98.4133 -187.5,-108.413 -180.5,-108.413\"/>\r\n",
       "</g>\r\n",
       "<!-- 2598125707728 -->\r\n",
       "<g id=\"node4\" class=\"node\"><title>2598125707728</title>\r\n",
       "<ellipse fill=\"none\" stroke=\"black\" cx=\"-112\" cy=\"-80\" rx=\"27\" ry=\"18\"/>\r\n",
       "<text text-anchor=\"middle\" x=\"-112\" y=\"-76.3\" font-family=\"Times New Roman,serif\" font-size=\"14.00\">231</text>\r\n",
       "</g>\r\n",
       "<!-- 2598125710472&#45;&gt;2598125707728 -->\r\n",
       "<g id=\"edge25\" class=\"edge\"><title>2598125710472&#45;&gt;2598125707728</title>\r\n",
       "<path fill=\"none\" stroke=\"black\" d=\"M-156.78,-80C-154.361,-80 -151.885,-80 -149.401,-80\"/>\r\n",
       "<polygon fill=\"black\" stroke=\"black\" points=\"-149.259,-83.5001 -139.259,-80 -149.259,-76.5001 -149.259,-83.5001\"/>\r\n",
       "</g>\r\n",
       "<!-- 2598125514480 -->\r\n",
       "<g id=\"node10\" class=\"node\"><title>2598125514480</title>\r\n",
       "<ellipse fill=\"none\" stroke=\"black\" cx=\"-184\" cy=\"-8\" rx=\"27\" ry=\"18\"/>\r\n",
       "<text text-anchor=\"middle\" x=\"-184\" y=\"-4.3\" font-family=\"Times New Roman,serif\" font-size=\"14.00\">&#45;∞</text>\r\n",
       "</g>\r\n",
       "<!-- 2598125710472&#45;&gt;2598125514480 -->\r\n",
       "<g id=\"edge26\" class=\"edge\"><title>2598125710472&#45;&gt;2598125514480</title>\r\n",
       "<path fill=\"none\" stroke=\"black\" d=\"M-184,-61.8314C-184,-54.131 -184,-44.9743 -184,-36.4166\"/>\r\n",
       "<polygon fill=\"black\" stroke=\"black\" points=\"-180.5,-36.4132 -184,-26.4133 -187.5,-36.4133 -180.5,-36.4132\"/>\r\n",
       "</g>\r\n",
       "<!-- 2598125708960 -->\r\n",
       "<g id=\"node5\" class=\"node\"><title>2598125708960</title>\r\n",
       "<ellipse fill=\"none\" stroke=\"black\" cx=\"-40\" cy=\"-80\" rx=\"27\" ry=\"18\"/>\r\n",
       "<text text-anchor=\"middle\" x=\"-40\" y=\"-76.3\" font-family=\"Times New Roman,serif\" font-size=\"14.00\">+∞</text>\r\n",
       "</g>\r\n",
       "<!-- 2598125707728&#45;&gt;2598125708960 -->\r\n",
       "<g id=\"edge4\" class=\"edge\"><title>2598125707728&#45;&gt;2598125708960</title>\r\n",
       "<path fill=\"none\" stroke=\"black\" d=\"M-84.7799,-80C-82.3607,-80 -79.8851,-80 -77.4007,-80\"/>\r\n",
       "<polygon fill=\"black\" stroke=\"black\" points=\"-77.2586,-83.5001 -67.2586,-80 -77.2586,-76.5001 -77.2586,-83.5001\"/>\r\n",
       "</g>\r\n",
       "<!-- 2598125707448 -->\r\n",
       "<g id=\"node6\" class=\"node\"><title>2598125707448</title>\r\n",
       "<ellipse fill=\"none\" stroke=\"black\" cx=\"-40\" cy=\"-8\" rx=\"27\" ry=\"18\"/>\r\n",
       "<text text-anchor=\"middle\" x=\"-40\" y=\"-4.3\" font-family=\"Times New Roman,serif\" font-size=\"14.00\">231</text>\r\n",
       "</g>\r\n",
       "<!-- 2598125707728&#45;&gt;2598125707448 -->\r\n",
       "<g id=\"edge5\" class=\"edge\"><title>2598125707728&#45;&gt;2598125707448</title>\r\n",
       "<path fill=\"none\" stroke=\"black\" d=\"M-96.7307,-64.7307C-86.803,-54.803 -73.6847,-41.6847 -62.5637,-30.5637\"/>\r\n",
       "<polygon fill=\"black\" stroke=\"black\" points=\"-59.8436,-32.7933 -55.2473,-23.2473 -64.7933,-27.8436 -59.8436,-32.7933\"/>\r\n",
       "</g>\r\n",
       "<!-- 2598125514592 -->\r\n",
       "<g id=\"node7\" class=\"node\"><title>2598125514592</title>\r\n",
       "<ellipse fill=\"none\" stroke=\"black\" cx=\"32\" cy=\"-8\" rx=\"27\" ry=\"18\"/>\r\n",
       "<text text-anchor=\"middle\" x=\"32\" y=\"-4.3\" font-family=\"Times New Roman,serif\" font-size=\"14.00\">+∞</text>\r\n",
       "</g>\r\n",
       "<!-- 2598125707448&#45;&gt;2598125514592 -->\r\n",
       "<g id=\"edge2\" class=\"edge\"><title>2598125707448&#45;&gt;2598125514592</title>\r\n",
       "<path fill=\"none\" stroke=\"black\" d=\"M-12.7799,-8C-10.3607,-8 -7.88511,-8 -5.40065,-8\"/>\r\n",
       "<polygon fill=\"black\" stroke=\"black\" points=\"-5.25857,-11.5001 4.7414,-8 -5.25864,-4.5001 -5.25857,-11.5001\"/>\r\n",
       "</g>\r\n",
       "<!-- 2598125707672 -->\r\n",
       "<g id=\"node8\" class=\"node\"><title>2598125707672</title>\r\n",
       "<ellipse fill=\"none\" stroke=\"black\" cx=\"320\" cy=\"64\" rx=\"27\" ry=\"18\"/>\r\n",
       "<text text-anchor=\"middle\" x=\"320\" y=\"67.7\" font-family=\"Times New Roman,serif\" font-size=\"14.00\">231</text>\r\n",
       "</g>\r\n",
       "<!-- 2598125707448&#45;&gt;2598125707672 -->\r\n",
       "<g id=\"edge3\" class=\"edge\"><title>2598125707448&#45;&gt;2598125707672</title>\r\n",
       "<path fill=\"none\" stroke=\"black\" d=\"M-14.1097,-2.82194C49.0458,9.80916 211.144,42.2287 283.811,56.7621\"/>\r\n",
       "<polygon fill=\"black\" stroke=\"black\" points=\"284.741,53.3788 293.861,58.7721 283.368,60.2429 284.741,53.3788\"/>\r\n",
       "</g>\r\n",
       "<!-- 2598125514424 -->\r\n",
       "<g id=\"node9\" class=\"node\"><title>2598125514424</title>\r\n",
       "<ellipse fill=\"none\" stroke=\"black\" cx=\"392\" cy=\"64\" rx=\"27\" ry=\"18\"/>\r\n",
       "<text text-anchor=\"middle\" x=\"392\" y=\"67.7\" font-family=\"Times New Roman,serif\" font-size=\"14.00\">+∞</text>\r\n",
       "</g>\r\n",
       "<!-- 2598125707672&#45;&gt;2598125514424 -->\r\n",
       "<g id=\"edge1\" class=\"edge\"><title>2598125707672&#45;&gt;2598125514424</title>\r\n",
       "<path fill=\"none\" stroke=\"black\" d=\"M347.22,64C349.639,64 352.115,64 354.599,64\"/>\r\n",
       "<polygon fill=\"black\" stroke=\"black\" points=\"354.741,60.4999 364.741,64 354.741,67.4999 354.741,60.4999\"/>\r\n",
       "</g>\r\n",
       "<!-- 2598125710080 -->\r\n",
       "<g id=\"node11\" class=\"node\"><title>2598125710080</title>\r\n",
       "<ellipse fill=\"none\" stroke=\"black\" cx=\"-112\" cy=\"-8\" rx=\"27\" ry=\"18\"/>\r\n",
       "<text text-anchor=\"middle\" x=\"-112\" y=\"-4.3\" font-family=\"Times New Roman,serif\" font-size=\"14.00\">144</text>\r\n",
       "</g>\r\n",
       "<!-- 2598125514480&#45;&gt;2598125710080 -->\r\n",
       "<g id=\"edge23\" class=\"edge\"><title>2598125514480&#45;&gt;2598125710080</title>\r\n",
       "<path fill=\"none\" stroke=\"black\" d=\"M-156.78,-8C-154.361,-8 -151.885,-8 -149.401,-8\"/>\r\n",
       "<polygon fill=\"black\" stroke=\"black\" points=\"-149.259,-11.5001 -139.259,-8 -149.259,-4.5001 -149.259,-11.5001\"/>\r\n",
       "</g>\r\n",
       "<!-- 2598125512352 -->\r\n",
       "<g id=\"node15\" class=\"node\"><title>2598125512352</title>\r\n",
       "<ellipse fill=\"none\" stroke=\"black\" cx=\"-184\" cy=\"64\" rx=\"27\" ry=\"18\"/>\r\n",
       "<text text-anchor=\"middle\" x=\"-184\" y=\"67.7\" font-family=\"Times New Roman,serif\" font-size=\"14.00\">&#45;∞</text>\r\n",
       "</g>\r\n",
       "<!-- 2598125514480&#45;&gt;2598125512352 -->\r\n",
       "<g id=\"edge24\" class=\"edge\"><title>2598125514480&#45;&gt;2598125512352</title>\r\n",
       "<path fill=\"none\" stroke=\"black\" d=\"M-184,10.1686C-184,17.869 -184,27.0257 -184,35.5834\"/>\r\n",
       "<polygon fill=\"black\" stroke=\"black\" points=\"-180.5,35.5868 -184,45.5867 -187.5,35.5867 -180.5,35.5868\"/>\r\n",
       "</g>\r\n",
       "<!-- 2598125710080&#45;&gt;2598125707448 -->\r\n",
       "<g id=\"edge13\" class=\"edge\"><title>2598125710080&#45;&gt;2598125707448</title>\r\n",
       "<path fill=\"none\" stroke=\"black\" d=\"M-84.7799,-8C-82.3607,-8 -79.8851,-8 -77.4007,-8\"/>\r\n",
       "<polygon fill=\"black\" stroke=\"black\" points=\"-77.2586,-11.5001 -67.2586,-8 -77.2586,-4.5001 -77.2586,-11.5001\"/>\r\n",
       "</g>\r\n",
       "<!-- 2598125709408 -->\r\n",
       "<g id=\"node12\" class=\"node\"><title>2598125709408</title>\r\n",
       "<ellipse fill=\"none\" stroke=\"black\" cx=\"104\" cy=\"64\" rx=\"27\" ry=\"18\"/>\r\n",
       "<text text-anchor=\"middle\" x=\"104\" y=\"67.7\" font-family=\"Times New Roman,serif\" font-size=\"14.00\">144</text>\r\n",
       "</g>\r\n",
       "<!-- 2598125710080&#45;&gt;2598125709408 -->\r\n",
       "<g id=\"edge14\" class=\"edge\"><title>2598125710080&#45;&gt;2598125709408</title>\r\n",
       "<path fill=\"none\" stroke=\"black\" d=\"M-87.6419,0.119357C-49.053,12.9823 26.2439,38.0813 70.0896,52.6965\"/>\r\n",
       "<polygon fill=\"black\" stroke=\"black\" points=\"71.3509,49.4276 79.7309,55.9103 69.1373,56.0684 71.3509,49.4276\"/>\r\n",
       "</g>\r\n",
       "<!-- 2598125707504 -->\r\n",
       "<g id=\"node13\" class=\"node\"><title>2598125707504</title>\r\n",
       "<ellipse fill=\"none\" stroke=\"black\" cx=\"176\" cy=\"64\" rx=\"27\" ry=\"18\"/>\r\n",
       "<text text-anchor=\"middle\" x=\"176\" y=\"67.7\" font-family=\"Times New Roman,serif\" font-size=\"14.00\">179</text>\r\n",
       "</g>\r\n",
       "<!-- 2598125709408&#45;&gt;2598125707504 -->\r\n",
       "<g id=\"edge12\" class=\"edge\"><title>2598125709408&#45;&gt;2598125707504</title>\r\n",
       "<path fill=\"none\" stroke=\"black\" d=\"M131.22,64C133.639,64 136.115,64 138.599,64\"/>\r\n",
       "<polygon fill=\"black\" stroke=\"black\" points=\"138.741,60.4999 148.741,64 138.741,67.4999 138.741,60.4999\"/>\r\n",
       "</g>\r\n",
       "<!-- 2598125707392 -->\r\n",
       "<g id=\"node14\" class=\"node\"><title>2598125707392</title>\r\n",
       "<ellipse fill=\"none\" stroke=\"black\" cx=\"248\" cy=\"64\" rx=\"27\" ry=\"18\"/>\r\n",
       "<text text-anchor=\"middle\" x=\"248\" y=\"67.7\" font-family=\"Times New Roman,serif\" font-size=\"14.00\">218</text>\r\n",
       "</g>\r\n",
       "<!-- 2598125707504&#45;&gt;2598125707392 -->\r\n",
       "<g id=\"edge11\" class=\"edge\"><title>2598125707504&#45;&gt;2598125707392</title>\r\n",
       "<path fill=\"none\" stroke=\"black\" d=\"M203.22,64C205.639,64 208.115,64 210.599,64\"/>\r\n",
       "<polygon fill=\"black\" stroke=\"black\" points=\"210.741,60.4999 220.741,64 210.741,67.4999 210.741,60.4999\"/>\r\n",
       "</g>\r\n",
       "<!-- 2598125707392&#45;&gt;2598125707672 -->\r\n",
       "<g id=\"edge10\" class=\"edge\"><title>2598125707392&#45;&gt;2598125707672</title>\r\n",
       "<path fill=\"none\" stroke=\"black\" d=\"M275.22,64C277.639,64 280.115,64 282.599,64\"/>\r\n",
       "<polygon fill=\"black\" stroke=\"black\" points=\"282.741,60.4999 292.741,64 282.741,67.4999 282.741,60.4999\"/>\r\n",
       "</g>\r\n",
       "<!-- 2598125513248 -->\r\n",
       "<g id=\"node16\" class=\"node\"><title>2598125513248</title>\r\n",
       "<ellipse fill=\"none\" stroke=\"black\" cx=\"-112\" cy=\"64\" rx=\"27\" ry=\"18\"/>\r\n",
       "<text text-anchor=\"middle\" x=\"-112\" y=\"67.7\" font-family=\"Times New Roman,serif\" font-size=\"14.00\">11</text>\r\n",
       "</g>\r\n",
       "<!-- 2598125512352&#45;&gt;2598125513248 -->\r\n",
       "<g id=\"edge22\" class=\"edge\"><title>2598125512352&#45;&gt;2598125513248</title>\r\n",
       "<path fill=\"none\" stroke=\"black\" d=\"M-156.78,64C-154.361,64 -151.885,64 -149.401,64\"/>\r\n",
       "<polygon fill=\"black\" stroke=\"black\" points=\"-149.259,60.4999 -139.259,64 -149.259,67.4999 -149.259,60.4999\"/>\r\n",
       "</g>\r\n",
       "<!-- 2598125642584 -->\r\n",
       "<g id=\"node17\" class=\"node\"><title>2598125642584</title>\r\n",
       "<ellipse fill=\"none\" stroke=\"black\" cx=\"-40\" cy=\"64\" rx=\"27\" ry=\"18\"/>\r\n",
       "<text text-anchor=\"middle\" x=\"-40\" y=\"67.7\" font-family=\"Times New Roman,serif\" font-size=\"14.00\">12</text>\r\n",
       "</g>\r\n",
       "<!-- 2598125513248&#45;&gt;2598125642584 -->\r\n",
       "<g id=\"edge21\" class=\"edge\"><title>2598125513248&#45;&gt;2598125642584</title>\r\n",
       "<path fill=\"none\" stroke=\"black\" d=\"M-84.7799,64C-82.3607,64 -79.8851,64 -77.4007,64\"/>\r\n",
       "<polygon fill=\"black\" stroke=\"black\" points=\"-77.2586,60.4999 -67.2586,64 -77.2586,67.4999 -77.2586,60.4999\"/>\r\n",
       "</g>\r\n",
       "<!-- 2598125710192 -->\r\n",
       "<g id=\"node18\" class=\"node\"><title>2598125710192</title>\r\n",
       "<ellipse fill=\"none\" stroke=\"black\" cx=\"32\" cy=\"64\" rx=\"27\" ry=\"18\"/>\r\n",
       "<text text-anchor=\"middle\" x=\"32\" y=\"67.7\" font-family=\"Times New Roman,serif\" font-size=\"14.00\">140</text>\r\n",
       "</g>\r\n",
       "<!-- 2598125642584&#45;&gt;2598125710192 -->\r\n",
       "<g id=\"edge20\" class=\"edge\"><title>2598125642584&#45;&gt;2598125710192</title>\r\n",
       "<path fill=\"none\" stroke=\"black\" d=\"M-12.7799,64C-10.3607,64 -7.88511,64 -5.40065,64\"/>\r\n",
       "<polygon fill=\"black\" stroke=\"black\" points=\"-5.25857,60.4999 4.7414,64 -5.25864,67.4999 -5.25857,60.4999\"/>\r\n",
       "</g>\r\n",
       "<!-- 2598125710192&#45;&gt;2598125709408 -->\r\n",
       "<g id=\"edge19\" class=\"edge\"><title>2598125710192&#45;&gt;2598125709408</title>\r\n",
       "<path fill=\"none\" stroke=\"black\" d=\"M59.2201,64C61.6393,64 64.1149,64 66.5994,64\"/>\r\n",
       "<polygon fill=\"black\" stroke=\"black\" points=\"66.7414,60.4999 76.7414,64 66.7414,67.4999 66.7414,60.4999\"/>\r\n",
       "</g>\r\n",
       "</g>\r\n",
       "</svg>\r\n"
      ],
      "text/plain": [
       "<__main__.SkipList at 0x25cec5929e8>"
      ]
     },
     "execution_count": 184,
     "metadata": {},
     "output_type": "execute_result"
    }
   ],
   "source": [
    "L.insert(12)"
   ]
  },
  {
   "cell_type": "code",
   "execution_count": 185,
   "metadata": {
    "slideshow": {
     "slide_type": "fragment"
    }
   },
   "outputs": [
    {
     "data": {
      "text/plain": [
       "12"
      ]
     },
     "execution_count": 185,
     "metadata": {},
     "output_type": "execute_result"
    }
   ],
   "source": [
    "L.pred(14)"
   ]
  },
  {
   "cell_type": "code",
   "execution_count": 186,
   "metadata": {
    "slideshow": {
     "slide_type": "skip"
    }
   },
   "outputs": [],
   "source": [
    "PRINT_COIN = True"
   ]
  },
  {
   "cell_type": "markdown",
   "metadata": {
    "slideshow": {
     "slide_type": "slide"
    }
   },
   "source": [
    "# Hash tables"
   ]
  },
  {
   "cell_type": "code",
   "execution_count": 187,
   "metadata": {
    "slideshow": {
     "slide_type": "fragment"
    }
   },
   "outputs": [],
   "source": [
    "filename = 'cs124.csv'\n",
    "# filename = 'CSV_Database_of_Last_Names.csv'\n",
    "\n",
    "import csv\n",
    "students = []\n",
    "with open(filename,encoding='utf8') as csvfile:\n",
    "    dialect = csv.Sniffer().sniff(csvfile.read(1024))\n",
    "    csvfile.seek(0)\n",
    "    reader = csv.reader(csvfile,dialect)\n",
    "    for row in reader:\n",
    "        students += [\"\".join([s.strip() for s in row])]"
   ]
  },
  {
   "cell_type": "code",
   "execution_count": 188,
   "metadata": {
    "slideshow": {
     "slide_type": "skip"
    }
   },
   "outputs": [],
   "source": [
    "students = students[1:]"
   ]
  },
  {
   "cell_type": "code",
   "execution_count": 189,
   "metadata": {
    "slideshow": {
     "slide_type": "fragment"
    }
   },
   "outputs": [
    {
     "data": {
      "text/plain": [
       "283"
      ]
     },
     "execution_count": 189,
     "metadata": {},
     "output_type": "execute_result"
    }
   ],
   "source": [
    "len(students)"
   ]
  },
  {
   "cell_type": "code",
   "execution_count": 248,
   "metadata": {
    "slideshow": {
     "slide_type": "slide"
    }
   },
   "outputs": [],
   "source": [
    "N = 307 # nice prime number slightly bigger than 283"
   ]
  },
  {
   "cell_type": "code",
   "execution_count": 249,
   "metadata": {
    "slideshow": {
     "slide_type": "fragment"
    }
   },
   "outputs": [],
   "source": [
    "def letter2number(let): \n",
    "    # Given letter let, returns number from 1 to 26 based on alphabetical order\n",
    "    return ord(let.lower())-ord('a')+1\n",
    "\n",
    "def silly_hash(name):\n",
    "    # Hash  name into a number from 0 to N-1\n",
    "    # N is a global constant\n",
    "    # Simply output first initial (as number from 1 to 26) times the length modulo N \n",
    "    return letter2number(name[0])*len(name) % N"
   ]
  },
  {
   "cell_type": "code",
   "execution_count": 250,
   "metadata": {
    "slideshow": {
     "slide_type": "fragment"
    }
   },
   "outputs": [
    {
     "data": {
      "text/plain": [
       "20"
      ]
     },
     "execution_count": 250,
     "metadata": {},
     "output_type": "execute_result"
    }
   ],
   "source": [
    "silly_hash(\"Boaz Barak\")"
   ]
  },
  {
   "cell_type": "code",
   "execution_count": 251,
   "metadata": {
    "slideshow": {
     "slide_type": "fragment"
    }
   },
   "outputs": [
    {
     "data": {
      "text/plain": [
       "130"
      ]
     },
     "execution_count": 251,
     "metadata": {},
     "output_type": "execute_result"
    }
   ],
   "source": [
    "silly_hash(\"Jelani Nelson\")"
   ]
  },
  {
   "cell_type": "code",
   "execution_count": 252,
   "metadata": {
    "slideshow": {
     "slide_type": "slide"
    }
   },
   "outputs": [],
   "source": [
    "buckets =  [0]*N\n",
    "for name in students:\n",
    "    buckets[silly_hash(name)] += 1"
   ]
  },
  {
   "cell_type": "code",
   "execution_count": 253,
   "metadata": {
    "slideshow": {
     "slide_type": "skip"
    }
   },
   "outputs": [],
   "source": [
    "%matplotlib inline"
   ]
  },
  {
   "cell_type": "code",
   "execution_count": 254,
   "metadata": {
    "slideshow": {
     "slide_type": "skip"
    }
   },
   "outputs": [],
   "source": [
    "import matplotlib.pyplot as plt"
   ]
  },
  {
   "cell_type": "code",
   "execution_count": 255,
   "metadata": {
    "slideshow": {
     "slide_type": "fragment"
    }
   },
   "outputs": [
    {
     "data": {
      "image/png": "[encoded data removed]",
      "text/plain": [
       "<Figure size 432x288 with 1 Axes>"
      ]
     },
     "metadata": {
      "needs_background": "light"
     },
     "output_type": "display_data"
    }
   ],
   "source": [
    "# Silly hash bucket distribution\n",
    "plt.plot(buckets); plt.xlabel('Buckets'); plt.show()"
   ]
  },
  {
   "cell_type": "code",
   "execution_count": 256,
   "metadata": {
    "slideshow": {
     "slide_type": "skip"
    }
   },
   "outputs": [
    {
     "data": {
      "text/plain": [
       "4.19434628975265"
      ]
     },
     "execution_count": 256,
     "metadata": {},
     "output_type": "execute_result"
    }
   ],
   "source": [
    "sum([i*i for i in buckets])/sum(buckets)"
   ]
  },
  {
   "cell_type": "code",
   "execution_count": 273,
   "metadata": {
    "slideshow": {
     "slide_type": "slide"
    }
   },
   "outputs": [],
   "source": [
    "NUMBERS = [random.randint(0,N-1) for i in range(30)]"
   ]
  },
  {
   "cell_type": "code",
   "execution_count": 274,
   "metadata": {
    "slideshow": {
     "slide_type": "slide"
    }
   },
   "outputs": [
    {
     "name": "stdout",
     "output_type": "stream",
     "text": [
      "[196, 290, 37, 185, 141, 57, 32, 249, 96, 199, 14, 247, 306, 283, 189, 113, 124, 37, 190, 140, 271, 276, 142, 53, 200, 300, 220, 141, 58, 287]\n"
     ]
    }
   ],
   "source": [
    "print(NUMBERS)"
   ]
  },
  {
   "cell_type": "code",
   "execution_count": 275,
   "metadata": {
    "slideshow": {
     "slide_type": "fragment"
    }
   },
   "outputs": [],
   "source": [
    "def better_hash(name):\n",
    "    # DISCLAIMER: Despite name, DONT USE IT IN YOUR CODE - \n",
    "    # always use BUILT IN or CRYPTOGRAPHIC hash functions\n",
    "    #\n",
    "    # Hashes name into a number from 0 to N-1\n",
    "    # N is a global constant\n",
    "    # Treat name as a sequence (x0,x1,x2,...) of numbers from 1 to 26\n",
    "    # Return sum of xi*NUMBERS[i] mod N\n",
    "    # NUMBERS is a global constant array of numbers that we chose at random once\n",
    "    # and then fixed once and for all\n",
    "    name = name.replace(' ',\"\") # hack to ensure only letters\n",
    "    return sum([letter2number(name[i])*NUMBERS[i] for i in range(len(name))]) % N\n",
    "    "
   ]
  },
  {
   "cell_type": "code",
   "execution_count": 276,
   "metadata": {
    "slideshow": {
     "slide_type": "fragment"
    }
   },
   "outputs": [
    {
     "data": {
      "text/plain": [
       "143"
      ]
     },
     "execution_count": 276,
     "metadata": {},
     "output_type": "execute_result"
    }
   ],
   "source": [
    "better_hash(\"Boaz Barak\")"
   ]
  },
  {
   "cell_type": "code",
   "execution_count": 277,
   "metadata": {
    "slideshow": {
     "slide_type": "fragment"
    }
   },
   "outputs": [
    {
     "data": {
      "text/plain": [
       "242"
      ]
     },
     "execution_count": 277,
     "metadata": {},
     "output_type": "execute_result"
    }
   ],
   "source": [
    "better_hash(\"Jelani Nelson\")"
   ]
  },
  {
   "cell_type": "code",
   "execution_count": 278,
   "metadata": {
    "slideshow": {
     "slide_type": "fragment"
    }
   },
   "outputs": [
    {
     "data": {
      "text/plain": [
       "242"
      ]
     },
     "execution_count": 278,
     "metadata": {},
     "output_type": "execute_result"
    }
   ],
   "source": [
    "better_hash(\"Jelani Nelson\")"
   ]
  },
  {
   "cell_type": "code",
   "execution_count": 279,
   "metadata": {
    "slideshow": {
     "slide_type": "slide"
    }
   },
   "outputs": [],
   "source": [
    "buckets =  [0]*N\n",
    "for name in students:\n",
    "    buckets[better_hash(name) % N] += 1"
   ]
  },
  {
   "cell_type": "code",
   "execution_count": 280,
   "metadata": {
    "slideshow": {
     "slide_type": "fragment"
    }
   },
   "outputs": [
    {
     "data": {
      "image/png": "[encoded data removed]",
      "text/plain": [
       "<Figure size 432x288 with 1 Axes>"
      ]
     },
     "metadata": {
      "needs_background": "light"
     },
     "output_type": "display_data"
    }
   ],
   "source": [
    "# Better hash bucket distribution\n",
    "plt.plot(buckets); plt.xlabel('Buckets'); plt.show()"
   ]
  },
  {
   "cell_type": "code",
   "execution_count": 281,
   "metadata": {
    "slideshow": {
     "slide_type": "skip"
    }
   },
   "outputs": [
    {
     "data": {
      "text/plain": [
       "1.9328621908127208"
      ]
     },
     "execution_count": 281,
     "metadata": {},
     "output_type": "execute_result"
    }
   ],
   "source": [
    "sum([i*i for i in buckets])/sum(buckets)"
   ]
  },
  {
   "cell_type": "markdown",
   "metadata": {
    "slideshow": {
     "slide_type": "slide"
    }
   },
   "source": [
    "# Some issues"
   ]
  },
  {
   "cell_type": "markdown",
   "metadata": {
    "slideshow": {
     "slide_type": "slide"
    }
   },
   "source": [
    "## Semantically equal ≠ Hash equal"
   ]
  },
  {
   "cell_type": "code",
   "execution_count": 282,
   "metadata": {
    "slideshow": {
     "slide_type": "fragment"
    }
   },
   "outputs": [
    {
     "data": {
      "text/plain": [
       "143"
      ]
     },
     "execution_count": 282,
     "metadata": {},
     "output_type": "execute_result"
    }
   ],
   "source": [
    "better_hash(\"Boaz Barak\")"
   ]
  },
  {
   "cell_type": "code",
   "execution_count": 283,
   "metadata": {
    "slideshow": {
     "slide_type": "fragment"
    }
   },
   "outputs": [
    {
     "data": {
      "text/plain": [
       "221"
      ]
     },
     "execution_count": 283,
     "metadata": {},
     "output_type": "execute_result"
    }
   ],
   "source": [
    "better_hash(\"Boaz M. Barak\")"
   ]
  },
  {
   "cell_type": "markdown",
   "metadata": {
    "slideshow": {
     "slide_type": "fragment"
    }
   },
   "source": [
    "Need to ensure that $hash(x)=hash(x') \\Leftrightarrow$ $x$ and $x'$ are semantically identical"
   ]
  },
  {
   "cell_type": "markdown",
   "metadata": {
    "slideshow": {
     "slide_type": "slide"
    }
   },
   "source": [
    "## Adversarial data "
   ]
  },
  {
   "cell_type": "markdown",
   "metadata": {
    "slideshow": {
     "slide_type": "fragment"
    }
   },
   "source": [
    "![](hashdos.png)"
   ]
  },
  {
   "cell_type": "markdown",
   "metadata": {
    "slideshow": {
     "slide_type": "slide"
    }
   },
   "source": [
    "If $h:\\{0,1\\}^* \\rightarrow [n]$ is chosen __independently__ of $x_1,\\ldots,x_n$ then expected list size $=O(1)$:\n",
    "\n",
    "$\\Rightarrow$ _total running time_ $=O(n)$."
   ]
  },
  {
   "cell_type": "markdown",
   "metadata": {
    "slideshow": {
     "slide_type": "fragment"
    }
   },
   "source": [
    "If  $x_1,\\ldots,x_n$ chosen __based on__ $h$ then can ensure $h(x_1)=\\ldots = h(x_n)$:\n",
    "\n",
    "$\\Rightarrow$ _total running time_ $=O(n^2)$."
   ]
  },
  {
   "cell_type": "markdown",
   "metadata": {
    "slideshow": {
     "slide_type": "fragment"
    }
   },
   "source": [
    "Used in __denial of service attack__ against PHP, .net, Python, Java, Ruby, Apache,..."
   ]
  },
  {
   "cell_type": "markdown",
   "metadata": {
    "slideshow": {
     "slide_type": "fragment"
    }
   },
   "source": [
    "![](mspatch.png)"
   ]
  }
 ],
 "metadata": {
  "celltoolbar": "Slideshow",
  "kernelspec": {
   "display_name": "Python 3",
   "language": "python",
   "name": "python3"
  },
  "language_info": {
   "codemirror_mode": {
    "name": "ipython",
    "version": 3
   },
   "file_extension": ".py",
   "mimetype": "text/x-python",
   "name": "python",
   "nbconvert_exporter": "python",
   "pygments_lexer": "ipython3",
   "version": "3.7.2"
  }
 },
 "nbformat": 4,
 "nbformat_minor": 2
}
